{
 "cells": [
  {
   "cell_type": "code",
   "execution_count": 1,
   "id": "ca420cc5",
   "metadata": {},
   "outputs": [],
   "source": [
    "from mle import negative_log_lik, CGMY\n",
    "import numpy as np\n",
    "import pandas as pd\n",
    "from scipy.optimize import minimize\n",
    "import matplotlib.pyplot as plt\n",
    "from joblib import Parallel, delayed\n",
    "import os"
   ]
  },
  {
   "cell_type": "code",
   "execution_count": 2,
   "id": "4767d02c",
   "metadata": {},
   "outputs": [],
   "source": [
    "np.set_printoptions(precision=4, suppress=False)"
   ]
  },
  {
   "cell_type": "code",
   "execution_count": 3,
   "id": "232a32a6",
   "metadata": {},
   "outputs": [],
   "source": [
    "DATA_FOLDER = \"../data\""
   ]
  },
  {
   "cell_type": "code",
   "execution_count": 4,
   "id": "977c640d",
   "metadata": {},
   "outputs": [],
   "source": [
    "def load_returns(path, start_date=None, end_date=None):\n",
    "    df = pd.read_csv(f\"{DATA_FOLDER}/{path}\")\n",
    "    df[\"Date\"] = pd.to_datetime(df[\"Date\"])\n",
    "    df.index = df[\"Date\"]\n",
    "    col = \"Close\" if \"Last Price\" not in df.columns else \"Last Price\"\n",
    "    df = df.filter([col])\n",
    "    df = df.sort_index()\n",
    "    if start_date is not None and end_date is not None:\n",
    "        df = df[(df.index >= start_date) & (df.index <= end_date)]\n",
    "    rets = np.log(df[col]).diff().dropna()\n",
    "    return rets"
   ]
  },
  {
   "cell_type": "code",
   "execution_count": null,
   "id": "9556437c",
   "metadata": {},
   "outputs": [],
   "source": [
    "def load_orderbook_trades(freq):\n",
    "    \"\"\"\n",
    "    Load the trades from the orderbook dataset\n",
    "    freq : str, the frequency of the data\n",
    "    \"\"\"\n",
    "    path_to_orderbook = f\"{DATA_FOLDER}/orderbook\"\n",
    "    files = os.listdir(path_to_orderbook)\n",
    "    L = []\n",
    "\n",
    "    # Load the prices for each day\n",
    "    for file in files:\n",
    "        if \"message\" not in file:\n",
    "            continue\n",
    "\n",
    "        updates = pd.read_csv(\n",
    "            f\"{path_to_orderbook}/{file}\",\n",
    "            names=[\"time\", \"type\", \"order_id\", \"volume\", \"price\", \"direction\", \"null\"],\n",
    "            low_memory=False,\n",
    "        )\n",
    "        trades = updates[updates[\"type\"] == 4]  # select trades\n",
    "        trades = trades.reset_index().drop(columns=\"index\")\n",
    "        base_date = pd.to_datetime(\n",
    "            file.split(\"_\")[1]\n",
    "        )  # find the date in the name of the file\n",
    "        trades[\"time\"] = base_date + pd.to_timedelta(\n",
    "            trades[\"time\"], unit=\"s\"\n",
    "        )  # retrieve the correct timstamp\n",
    "        trades = trades.filter([\"time\", \"price\"])\n",
    "        trades.index = trades[\"time\"]\n",
    "        trades = trades.sort_index()\n",
    "        trades_freq = trades.groupby(\n",
    "            pd.Grouper(key=\"time\", freq=freq) # group by frequency\n",
    "        ).last()    # select last trade for each frequency\n",
    "\n",
    "        # create a full range of seconds for the trading day (assuming 9:30–16:00)\n",
    "        market_open = base_date + pd.Timedelta(hours=9, minutes=30)\n",
    "        market_close = base_date + pd.Timedelta(hours=16)\n",
    "        all_seconds = pd.date_range(start=market_open, end=market_close, freq=freq)\n",
    "\n",
    "        # reindex trades onto full timeline\n",
    "        trades_full = (\n",
    "            trades_freq.reindex(all_seconds)  # insert all missing seconds\n",
    "            .rename_axis(\"time\")\n",
    "            .reset_index()\n",
    "        )\n",
    "\n",
    "        # handle missing prices: leave NaN, or forward-fill if appropriate\n",
    "        trades_full[\"price\"] = trades_full[\"price\"].ffill()\n",
    "        L.append(trades_full)\n",
    "    \n",
    "    trades = pd.concat(L)  # concatenate all the dates\n",
    "    trades.index = trades['time']\n",
    "    trades = trades.sort_index()\n",
    "    trades[\"rets\"] = np.log(trades[\"price\"]).diff()\n",
    "    \n",
    "\n",
    "    return trades[\"rets\"].dropna()"
   ]
  },
  {
   "cell_type": "code",
   "execution_count": 50,
   "id": "23ce5642",
   "metadata": {},
   "outputs": [],
   "source": [
    "def optim_parall(data, periods=1, seed=123):\n",
    "    np.random.seed(seed)\n",
    "    c = np.random.uniform(1e-5, 200)\n",
    "    g = np.random.uniform(1, 200)\n",
    "    m = np.random.uniform(1, 200)\n",
    "    y = np.random.uniform(-5, 1.9)\n",
    "    sigma = np.random.uniform(1e-5, 0.1)\n",
    "    res = minimize(\n",
    "        lambda x: negative_log_lik(x, data, periods),\n",
    "        x0=[c, g, m, y, sigma],\n",
    "        bounds=[\n",
    "            (1e-3, np.inf),\n",
    "            (1, np.inf),\n",
    "            (1, np.inf),\n",
    "            (-5, 1.9),\n",
    "            (1e-5, 0.1),\n",
    "        ]\n",
    "    )\n",
    "    \n",
    "    return res"
   ]
  },
  {
   "cell_type": "code",
   "execution_count": 7,
   "id": "3ff180ca",
   "metadata": {},
   "outputs": [],
   "source": [
    "start_date = pd.Timestamp(\"2021-07-01\")\n",
    "end_date = pd.Timestamp(\"2025-06-30\")"
   ]
  },
  {
   "cell_type": "markdown",
   "id": "23d386a1",
   "metadata": {},
   "source": [
    "SPX Index Daily"
   ]
  },
  {
   "cell_type": "code",
   "execution_count": 26,
   "id": "9007fcd7",
   "metadata": {},
   "outputs": [],
   "source": [
    "spx_rets_day = load_returns(\"SPX_D.csv\", start_date=start_date, end_date=end_date)"
   ]
  },
  {
   "cell_type": "code",
   "execution_count": 27,
   "id": "6bc9cfc6",
   "metadata": {},
   "outputs": [
    {
     "name": "stderr",
     "output_type": "stream",
     "text": [
      "/Users/raphael/Documents/cours/Imperial College/thesis/cgmy_estimation/src/mle.py:45: RuntimeWarning: overflow encountered in exp\n",
      "  return np.exp(logits)\n",
      "/Users/raphael/Documents/cours/Imperial College/thesis/cgmy_estimation/src/mle.py:50: RuntimeWarning: invalid value encountered in multiply\n",
      "  res *= np.exp(1j * self.mu * u * t)\n",
      "/Users/raphael/Documents/cours/Imperial College/thesis/cgmy_estimation/src/mle.py:51: RuntimeWarning: invalid value encountered in multiply\n",
      "  res *= np.exp(-0.5 * t * (self.sigma * u) ** 2)\n",
      "/Users/raphael/Documents/cours/Imperial College/thesis/cgmy_estimation/src/mle.py:45: RuntimeWarning: overflow encountered in exp\n",
      "  return np.exp(logits)\n",
      "/Users/raphael/Documents/cours/Imperial College/thesis/cgmy_estimation/src/mle.py:50: RuntimeWarning: invalid value encountered in multiply\n",
      "  res *= np.exp(1j * self.mu * u * t)\n",
      "/Users/raphael/Documents/cours/Imperial College/thesis/cgmy_estimation/src/mle.py:51: RuntimeWarning: invalid value encountered in multiply\n",
      "  res *= np.exp(-0.5 * t * (self.sigma * u) ** 2)\n",
      "/Users/raphael/Documents/cours/Imperial College/thesis/cgmy_estimation/src/mle.py:45: RuntimeWarning: overflow encountered in exp\n",
      "  return np.exp(logits)\n",
      "/Users/raphael/Documents/cours/Imperial College/thesis/cgmy_estimation/src/mle.py:50: RuntimeWarning: invalid value encountered in multiply\n",
      "  res *= np.exp(1j * self.mu * u * t)\n",
      "/Users/raphael/Documents/cours/Imperial College/thesis/cgmy_estimation/src/mle.py:51: RuntimeWarning: invalid value encountered in multiply\n",
      "  res *= np.exp(-0.5 * t * (self.sigma * u) ** 2)\n",
      "/Users/raphael/Documents/cours/Imperial College/thesis/cgmy_estimation/src/mle.py:45: RuntimeWarning: overflow encountered in exp\n",
      "  return np.exp(logits)\n",
      "/Users/raphael/Documents/cours/Imperial College/thesis/cgmy_estimation/src/mle.py:50: RuntimeWarning: invalid value encountered in multiply\n",
      "  res *= np.exp(1j * self.mu * u * t)\n",
      "/Users/raphael/Documents/cours/Imperial College/thesis/cgmy_estimation/src/mle.py:51: RuntimeWarning: invalid value encountered in multiply\n",
      "  res *= np.exp(-0.5 * t * (self.sigma * u) ** 2)\n",
      "/Users/raphael/Documents/cours/Imperial College/thesis/cgmy_estimation/src/mle.py:45: RuntimeWarning: overflow encountered in exp\n",
      "  return np.exp(logits)\n",
      "/Users/raphael/Documents/cours/Imperial College/thesis/cgmy_estimation/src/mle.py:50: RuntimeWarning: invalid value encountered in multiply\n",
      "  res *= np.exp(1j * self.mu * u * t)\n",
      "/Users/raphael/Documents/cours/Imperial College/thesis/cgmy_estimation/src/mle.py:51: RuntimeWarning: invalid value encountered in multiply\n",
      "  res *= np.exp(-0.5 * t * (self.sigma * u) ** 2)\n",
      "/Users/raphael/Documents/cours/Imperial College/thesis/cgmy_estimation/src/mle.py:45: RuntimeWarning: overflow encountered in exp\n",
      "  return np.exp(logits)\n",
      "/Users/raphael/Documents/cours/Imperial College/thesis/cgmy_estimation/src/mle.py:50: RuntimeWarning: invalid value encountered in multiply\n",
      "  res *= np.exp(1j * self.mu * u * t)\n",
      "/Users/raphael/Documents/cours/Imperial College/thesis/cgmy_estimation/src/mle.py:51: RuntimeWarning: invalid value encountered in multiply\n",
      "  res *= np.exp(-0.5 * t * (self.sigma * u) ** 2)\n",
      "/Users/raphael/Documents/cours/Imperial College/thesis/cgmy_estimation/src/mle.py:45: RuntimeWarning: overflow encountered in exp\n",
      "  return np.exp(logits)\n",
      "/Users/raphael/Documents/cours/Imperial College/thesis/cgmy_estimation/src/mle.py:50: RuntimeWarning: invalid value encountered in multiply\n",
      "  res *= np.exp(1j * self.mu * u * t)\n",
      "/Users/raphael/Documents/cours/Imperial College/thesis/cgmy_estimation/src/mle.py:51: RuntimeWarning: invalid value encountered in multiply\n",
      "  res *= np.exp(-0.5 * t * (self.sigma * u) ** 2)\n",
      "/Users/raphael/Documents/cours/Imperial College/thesis/cgmy_estimation/src/mle.py:45: RuntimeWarning: overflow encountered in exp\n",
      "  return np.exp(logits)\n",
      "/Users/raphael/Documents/cours/Imperial College/thesis/cgmy_estimation/src/mle.py:50: RuntimeWarning: invalid value encountered in multiply\n",
      "  res *= np.exp(1j * self.mu * u * t)\n",
      "/Users/raphael/Documents/cours/Imperial College/thesis/cgmy_estimation/src/mle.py:51: RuntimeWarning: invalid value encountered in multiply\n",
      "  res *= np.exp(-0.5 * t * (self.sigma * u) ** 2)\n",
      "/Users/raphael/Documents/cours/Imperial College/thesis/cgmy_estimation/src/mle.py:45: RuntimeWarning: overflow encountered in exp\n",
      "  return np.exp(logits)\n",
      "/Users/raphael/Documents/cours/Imperial College/thesis/cgmy_estimation/src/mle.py:50: RuntimeWarning: invalid value encountered in multiply\n",
      "  res *= np.exp(1j * self.mu * u * t)\n",
      "/Users/raphael/Documents/cours/Imperial College/thesis/cgmy_estimation/src/mle.py:51: RuntimeWarning: invalid value encountered in multiply\n",
      "  res *= np.exp(-0.5 * t * (self.sigma * u) ** 2)\n",
      "/Users/raphael/Documents/cours/Imperial College/thesis/cgmy_estimation/src/mle.py:45: RuntimeWarning: overflow encountered in exp\n",
      "  return np.exp(logits)\n",
      "/Users/raphael/Documents/cours/Imperial College/thesis/cgmy_estimation/src/mle.py:50: RuntimeWarning: invalid value encountered in multiply\n",
      "  res *= np.exp(1j * self.mu * u * t)\n",
      "/Users/raphael/Documents/cours/Imperial College/thesis/cgmy_estimation/src/mle.py:51: RuntimeWarning: invalid value encountered in multiply\n",
      "  res *= np.exp(-0.5 * t * (self.sigma * u) ** 2)\n",
      "/Users/raphael/Documents/cours/Imperial College/thesis/cgmy_estimation/src/mle.py:45: RuntimeWarning: overflow encountered in exp\n",
      "  return np.exp(logits)\n",
      "/Users/raphael/Documents/cours/Imperial College/thesis/cgmy_estimation/src/mle.py:50: RuntimeWarning: invalid value encountered in multiply\n",
      "  res *= np.exp(1j * self.mu * u * t)\n",
      "/Users/raphael/Documents/cours/Imperial College/thesis/cgmy_estimation/src/mle.py:51: RuntimeWarning: invalid value encountered in multiply\n",
      "  res *= np.exp(-0.5 * t * (self.sigma * u) ** 2)\n",
      "/Users/raphael/Documents/cours/Imperial College/thesis/cgmy_estimation/src/mle.py:45: RuntimeWarning: overflow encountered in exp\n",
      "  return np.exp(logits)\n",
      "/Users/raphael/Documents/cours/Imperial College/thesis/cgmy_estimation/src/mle.py:50: RuntimeWarning: invalid value encountered in multiply\n",
      "  res *= np.exp(1j * self.mu * u * t)\n",
      "/Users/raphael/Documents/cours/Imperial College/thesis/cgmy_estimation/src/mle.py:51: RuntimeWarning: invalid value encountered in multiply\n",
      "  res *= np.exp(-0.5 * t * (self.sigma * u) ** 2)\n",
      "/Users/raphael/Documents/cours/Imperial College/thesis/cgmy_estimation/src/mle.py:45: RuntimeWarning: overflow encountered in exp\n",
      "  return np.exp(logits)\n",
      "/Users/raphael/Documents/cours/Imperial College/thesis/cgmy_estimation/src/mle.py:50: RuntimeWarning: invalid value encountered in multiply\n",
      "  res *= np.exp(1j * self.mu * u * t)\n",
      "/Users/raphael/Documents/cours/Imperial College/thesis/cgmy_estimation/src/mle.py:51: RuntimeWarning: invalid value encountered in multiply\n",
      "  res *= np.exp(-0.5 * t * (self.sigma * u) ** 2)\n",
      "/Users/raphael/Documents/cours/Imperial College/thesis/cgmy_estimation/src/mle.py:45: RuntimeWarning: overflow encountered in exp\n",
      "  return np.exp(logits)\n",
      "/Users/raphael/Documents/cours/Imperial College/thesis/cgmy_estimation/src/mle.py:50: RuntimeWarning: invalid value encountered in multiply\n",
      "  res *= np.exp(1j * self.mu * u * t)\n",
      "/Users/raphael/Documents/cours/Imperial College/thesis/cgmy_estimation/src/mle.py:51: RuntimeWarning: invalid value encountered in multiply\n",
      "  res *= np.exp(-0.5 * t * (self.sigma * u) ** 2)\n",
      "/Users/raphael/Documents/cours/Imperial College/thesis/cgmy_estimation/src/mle.py:45: RuntimeWarning: overflow encountered in exp\n",
      "  return np.exp(logits)\n",
      "/Users/raphael/Documents/cours/Imperial College/thesis/cgmy_estimation/src/mle.py:50: RuntimeWarning: invalid value encountered in multiply\n",
      "  res *= np.exp(1j * self.mu * u * t)\n",
      "/Users/raphael/Documents/cours/Imperial College/thesis/cgmy_estimation/src/mle.py:51: RuntimeWarning: invalid value encountered in multiply\n",
      "  res *= np.exp(-0.5 * t * (self.sigma * u) ** 2)\n",
      "/Users/raphael/Documents/cours/Imperial College/thesis/cgmy_estimation/src/mle.py:45: RuntimeWarning: overflow encountered in exp\n",
      "  return np.exp(logits)\n",
      "/Users/raphael/Documents/cours/Imperial College/thesis/cgmy_estimation/src/mle.py:50: RuntimeWarning: invalid value encountered in multiply\n",
      "  res *= np.exp(1j * self.mu * u * t)\n",
      "/Users/raphael/Documents/cours/Imperial College/thesis/cgmy_estimation/src/mle.py:51: RuntimeWarning: invalid value encountered in multiply\n",
      "  res *= np.exp(-0.5 * t * (self.sigma * u) ** 2)\n",
      "/Users/raphael/Documents/cours/Imperial College/thesis/cgmy_estimation/src/mle.py:45: RuntimeWarning: overflow encountered in exp\n",
      "  return np.exp(logits)\n",
      "/Users/raphael/Documents/cours/Imperial College/thesis/cgmy_estimation/src/mle.py:50: RuntimeWarning: invalid value encountered in multiply\n",
      "  res *= np.exp(1j * self.mu * u * t)\n",
      "/Users/raphael/Documents/cours/Imperial College/thesis/cgmy_estimation/src/mle.py:51: RuntimeWarning: invalid value encountered in multiply\n",
      "  res *= np.exp(-0.5 * t * (self.sigma * u) ** 2)\n",
      "/Users/raphael/Documents/cours/Imperial College/thesis/cgmy_estimation/src/mle.py:45: RuntimeWarning: overflow encountered in exp\n",
      "  return np.exp(logits)\n",
      "/Users/raphael/Documents/cours/Imperial College/thesis/cgmy_estimation/src/mle.py:50: RuntimeWarning: invalid value encountered in multiply\n",
      "  res *= np.exp(1j * self.mu * u * t)\n",
      "/Users/raphael/Documents/cours/Imperial College/thesis/cgmy_estimation/src/mle.py:51: RuntimeWarning: invalid value encountered in multiply\n",
      "  res *= np.exp(-0.5 * t * (self.sigma * u) ** 2)\n"
     ]
    }
   ],
   "source": [
    "master_seed = 42\n",
    "rng = np.random.default_rng(master_seed)\n",
    "seeds = rng.integers(0, 2**32, size=300)\n",
    "results_spx_day = Parallel(n_jobs=-1)(\n",
    "    delayed(optim_parall)(spx_rets_day, seed) for seed in seeds\n",
    ")\n",
    "mle_spx_day = np.array([np.concat([res.x, [res.fun]]) for res in results_spx_day])"
   ]
  },
  {
   "cell_type": "code",
   "execution_count": 28,
   "id": "adc03346",
   "metadata": {},
   "outputs": [],
   "source": [
    "np.savetxt(\"../fits/spx_day.csv\", mle_spx_day)"
   ]
  },
  {
   "cell_type": "code",
   "execution_count": 29,
   "id": "7fc2cb0d",
   "metadata": {},
   "outputs": [
    {
     "data": {
      "text/plain": [
       "array([[ 2.4364e-02,  9.1404e+01,  8.5719e+01,  6.9263e-01,  1.0000e-05,\n",
       "        -3.1371e+03],\n",
       "       [ 1.7452e-01,  1.1953e+02,  1.1346e+02,  3.5132e-01,  1.0000e-05,\n",
       "        -3.1368e+03],\n",
       "       [ 1.9700e-01,  1.2115e+02,  1.1551e+02,  3.3043e-01,  1.0000e-05,\n",
       "        -3.1368e+03]])"
      ]
     },
     "execution_count": 29,
     "metadata": {},
     "output_type": "execute_result"
    }
   ],
   "source": [
    "spx_day_best_fits = mle_spx_day[mle_spx_day[:, 5].argsort()]\n",
    "spx_day_best_fits[:3]\n"
   ]
  },
  {
   "cell_type": "code",
   "execution_count": 133,
   "id": "2a1a500c",
   "metadata": {},
   "outputs": [
    {
     "data": {
      "text/plain": [
       "[<matplotlib.lines.Line2D at 0x12b09ca50>]"
      ]
     },
     "execution_count": 133,
     "metadata": {},
     "output_type": "execute_result"
    },
    {
     "data": {
      "image/png": "[encoded data removed]",
      "text/plain": [
       "<Figure size 640x480 with 1 Axes>"
      ]
     },
     "metadata": {},
     "output_type": "display_data"
    }
   ],
   "source": [
    "cgmy = CGMY(spx_rets_day, spx_day_best_fits[0][:-1], adjust_L=True)\n",
    "cgmy2 = CGMY(spx_rets_day, spx_day_best_fits[1][:-1], adjust_L=True)\n",
    "x, pdf = cgmy.compute_pdf_from_cf()\n",
    "x2, pdf2 = cgmy.compute_pdf_from_cf()\n",
    "plt.hist(spx_rets_day, density=True, bins=60)\n",
    "plt.plot(x, pdf)\n",
    "#plt.plot(x2, pdf2)"
   ]
  },
  {
   "cell_type": "markdown",
   "id": "a67dbd0d",
   "metadata": {},
   "source": [
    "AAPL US Equity Daily"
   ]
  },
  {
   "cell_type": "code",
   "execution_count": 11,
   "id": "35049c1f",
   "metadata": {},
   "outputs": [],
   "source": [
    "appl_rets_daily = load_returns(\"AAPL_D.csv\", start_date=start_date, end_date=end_date)"
   ]
  },
  {
   "cell_type": "code",
   "execution_count": 15,
   "id": "232553a0",
   "metadata": {},
   "outputs": [
    {
     "name": "stderr",
     "output_type": "stream",
     "text": [
      "/Users/raphael/Documents/cours/Imperial College/thesis/cgmy_estimation/src/mle.py:45: RuntimeWarning: overflow encountered in exp\n",
      "  return np.exp(logits)\n",
      "/Users/raphael/Documents/cours/Imperial College/thesis/cgmy_estimation/src/mle.py:50: RuntimeWarning: invalid value encountered in multiply\n",
      "  res *= np.exp(1j * self.mu * u * t)\n",
      "/Users/raphael/Documents/cours/Imperial College/thesis/cgmy_estimation/src/mle.py:51: RuntimeWarning: invalid value encountered in multiply\n",
      "  res *= np.exp(-0.5 * t * (self.sigma * u) ** 2)\n",
      "/Users/raphael/Documents/cours/Imperial College/thesis/cgmy_estimation/src/mle.py:45: RuntimeWarning: overflow encountered in exp\n",
      "  return np.exp(logits)\n",
      "/Users/raphael/Documents/cours/Imperial College/thesis/cgmy_estimation/src/mle.py:50: RuntimeWarning: invalid value encountered in multiply\n",
      "  res *= np.exp(1j * self.mu * u * t)\n",
      "/Users/raphael/Documents/cours/Imperial College/thesis/cgmy_estimation/src/mle.py:51: RuntimeWarning: invalid value encountered in multiply\n",
      "  res *= np.exp(-0.5 * t * (self.sigma * u) ** 2)\n",
      "/Users/raphael/Documents/cours/Imperial College/thesis/cgmy_estimation/src/mle.py:45: RuntimeWarning: overflow encountered in exp\n",
      "  return np.exp(logits)\n",
      "/Users/raphael/Documents/cours/Imperial College/thesis/cgmy_estimation/src/mle.py:50: RuntimeWarning: invalid value encountered in multiply\n",
      "  res *= np.exp(1j * self.mu * u * t)\n",
      "/Users/raphael/Documents/cours/Imperial College/thesis/cgmy_estimation/src/mle.py:51: RuntimeWarning: invalid value encountered in multiply\n",
      "  res *= np.exp(-0.5 * t * (self.sigma * u) ** 2)\n",
      "/Users/raphael/Documents/cours/Imperial College/thesis/cgmy_estimation/src/mle.py:45: RuntimeWarning: overflow encountered in exp\n",
      "  return np.exp(logits)\n",
      "/Users/raphael/Documents/cours/Imperial College/thesis/cgmy_estimation/src/mle.py:50: RuntimeWarning: invalid value encountered in multiply\n",
      "  res *= np.exp(1j * self.mu * u * t)\n",
      "/Users/raphael/Documents/cours/Imperial College/thesis/cgmy_estimation/src/mle.py:51: RuntimeWarning: invalid value encountered in multiply\n",
      "  res *= np.exp(-0.5 * t * (self.sigma * u) ** 2)\n",
      "/Users/raphael/Documents/cours/Imperial College/thesis/cgmy_estimation/src/mle.py:45: RuntimeWarning: overflow encountered in exp\n",
      "  return np.exp(logits)\n",
      "/Users/raphael/Documents/cours/Imperial College/thesis/cgmy_estimation/src/mle.py:50: RuntimeWarning: invalid value encountered in multiply\n",
      "  res *= np.exp(1j * self.mu * u * t)\n",
      "/Users/raphael/Documents/cours/Imperial College/thesis/cgmy_estimation/src/mle.py:51: RuntimeWarning: invalid value encountered in multiply\n",
      "  res *= np.exp(-0.5 * t * (self.sigma * u) ** 2)\n",
      "/Users/raphael/Documents/cours/Imperial College/thesis/cgmy_estimation/src/mle.py:45: RuntimeWarning: overflow encountered in exp\n",
      "  return np.exp(logits)\n",
      "/Users/raphael/Documents/cours/Imperial College/thesis/cgmy_estimation/src/mle.py:50: RuntimeWarning: invalid value encountered in multiply\n",
      "  res *= np.exp(1j * self.mu * u * t)\n",
      "/Users/raphael/Documents/cours/Imperial College/thesis/cgmy_estimation/src/mle.py:51: RuntimeWarning: invalid value encountered in multiply\n",
      "  res *= np.exp(-0.5 * t * (self.sigma * u) ** 2)\n",
      "/Users/raphael/Documents/cours/Imperial College/thesis/cgmy_estimation/src/mle.py:45: RuntimeWarning: overflow encountered in exp\n",
      "  return np.exp(logits)\n",
      "/Users/raphael/Documents/cours/Imperial College/thesis/cgmy_estimation/src/mle.py:50: RuntimeWarning: invalid value encountered in multiply\n",
      "  res *= np.exp(1j * self.mu * u * t)\n",
      "/Users/raphael/Documents/cours/Imperial College/thesis/cgmy_estimation/src/mle.py:51: RuntimeWarning: invalid value encountered in multiply\n",
      "  res *= np.exp(-0.5 * t * (self.sigma * u) ** 2)\n",
      "/Users/raphael/Documents/cours/Imperial College/thesis/cgmy_estimation/src/mle.py:45: RuntimeWarning: overflow encountered in exp\n",
      "  return np.exp(logits)\n",
      "/Users/raphael/Documents/cours/Imperial College/thesis/cgmy_estimation/src/mle.py:50: RuntimeWarning: invalid value encountered in multiply\n",
      "  res *= np.exp(1j * self.mu * u * t)\n",
      "/Users/raphael/Documents/cours/Imperial College/thesis/cgmy_estimation/src/mle.py:51: RuntimeWarning: invalid value encountered in multiply\n",
      "  res *= np.exp(-0.5 * t * (self.sigma * u) ** 2)\n",
      "/Users/raphael/Documents/cours/Imperial College/thesis/cgmy_estimation/src/mle.py:45: RuntimeWarning: overflow encountered in exp\n",
      "  return np.exp(logits)\n",
      "/Users/raphael/Documents/cours/Imperial College/thesis/cgmy_estimation/src/mle.py:50: RuntimeWarning: invalid value encountered in multiply\n",
      "  res *= np.exp(1j * self.mu * u * t)\n",
      "/Users/raphael/Documents/cours/Imperial College/thesis/cgmy_estimation/src/mle.py:51: RuntimeWarning: invalid value encountered in multiply\n",
      "  res *= np.exp(-0.5 * t * (self.sigma * u) ** 2)\n",
      "/Users/raphael/Documents/cours/Imperial College/thesis/cgmy_estimation/src/mle.py:45: RuntimeWarning: overflow encountered in exp\n",
      "  return np.exp(logits)\n",
      "/Users/raphael/Documents/cours/Imperial College/thesis/cgmy_estimation/src/mle.py:50: RuntimeWarning: invalid value encountered in multiply\n",
      "  res *= np.exp(1j * self.mu * u * t)\n",
      "/Users/raphael/Documents/cours/Imperial College/thesis/cgmy_estimation/src/mle.py:51: RuntimeWarning: invalid value encountered in multiply\n",
      "  res *= np.exp(-0.5 * t * (self.sigma * u) ** 2)\n"
     ]
    }
   ],
   "source": [
    "master_seed = 42\n",
    "rng = np.random.default_rng(master_seed)\n",
    "seeds = rng.integers(0, 2**32, size=300)\n",
    "results_aapl_day = Parallel(n_jobs=-1)(\n",
    "    delayed(optim_parall)(appl_rets_daily, seed) for seed in seeds\n",
    ")\n",
    "mle_aapl_day = np.array([np.concat([res.x, [res.fun]]) for res in results_aapl_day])\n"
   ]
  },
  {
   "cell_type": "code",
   "execution_count": 16,
   "id": "a120c1c8",
   "metadata": {},
   "outputs": [
    {
     "data": {
      "text/plain": [
       "array([[ 4.0552e-02,  6.0527e+01,  5.5630e+01,  6.5767e-01,  1.0000e-05,\n",
       "        -2.6749e+03],\n",
       "       [ 6.1248e-01,  8.3328e+01,  8.0555e+01,  1.1701e-01,  3.9506e-03,\n",
       "        -2.6741e+03],\n",
       "       [ 1.7720e+00,  9.1481e+01,  8.9144e+01, -1.0365e-01,  4.7207e-03,\n",
       "        -2.6738e+03],\n",
       "       [ 2.2413e+00,  9.1837e+01,  8.9588e+01, -1.6161e-01,  5.0899e-03,\n",
       "        -2.6738e+03],\n",
       "       [ 1.8935e+01,  1.1878e+02,  1.1529e+02, -5.4999e-01,  4.8257e-03,\n",
       "        -2.6727e+03],\n",
       "       [ 9.6970e+01,  1.2134e+02,  1.1929e+02, -9.5356e-01,  6.5630e-03,\n",
       "        -2.6727e+03],\n",
       "       [ 7.2126e+01,  1.1622e+02,  1.1239e+02, -9.1974e-01,  7.0099e-03,\n",
       "        -2.6726e+03],\n",
       "       [ 1.3370e+02,  1.2486e+02,  1.2276e+02, -1.0146e+00,  6.5648e-03,\n",
       "        -2.6726e+03],\n",
       "       [ 3.2219e+01,  9.4466e+01,  9.5671e+01, -8.8721e-01,  9.4124e-03,\n",
       "        -2.6725e+03],\n",
       "       [ 1.2803e+02,  1.1686e+02,  1.1544e+02, -1.0662e+00,  7.6589e-03,\n",
       "        -2.6725e+03]])"
      ]
     },
     "execution_count": 16,
     "metadata": {},
     "output_type": "execute_result"
    }
   ],
   "source": [
    "aapl_day_best_fits = mle_aapl_day[mle_aapl_day[:, 5].argsort()]\n",
    "aapl_day_best_fits[:10]"
   ]
  },
  {
   "cell_type": "code",
   "execution_count": 25,
   "id": "b23aa213",
   "metadata": {},
   "outputs": [],
   "source": [
    "np.savetxt(\"../fits/aapl_day.csv\", aapl_day_best_fits)"
   ]
  },
  {
   "cell_type": "code",
   "execution_count": 32,
   "id": "1769aa5b",
   "metadata": {},
   "outputs": [
    {
     "data": {
      "text/plain": [
       "[<matplotlib.lines.Line2D at 0x1358e6850>]"
      ]
     },
     "execution_count": 32,
     "metadata": {},
     "output_type": "execute_result"
    },
    {
     "data": {
      "image/png": "[encoded data removed]",
      "text/plain": [
       "<Figure size 640x480 with 1 Axes>"
      ]
     },
     "metadata": {},
     "output_type": "display_data"
    }
   ],
   "source": [
    "cgmy = CGMY(appl_rets_daily, aapl_day_best_fits[0][:-1], adjust_L=True)\n",
    "cgmy2 = CGMY(appl_rets_daily, aapl_day_best_fits[1][:-1], adjust_L=True)\n",
    "x, pdf = cgmy.compute_pdf_from_cf()\n",
    "x2, pdf2 = cgmy2.compute_pdf_from_cf()\n",
    "plt.hist(appl_rets_daily, density=True, bins=50)\n",
    "plt.plot(x, pdf)\n",
    "plt.plot(x2, pdf2)"
   ]
  },
  {
   "cell_type": "markdown",
   "id": "9c34db78",
   "metadata": {},
   "source": [
    "AAPL 1S"
   ]
  },
  {
   "cell_type": "code",
   "execution_count": 70,
   "id": "fedb4fa2",
   "metadata": {},
   "outputs": [],
   "source": [
    "def mle_orderbook(freq, n=50):\n",
    "    aapl_freq = load_orderbook_trades(freq)\n",
    "\n",
    "    master_seed = 42\n",
    "    rng = np.random.default_rng(master_seed)\n",
    "    seeds = rng.integers(0, 2**32, size=n)\n",
    "\n",
    "    results_aapl_freq = Parallel(n_jobs=-1)(\n",
    "        delayed(optim_parall)(aapl_freq, seed=seed)\n",
    "        for seed in seeds\n",
    "    )\n",
    "    mle_aapl_freq = np.array(\n",
    "        [np.concat([res.x, [res.fun]]) for res in results_aapl_freq]\n",
    "    )\n",
    "    mle_aapl_freq = mle_aapl_freq[mle_aapl_freq[:, 5].argsort()]\n",
    "\n",
    "    return aapl_freq, mle_aapl_freq\n"
   ]
  },
  {
   "cell_type": "code",
   "execution_count": null,
   "id": "a1da17d4",
   "metadata": {},
   "outputs": [
    {
     "name": "stderr",
     "output_type": "stream",
     "text": [
      "/Users/raphael/Documents/cours/Imperial College/thesis/cgmy_estimation/src/mle.py:48: RuntimeWarning: overflow encountered in exp\n",
      "  return np.exp(logits)\n",
      "/Users/raphael/Documents/cours/Imperial College/thesis/cgmy_estimation/src/mle.py:53: RuntimeWarning: invalid value encountered in multiply\n",
      "  res *= np.exp(1j * self.mu * u * t)\n",
      "/Users/raphael/Documents/cours/Imperial College/thesis/cgmy_estimation/src/mle.py:54: RuntimeWarning: invalid value encountered in multiply\n",
      "  res *= np.exp(\n",
      "/Users/raphael/Documents/cours/Imperial College/thesis/cgmy_estimation/src/mle.py:48: RuntimeWarning: overflow encountered in exp\n",
      "  return np.exp(logits)\n",
      "/Users/raphael/Documents/cours/Imperial College/thesis/cgmy_estimation/src/mle.py:53: RuntimeWarning: invalid value encountered in multiply\n",
      "  res *= np.exp(1j * self.mu * u * t)\n",
      "/Users/raphael/Documents/cours/Imperial College/thesis/cgmy_estimation/src/mle.py:54: RuntimeWarning: invalid value encountered in multiply\n",
      "  res *= np.exp(\n",
      "/Users/raphael/Documents/cours/Imperial College/thesis/cgmy_estimation/src/mle.py:48: RuntimeWarning: overflow encountered in exp\n",
      "  return np.exp(logits)\n",
      "/Users/raphael/Documents/cours/Imperial College/thesis/cgmy_estimation/src/mle.py:53: RuntimeWarning: invalid value encountered in multiply\n",
      "  res *= np.exp(1j * self.mu * u * t)\n",
      "/Users/raphael/Documents/cours/Imperial College/thesis/cgmy_estimation/src/mle.py:54: RuntimeWarning: invalid value encountered in multiply\n",
      "  res *= np.exp(\n",
      "/Users/raphael/Documents/cours/Imperial College/thesis/cgmy_estimation/src/mle.py:48: RuntimeWarning: overflow encountered in exp\n",
      "  return np.exp(logits)\n",
      "/Users/raphael/Documents/cours/Imperial College/thesis/cgmy_estimation/src/mle.py:53: RuntimeWarning: invalid value encountered in multiply\n",
      "  res *= np.exp(1j * self.mu * u * t)\n",
      "/Users/raphael/Documents/cours/Imperial College/thesis/cgmy_estimation/src/mle.py:54: RuntimeWarning: invalid value encountered in multiply\n",
      "  res *= np.exp(\n",
      "/Users/raphael/Documents/cours/Imperial College/thesis/cgmy_estimation/src/mle.py:48: RuntimeWarning: overflow encountered in exp\n",
      "  return np.exp(logits)\n",
      "/Users/raphael/Documents/cours/Imperial College/thesis/cgmy_estimation/src/mle.py:53: RuntimeWarning: invalid value encountered in multiply\n",
      "  res *= np.exp(1j * self.mu * u * t)\n",
      "/Users/raphael/Documents/cours/Imperial College/thesis/cgmy_estimation/src/mle.py:54: RuntimeWarning: invalid value encountered in multiply\n",
      "  res *= np.exp(\n",
      "/Users/raphael/Documents/cours/Imperial College/thesis/cgmy_estimation/src/mle.py:48: RuntimeWarning: overflow encountered in exp\n",
      "  return np.exp(logits)\n",
      "/Users/raphael/Documents/cours/Imperial College/thesis/cgmy_estimation/src/mle.py:53: RuntimeWarning: invalid value encountered in multiply\n",
      "  res *= np.exp(1j * self.mu * u * t)\n",
      "/Users/raphael/Documents/cours/Imperial College/thesis/cgmy_estimation/src/mle.py:54: RuntimeWarning: invalid value encountered in multiply\n",
      "  res *= np.exp(\n",
      "/Users/raphael/Documents/cours/Imperial College/thesis/cgmy_estimation/src/mle.py:48: RuntimeWarning: overflow encountered in exp\n",
      "  return np.exp(logits)\n",
      "/Users/raphael/Documents/cours/Imperial College/thesis/cgmy_estimation/src/mle.py:53: RuntimeWarning: invalid value encountered in multiply\n",
      "  res *= np.exp(1j * self.mu * u * t)\n",
      "/Users/raphael/Documents/cours/Imperial College/thesis/cgmy_estimation/src/mle.py:54: RuntimeWarning: invalid value encountered in multiply\n",
      "  res *= np.exp(\n"
     ]
    }
   ],
   "source": [
    "aapl_1_sec, mle_aapl_1_sec = mle_orderbook(\"1s\")\n"
   ]
  },
  {
   "cell_type": "code",
   "execution_count": 82,
   "id": "d951fed7",
   "metadata": {},
   "outputs": [],
   "source": [
    "np.savetxt(\"../fits/aapl_1_s.csv\", mle_aapl_1_sec)"
   ]
  },
  {
   "cell_type": "code",
   "execution_count": 64,
   "id": "48b8fd97",
   "metadata": {},
   "outputs": [
    {
     "data": {
      "text/plain": [
       "array([[ 1.7083e+04,  9.6345e+03,  1.0076e+04, -1.1343e+00,  1.0000e-05,\n",
       "        -4.0275e+06],\n",
       "       [ 1.3594e+02,  7.4230e+03,  1.8713e+03, -7.8911e-01,  1.0000e-05,\n",
       "        -3.9373e+06],\n",
       "       [ 2.8458e-03,  1.4329e+02,  1.5107e+04,  3.6026e-01,  1.0000e-05,\n",
       "        -3.9218e+06],\n",
       "       [ 1.2372e+01,  9.3615e+02,  6.3356e+03, -5.4692e-01,  1.0000e-05,\n",
       "        -3.9198e+06],\n",
       "       [ 5.2574e+00,  9.2232e+02,  1.0733e+04, -4.6058e-01,  1.0000e-05,\n",
       "        -3.9130e+06]])"
      ]
     },
     "execution_count": 64,
     "metadata": {},
     "output_type": "execute_result"
    }
   ],
   "source": [
    "mle_aapl_1_sec[:5]"
   ]
  },
  {
   "cell_type": "markdown",
   "id": "f0ed0327",
   "metadata": {},
   "source": [
    "AAPL 10 Sec"
   ]
  },
  {
   "cell_type": "code",
   "execution_count": 71,
   "id": "0bf77106",
   "metadata": {},
   "outputs": [
    {
     "name": "stderr",
     "output_type": "stream",
     "text": [
      "/Users/raphael/Documents/cours/Imperial College/thesis/cgmy_estimation/src/mle.py:48: RuntimeWarning: overflow encountered in exp\n",
      "  return np.exp(logits)\n",
      "/Users/raphael/Documents/cours/Imperial College/thesis/cgmy_estimation/src/mle.py:53: RuntimeWarning: invalid value encountered in multiply\n",
      "  res *= np.exp(1j * self.mu * u * t)\n",
      "/Users/raphael/Documents/cours/Imperial College/thesis/cgmy_estimation/src/mle.py:54: RuntimeWarning: invalid value encountered in multiply\n",
      "  res *= np.exp(\n",
      "/Users/raphael/Documents/cours/Imperial College/thesis/cgmy_estimation/src/mle.py:48: RuntimeWarning: overflow encountered in exp\n",
      "  return np.exp(logits)\n",
      "/Users/raphael/Documents/cours/Imperial College/thesis/cgmy_estimation/src/mle.py:53: RuntimeWarning: invalid value encountered in multiply\n",
      "  res *= np.exp(1j * self.mu * u * t)\n",
      "/Users/raphael/Documents/cours/Imperial College/thesis/cgmy_estimation/src/mle.py:54: RuntimeWarning: invalid value encountered in multiply\n",
      "  res *= np.exp(\n",
      "/Users/raphael/Documents/cours/Imperial College/thesis/cgmy_estimation/src/mle.py:48: RuntimeWarning: overflow encountered in exp\n",
      "  return np.exp(logits)\n",
      "/Users/raphael/Documents/cours/Imperial College/thesis/cgmy_estimation/src/mle.py:53: RuntimeWarning: invalid value encountered in multiply\n",
      "  res *= np.exp(1j * self.mu * u * t)\n",
      "/Users/raphael/Documents/cours/Imperial College/thesis/cgmy_estimation/src/mle.py:54: RuntimeWarning: invalid value encountered in multiply\n",
      "  res *= np.exp(\n",
      "/Users/raphael/Documents/cours/Imperial College/thesis/cgmy_estimation/src/mle.py:48: RuntimeWarning: overflow encountered in exp\n",
      "  return np.exp(logits)\n",
      "/Users/raphael/Documents/cours/Imperial College/thesis/cgmy_estimation/src/mle.py:53: RuntimeWarning: invalid value encountered in multiply\n",
      "  res *= np.exp(1j * self.mu * u * t)\n",
      "/Users/raphael/Documents/cours/Imperial College/thesis/cgmy_estimation/src/mle.py:54: RuntimeWarning: invalid value encountered in multiply\n",
      "  res *= np.exp(\n",
      "/Users/raphael/Documents/cours/Imperial College/thesis/cgmy_estimation/src/mle.py:48: RuntimeWarning: overflow encountered in exp\n",
      "  return np.exp(logits)\n",
      "/Users/raphael/Documents/cours/Imperial College/thesis/cgmy_estimation/src/mle.py:53: RuntimeWarning: invalid value encountered in multiply\n",
      "  res *= np.exp(1j * self.mu * u * t)\n",
      "/Users/raphael/Documents/cours/Imperial College/thesis/cgmy_estimation/src/mle.py:54: RuntimeWarning: invalid value encountered in multiply\n",
      "  res *= np.exp(\n",
      "/Users/raphael/Documents/cours/Imperial College/thesis/cgmy_estimation/src/mle.py:48: RuntimeWarning: overflow encountered in exp\n",
      "  return np.exp(logits)\n",
      "/Users/raphael/Documents/cours/Imperial College/thesis/cgmy_estimation/src/mle.py:53: RuntimeWarning: invalid value encountered in multiply\n",
      "  res *= np.exp(1j * self.mu * u * t)\n",
      "/Users/raphael/Documents/cours/Imperial College/thesis/cgmy_estimation/src/mle.py:54: RuntimeWarning: invalid value encountered in multiply\n",
      "  res *= np.exp(\n",
      "/Users/raphael/Documents/cours/Imperial College/thesis/cgmy_estimation/src/mle.py:48: RuntimeWarning: overflow encountered in exp\n",
      "  return np.exp(logits)\n",
      "/Users/raphael/Documents/cours/Imperial College/thesis/cgmy_estimation/src/mle.py:53: RuntimeWarning: invalid value encountered in multiply\n",
      "  res *= np.exp(1j * self.mu * u * t)\n",
      "/Users/raphael/Documents/cours/Imperial College/thesis/cgmy_estimation/src/mle.py:54: RuntimeWarning: invalid value encountered in multiply\n",
      "  res *= np.exp(\n",
      "/Users/raphael/Documents/cours/Imperial College/thesis/cgmy_estimation/src/mle.py:48: RuntimeWarning: overflow encountered in exp\n",
      "  return np.exp(logits)\n",
      "/Users/raphael/Documents/cours/Imperial College/thesis/cgmy_estimation/src/mle.py:53: RuntimeWarning: invalid value encountered in multiply\n",
      "  res *= np.exp(1j * self.mu * u * t)\n",
      "/Users/raphael/Documents/cours/Imperial College/thesis/cgmy_estimation/src/mle.py:54: RuntimeWarning: invalid value encountered in multiply\n",
      "  res *= np.exp(\n",
      "/Users/raphael/Documents/cours/Imperial College/thesis/cgmy_estimation/src/mle.py:48: RuntimeWarning: overflow encountered in exp\n",
      "  return np.exp(logits)\n",
      "/Users/raphael/Documents/cours/Imperial College/thesis/cgmy_estimation/src/mle.py:53: RuntimeWarning: invalid value encountered in multiply\n",
      "  res *= np.exp(1j * self.mu * u * t)\n",
      "/Users/raphael/Documents/cours/Imperial College/thesis/cgmy_estimation/src/mle.py:54: RuntimeWarning: invalid value encountered in multiply\n",
      "  res *= np.exp(\n",
      "/Users/raphael/Documents/cours/Imperial College/thesis/cgmy_estimation/src/mle.py:48: RuntimeWarning: overflow encountered in exp\n",
      "  return np.exp(logits)\n",
      "/Users/raphael/Documents/cours/Imperial College/thesis/cgmy_estimation/src/mle.py:53: RuntimeWarning: invalid value encountered in multiply\n",
      "  res *= np.exp(1j * self.mu * u * t)\n",
      "/Users/raphael/Documents/cours/Imperial College/thesis/cgmy_estimation/src/mle.py:54: RuntimeWarning: invalid value encountered in multiply\n",
      "  res *= np.exp(\n",
      "/Users/raphael/Documents/cours/Imperial College/thesis/cgmy_estimation/src/mle.py:48: RuntimeWarning: overflow encountered in exp\n",
      "  return np.exp(logits)\n",
      "/Users/raphael/Documents/cours/Imperial College/thesis/cgmy_estimation/src/mle.py:53: RuntimeWarning: invalid value encountered in multiply\n",
      "  res *= np.exp(1j * self.mu * u * t)\n",
      "/Users/raphael/Documents/cours/Imperial College/thesis/cgmy_estimation/src/mle.py:54: RuntimeWarning: invalid value encountered in multiply\n",
      "  res *= np.exp(\n",
      "/Users/raphael/Documents/cours/Imperial College/thesis/cgmy_estimation/src/mle.py:48: RuntimeWarning: overflow encountered in exp\n",
      "  return np.exp(logits)\n",
      "/Users/raphael/Documents/cours/Imperial College/thesis/cgmy_estimation/src/mle.py:53: RuntimeWarning: invalid value encountered in multiply\n",
      "  res *= np.exp(1j * self.mu * u * t)\n",
      "/Users/raphael/Documents/cours/Imperial College/thesis/cgmy_estimation/src/mle.py:54: RuntimeWarning: invalid value encountered in multiply\n",
      "  res *= np.exp(\n",
      "/Users/raphael/Documents/cours/Imperial College/thesis/cgmy_estimation/src/mle.py:48: RuntimeWarning: overflow encountered in exp\n",
      "  return np.exp(logits)\n",
      "/Users/raphael/Documents/cours/Imperial College/thesis/cgmy_estimation/src/mle.py:53: RuntimeWarning: invalid value encountered in multiply\n",
      "  res *= np.exp(1j * self.mu * u * t)\n",
      "/Users/raphael/Documents/cours/Imperial College/thesis/cgmy_estimation/src/mle.py:54: RuntimeWarning: invalid value encountered in multiply\n",
      "  res *= np.exp(\n",
      "/Users/raphael/Documents/cours/Imperial College/thesis/cgmy_estimation/src/mle.py:48: RuntimeWarning: overflow encountered in exp\n",
      "  return np.exp(logits)\n",
      "/Users/raphael/Documents/cours/Imperial College/thesis/cgmy_estimation/src/mle.py:53: RuntimeWarning: invalid value encountered in multiply\n",
      "  res *= np.exp(1j * self.mu * u * t)\n",
      "/Users/raphael/Documents/cours/Imperial College/thesis/cgmy_estimation/src/mle.py:54: RuntimeWarning: invalid value encountered in multiply\n",
      "  res *= np.exp(\n",
      "/Users/raphael/Documents/cours/Imperial College/thesis/cgmy_estimation/src/mle.py:48: RuntimeWarning: overflow encountered in exp\n",
      "  return np.exp(logits)\n",
      "/Users/raphael/Documents/cours/Imperial College/thesis/cgmy_estimation/src/mle.py:53: RuntimeWarning: invalid value encountered in multiply\n",
      "  res *= np.exp(1j * self.mu * u * t)\n",
      "/Users/raphael/Documents/cours/Imperial College/thesis/cgmy_estimation/src/mle.py:54: RuntimeWarning: invalid value encountered in multiply\n",
      "  res *= np.exp(\n",
      "/Users/raphael/Documents/cours/Imperial College/thesis/cgmy_estimation/src/mle.py:48: RuntimeWarning: overflow encountered in exp\n",
      "  return np.exp(logits)\n",
      "/Users/raphael/Documents/cours/Imperial College/thesis/cgmy_estimation/src/mle.py:53: RuntimeWarning: invalid value encountered in multiply\n",
      "  res *= np.exp(1j * self.mu * u * t)\n",
      "/Users/raphael/Documents/cours/Imperial College/thesis/cgmy_estimation/src/mle.py:54: RuntimeWarning: invalid value encountered in multiply\n",
      "  res *= np.exp(\n",
      "/Users/raphael/Documents/cours/Imperial College/thesis/cgmy_estimation/src/mle.py:48: RuntimeWarning: overflow encountered in exp\n",
      "  return np.exp(logits)\n",
      "/Users/raphael/Documents/cours/Imperial College/thesis/cgmy_estimation/src/mle.py:53: RuntimeWarning: invalid value encountered in multiply\n",
      "  res *= np.exp(1j * self.mu * u * t)\n",
      "/Users/raphael/Documents/cours/Imperial College/thesis/cgmy_estimation/src/mle.py:54: RuntimeWarning: invalid value encountered in multiply\n",
      "  res *= np.exp(\n",
      "/Users/raphael/Documents/cours/Imperial College/thesis/cgmy_estimation/src/mle.py:48: RuntimeWarning: overflow encountered in exp\n",
      "  return np.exp(logits)\n",
      "/Users/raphael/Documents/cours/Imperial College/thesis/cgmy_estimation/src/mle.py:53: RuntimeWarning: invalid value encountered in multiply\n",
      "  res *= np.exp(1j * self.mu * u * t)\n",
      "/Users/raphael/Documents/cours/Imperial College/thesis/cgmy_estimation/src/mle.py:54: RuntimeWarning: invalid value encountered in multiply\n",
      "  res *= np.exp(\n",
      "/Users/raphael/Documents/cours/Imperial College/thesis/cgmy_estimation/src/mle.py:48: RuntimeWarning: overflow encountered in exp\n",
      "  return np.exp(logits)\n",
      "/Users/raphael/Documents/cours/Imperial College/thesis/cgmy_estimation/src/mle.py:53: RuntimeWarning: invalid value encountered in multiply\n",
      "  res *= np.exp(1j * self.mu * u * t)\n",
      "/Users/raphael/Documents/cours/Imperial College/thesis/cgmy_estimation/src/mle.py:54: RuntimeWarning: invalid value encountered in multiply\n",
      "  res *= np.exp(\n",
      "/Users/raphael/Documents/cours/Imperial College/thesis/cgmy_estimation/src/mle.py:48: RuntimeWarning: overflow encountered in exp\n",
      "  return np.exp(logits)\n",
      "/Users/raphael/Documents/cours/Imperial College/thesis/cgmy_estimation/src/mle.py:53: RuntimeWarning: invalid value encountered in multiply\n",
      "  res *= np.exp(1j * self.mu * u * t)\n",
      "/Users/raphael/Documents/cours/Imperial College/thesis/cgmy_estimation/src/mle.py:54: RuntimeWarning: invalid value encountered in multiply\n",
      "  res *= np.exp(\n",
      "/Users/raphael/Documents/cours/Imperial College/thesis/cgmy_estimation/src/mle.py:48: RuntimeWarning: overflow encountered in exp\n",
      "  return np.exp(logits)\n",
      "/Users/raphael/Documents/cours/Imperial College/thesis/cgmy_estimation/src/mle.py:53: RuntimeWarning: invalid value encountered in multiply\n",
      "  res *= np.exp(1j * self.mu * u * t)\n",
      "/Users/raphael/Documents/cours/Imperial College/thesis/cgmy_estimation/src/mle.py:54: RuntimeWarning: invalid value encountered in multiply\n",
      "  res *= np.exp(\n",
      "/Users/raphael/Documents/cours/Imperial College/thesis/cgmy_estimation/src/mle.py:48: RuntimeWarning: overflow encountered in exp\n",
      "  return np.exp(logits)\n",
      "/Users/raphael/Documents/cours/Imperial College/thesis/cgmy_estimation/src/mle.py:53: RuntimeWarning: invalid value encountered in multiply\n",
      "  res *= np.exp(1j * self.mu * u * t)\n",
      "/Users/raphael/Documents/cours/Imperial College/thesis/cgmy_estimation/src/mle.py:54: RuntimeWarning: invalid value encountered in multiply\n",
      "  res *= np.exp(\n",
      "/Users/raphael/Documents/cours/Imperial College/thesis/cgmy_estimation/src/mle.py:48: RuntimeWarning: overflow encountered in exp\n",
      "  return np.exp(logits)\n",
      "/Users/raphael/Documents/cours/Imperial College/thesis/cgmy_estimation/src/mle.py:53: RuntimeWarning: invalid value encountered in multiply\n",
      "  res *= np.exp(1j * self.mu * u * t)\n",
      "/Users/raphael/Documents/cours/Imperial College/thesis/cgmy_estimation/src/mle.py:54: RuntimeWarning: invalid value encountered in multiply\n",
      "  res *= np.exp(\n",
      "/Users/raphael/Documents/cours/Imperial College/thesis/cgmy_estimation/src/mle.py:48: RuntimeWarning: overflow encountered in exp\n",
      "  return np.exp(logits)\n",
      "/Users/raphael/Documents/cours/Imperial College/thesis/cgmy_estimation/src/mle.py:53: RuntimeWarning: invalid value encountered in multiply\n",
      "  res *= np.exp(1j * self.mu * u * t)\n",
      "/Users/raphael/Documents/cours/Imperial College/thesis/cgmy_estimation/src/mle.py:54: RuntimeWarning: invalid value encountered in multiply\n",
      "  res *= np.exp(\n",
      "/Users/raphael/Documents/cours/Imperial College/thesis/cgmy_estimation/src/mle.py:48: RuntimeWarning: overflow encountered in exp\n",
      "  return np.exp(logits)\n",
      "/Users/raphael/Documents/cours/Imperial College/thesis/cgmy_estimation/src/mle.py:53: RuntimeWarning: invalid value encountered in multiply\n",
      "  res *= np.exp(1j * self.mu * u * t)\n",
      "/Users/raphael/Documents/cours/Imperial College/thesis/cgmy_estimation/src/mle.py:54: RuntimeWarning: invalid value encountered in multiply\n",
      "  res *= np.exp(\n",
      "/Users/raphael/Documents/cours/Imperial College/thesis/cgmy_estimation/src/mle.py:48: RuntimeWarning: overflow encountered in exp\n",
      "  return np.exp(logits)\n",
      "/Users/raphael/Documents/cours/Imperial College/thesis/cgmy_estimation/src/mle.py:53: RuntimeWarning: invalid value encountered in multiply\n",
      "  res *= np.exp(1j * self.mu * u * t)\n",
      "/Users/raphael/Documents/cours/Imperial College/thesis/cgmy_estimation/src/mle.py:54: RuntimeWarning: invalid value encountered in multiply\n",
      "  res *= np.exp(\n",
      "/Users/raphael/Documents/cours/Imperial College/thesis/cgmy_estimation/src/mle.py:48: RuntimeWarning: overflow encountered in exp\n",
      "  return np.exp(logits)\n",
      "/Users/raphael/Documents/cours/Imperial College/thesis/cgmy_estimation/src/mle.py:53: RuntimeWarning: invalid value encountered in multiply\n",
      "  res *= np.exp(1j * self.mu * u * t)\n",
      "/Users/raphael/Documents/cours/Imperial College/thesis/cgmy_estimation/src/mle.py:54: RuntimeWarning: invalid value encountered in multiply\n",
      "  res *= np.exp(\n",
      "/Users/raphael/Documents/cours/Imperial College/thesis/cgmy_estimation/src/mle.py:48: RuntimeWarning: overflow encountered in exp\n",
      "  return np.exp(logits)\n",
      "/Users/raphael/Documents/cours/Imperial College/thesis/cgmy_estimation/src/mle.py:53: RuntimeWarning: invalid value encountered in multiply\n",
      "  res *= np.exp(1j * self.mu * u * t)\n",
      "/Users/raphael/Documents/cours/Imperial College/thesis/cgmy_estimation/src/mle.py:54: RuntimeWarning: invalid value encountered in multiply\n",
      "  res *= np.exp(\n",
      "/Users/raphael/Documents/cours/Imperial College/thesis/cgmy_estimation/src/mle.py:48: RuntimeWarning: overflow encountered in exp\n",
      "  return np.exp(logits)\n",
      "/Users/raphael/Documents/cours/Imperial College/thesis/cgmy_estimation/src/mle.py:53: RuntimeWarning: invalid value encountered in multiply\n",
      "  res *= np.exp(1j * self.mu * u * t)\n",
      "/Users/raphael/Documents/cours/Imperial College/thesis/cgmy_estimation/src/mle.py:54: RuntimeWarning: invalid value encountered in multiply\n",
      "  res *= np.exp(\n",
      "/Users/raphael/Documents/cours/Imperial College/thesis/cgmy_estimation/src/mle.py:48: RuntimeWarning: overflow encountered in exp\n",
      "  return np.exp(logits)\n",
      "/Users/raphael/Documents/cours/Imperial College/thesis/cgmy_estimation/src/mle.py:53: RuntimeWarning: invalid value encountered in multiply\n",
      "  res *= np.exp(1j * self.mu * u * t)\n",
      "/Users/raphael/Documents/cours/Imperial College/thesis/cgmy_estimation/src/mle.py:54: RuntimeWarning: invalid value encountered in multiply\n",
      "  res *= np.exp(\n",
      "/Users/raphael/Documents/cours/Imperial College/thesis/cgmy_estimation/src/mle.py:48: RuntimeWarning: overflow encountered in exp\n",
      "  return np.exp(logits)\n",
      "/Users/raphael/Documents/cours/Imperial College/thesis/cgmy_estimation/src/mle.py:53: RuntimeWarning: invalid value encountered in multiply\n",
      "  res *= np.exp(1j * self.mu * u * t)\n",
      "/Users/raphael/Documents/cours/Imperial College/thesis/cgmy_estimation/src/mle.py:54: RuntimeWarning: invalid value encountered in multiply\n",
      "  res *= np.exp(\n",
      "/Users/raphael/Documents/cours/Imperial College/thesis/cgmy_estimation/src/mle.py:48: RuntimeWarning: overflow encountered in exp\n",
      "  return np.exp(logits)\n",
      "/Users/raphael/Documents/cours/Imperial College/thesis/cgmy_estimation/src/mle.py:53: RuntimeWarning: invalid value encountered in multiply\n",
      "  res *= np.exp(1j * self.mu * u * t)\n",
      "/Users/raphael/Documents/cours/Imperial College/thesis/cgmy_estimation/src/mle.py:54: RuntimeWarning: invalid value encountered in multiply\n",
      "  res *= np.exp(\n",
      "/Users/raphael/Documents/cours/Imperial College/thesis/cgmy_estimation/src/mle.py:48: RuntimeWarning: overflow encountered in exp\n",
      "  return np.exp(logits)\n",
      "/Users/raphael/Documents/cours/Imperial College/thesis/cgmy_estimation/src/mle.py:53: RuntimeWarning: invalid value encountered in multiply\n",
      "  res *= np.exp(1j * self.mu * u * t)\n",
      "/Users/raphael/Documents/cours/Imperial College/thesis/cgmy_estimation/src/mle.py:54: RuntimeWarning: invalid value encountered in multiply\n",
      "  res *= np.exp(\n",
      "/Users/raphael/Documents/cours/Imperial College/thesis/cgmy_estimation/src/mle.py:48: RuntimeWarning: overflow encountered in exp\n",
      "  return np.exp(logits)\n",
      "/Users/raphael/Documents/cours/Imperial College/thesis/cgmy_estimation/src/mle.py:53: RuntimeWarning: invalid value encountered in multiply\n",
      "  res *= np.exp(1j * self.mu * u * t)\n",
      "/Users/raphael/Documents/cours/Imperial College/thesis/cgmy_estimation/src/mle.py:54: RuntimeWarning: invalid value encountered in multiply\n",
      "  res *= np.exp(\n",
      "/Users/raphael/Documents/cours/Imperial College/thesis/cgmy_estimation/src/mle.py:48: RuntimeWarning: overflow encountered in exp\n",
      "  return np.exp(logits)\n",
      "/Users/raphael/Documents/cours/Imperial College/thesis/cgmy_estimation/src/mle.py:53: RuntimeWarning: invalid value encountered in multiply\n",
      "  res *= np.exp(1j * self.mu * u * t)\n",
      "/Users/raphael/Documents/cours/Imperial College/thesis/cgmy_estimation/src/mle.py:54: RuntimeWarning: invalid value encountered in multiply\n",
      "  res *= np.exp(\n",
      "/Users/raphael/Documents/cours/Imperial College/thesis/cgmy_estimation/src/mle.py:48: RuntimeWarning: overflow encountered in exp\n",
      "  return np.exp(logits)\n",
      "/Users/raphael/Documents/cours/Imperial College/thesis/cgmy_estimation/src/mle.py:53: RuntimeWarning: invalid value encountered in multiply\n",
      "  res *= np.exp(1j * self.mu * u * t)\n",
      "/Users/raphael/Documents/cours/Imperial College/thesis/cgmy_estimation/src/mle.py:54: RuntimeWarning: invalid value encountered in multiply\n",
      "  res *= np.exp(\n",
      "/Users/raphael/Documents/cours/Imperial College/thesis/cgmy_estimation/src/mle.py:48: RuntimeWarning: overflow encountered in exp\n",
      "  return np.exp(logits)\n",
      "/Users/raphael/Documents/cours/Imperial College/thesis/cgmy_estimation/src/mle.py:53: RuntimeWarning: invalid value encountered in multiply\n",
      "  res *= np.exp(1j * self.mu * u * t)\n",
      "/Users/raphael/Documents/cours/Imperial College/thesis/cgmy_estimation/src/mle.py:54: RuntimeWarning: invalid value encountered in multiply\n",
      "  res *= np.exp(\n",
      "/Users/raphael/Documents/cours/Imperial College/thesis/cgmy_estimation/src/mle.py:48: RuntimeWarning: overflow encountered in exp\n",
      "  return np.exp(logits)\n",
      "/Users/raphael/Documents/cours/Imperial College/thesis/cgmy_estimation/src/mle.py:53: RuntimeWarning: invalid value encountered in multiply\n",
      "  res *= np.exp(1j * self.mu * u * t)\n",
      "/Users/raphael/Documents/cours/Imperial College/thesis/cgmy_estimation/src/mle.py:54: RuntimeWarning: invalid value encountered in multiply\n",
      "  res *= np.exp(\n",
      "/Users/raphael/Documents/cours/Imperial College/thesis/cgmy_estimation/src/mle.py:48: RuntimeWarning: overflow encountered in exp\n",
      "  return np.exp(logits)\n",
      "/Users/raphael/Documents/cours/Imperial College/thesis/cgmy_estimation/src/mle.py:53: RuntimeWarning: invalid value encountered in multiply\n",
      "  res *= np.exp(1j * self.mu * u * t)\n",
      "/Users/raphael/Documents/cours/Imperial College/thesis/cgmy_estimation/src/mle.py:54: RuntimeWarning: invalid value encountered in multiply\n",
      "  res *= np.exp(\n",
      "/Users/raphael/Documents/cours/Imperial College/thesis/cgmy_estimation/src/mle.py:48: RuntimeWarning: overflow encountered in exp\n",
      "  return np.exp(logits)\n",
      "/Users/raphael/Documents/cours/Imperial College/thesis/cgmy_estimation/src/mle.py:53: RuntimeWarning: invalid value encountered in multiply\n",
      "  res *= np.exp(1j * self.mu * u * t)\n",
      "/Users/raphael/Documents/cours/Imperial College/thesis/cgmy_estimation/src/mle.py:54: RuntimeWarning: invalid value encountered in multiply\n",
      "  res *= np.exp(\n",
      "/Users/raphael/Documents/cours/Imperial College/thesis/cgmy_estimation/src/mle.py:48: RuntimeWarning: overflow encountered in exp\n",
      "  return np.exp(logits)\n",
      "/Users/raphael/Documents/cours/Imperial College/thesis/cgmy_estimation/src/mle.py:53: RuntimeWarning: invalid value encountered in multiply\n",
      "  res *= np.exp(1j * self.mu * u * t)\n",
      "/Users/raphael/Documents/cours/Imperial College/thesis/cgmy_estimation/src/mle.py:54: RuntimeWarning: invalid value encountered in multiply\n",
      "  res *= np.exp(\n",
      "/Users/raphael/Documents/cours/Imperial College/thesis/cgmy_estimation/src/mle.py:48: RuntimeWarning: overflow encountered in exp\n",
      "  return np.exp(logits)\n",
      "/Users/raphael/Documents/cours/Imperial College/thesis/cgmy_estimation/src/mle.py:53: RuntimeWarning: invalid value encountered in multiply\n",
      "  res *= np.exp(1j * self.mu * u * t)\n",
      "/Users/raphael/Documents/cours/Imperial College/thesis/cgmy_estimation/src/mle.py:54: RuntimeWarning: invalid value encountered in multiply\n",
      "  res *= np.exp(\n",
      "/Users/raphael/Documents/cours/Imperial College/thesis/cgmy_estimation/src/mle.py:48: RuntimeWarning: overflow encountered in exp\n",
      "  return np.exp(logits)\n",
      "/Users/raphael/Documents/cours/Imperial College/thesis/cgmy_estimation/src/mle.py:53: RuntimeWarning: invalid value encountered in multiply\n",
      "  res *= np.exp(1j * self.mu * u * t)\n",
      "/Users/raphael/Documents/cours/Imperial College/thesis/cgmy_estimation/src/mle.py:54: RuntimeWarning: invalid value encountered in multiply\n",
      "  res *= np.exp(\n",
      "/Users/raphael/Documents/cours/Imperial College/thesis/cgmy_estimation/src/mle.py:48: RuntimeWarning: overflow encountered in exp\n",
      "  return np.exp(logits)\n",
      "/Users/raphael/Documents/cours/Imperial College/thesis/cgmy_estimation/src/mle.py:53: RuntimeWarning: invalid value encountered in multiply\n",
      "  res *= np.exp(1j * self.mu * u * t)\n",
      "/Users/raphael/Documents/cours/Imperial College/thesis/cgmy_estimation/src/mle.py:54: RuntimeWarning: invalid value encountered in multiply\n",
      "  res *= np.exp(\n",
      "/Users/raphael/Documents/cours/Imperial College/thesis/cgmy_estimation/src/mle.py:48: RuntimeWarning: overflow encountered in exp\n",
      "  return np.exp(logits)\n",
      "/Users/raphael/Documents/cours/Imperial College/thesis/cgmy_estimation/src/mle.py:53: RuntimeWarning: invalid value encountered in multiply\n",
      "  res *= np.exp(1j * self.mu * u * t)\n",
      "/Users/raphael/Documents/cours/Imperial College/thesis/cgmy_estimation/src/mle.py:54: RuntimeWarning: invalid value encountered in multiply\n",
      "  res *= np.exp(\n",
      "/Users/raphael/Documents/cours/Imperial College/thesis/cgmy_estimation/src/mle.py:48: RuntimeWarning: overflow encountered in exp\n",
      "  return np.exp(logits)\n",
      "/Users/raphael/Documents/cours/Imperial College/thesis/cgmy_estimation/src/mle.py:53: RuntimeWarning: invalid value encountered in multiply\n",
      "  res *= np.exp(1j * self.mu * u * t)\n",
      "/Users/raphael/Documents/cours/Imperial College/thesis/cgmy_estimation/src/mle.py:54: RuntimeWarning: invalid value encountered in multiply\n",
      "  res *= np.exp(\n",
      "/Users/raphael/Documents/cours/Imperial College/thesis/cgmy_estimation/src/mle.py:48: RuntimeWarning: overflow encountered in exp\n",
      "  return np.exp(logits)\n",
      "/Users/raphael/Documents/cours/Imperial College/thesis/cgmy_estimation/src/mle.py:53: RuntimeWarning: invalid value encountered in multiply\n",
      "  res *= np.exp(1j * self.mu * u * t)\n",
      "/Users/raphael/Documents/cours/Imperial College/thesis/cgmy_estimation/src/mle.py:54: RuntimeWarning: invalid value encountered in multiply\n",
      "  res *= np.exp(\n",
      "/Users/raphael/Documents/cours/Imperial College/thesis/cgmy_estimation/src/mle.py:48: RuntimeWarning: overflow encountered in exp\n",
      "  return np.exp(logits)\n",
      "/Users/raphael/Documents/cours/Imperial College/thesis/cgmy_estimation/src/mle.py:53: RuntimeWarning: invalid value encountered in multiply\n",
      "  res *= np.exp(1j * self.mu * u * t)\n",
      "/Users/raphael/Documents/cours/Imperial College/thesis/cgmy_estimation/src/mle.py:54: RuntimeWarning: invalid value encountered in multiply\n",
      "  res *= np.exp(\n",
      "/Users/raphael/Documents/cours/Imperial College/thesis/cgmy_estimation/src/mle.py:48: RuntimeWarning: overflow encountered in exp\n",
      "  return np.exp(logits)\n",
      "/Users/raphael/Documents/cours/Imperial College/thesis/cgmy_estimation/src/mle.py:53: RuntimeWarning: invalid value encountered in multiply\n",
      "  res *= np.exp(1j * self.mu * u * t)\n",
      "/Users/raphael/Documents/cours/Imperial College/thesis/cgmy_estimation/src/mle.py:54: RuntimeWarning: invalid value encountered in multiply\n",
      "  res *= np.exp(\n",
      "/Users/raphael/Documents/cours/Imperial College/thesis/cgmy_estimation/src/mle.py:48: RuntimeWarning: overflow encountered in exp\n",
      "  return np.exp(logits)\n",
      "/Users/raphael/Documents/cours/Imperial College/thesis/cgmy_estimation/src/mle.py:53: RuntimeWarning: invalid value encountered in multiply\n",
      "  res *= np.exp(1j * self.mu * u * t)\n",
      "/Users/raphael/Documents/cours/Imperial College/thesis/cgmy_estimation/src/mle.py:54: RuntimeWarning: invalid value encountered in multiply\n",
      "  res *= np.exp(\n",
      "/Users/raphael/Documents/cours/Imperial College/thesis/cgmy_estimation/src/mle.py:48: RuntimeWarning: overflow encountered in exp\n",
      "  return np.exp(logits)\n",
      "/Users/raphael/Documents/cours/Imperial College/thesis/cgmy_estimation/src/mle.py:53: RuntimeWarning: invalid value encountered in multiply\n",
      "  res *= np.exp(1j * self.mu * u * t)\n",
      "/Users/raphael/Documents/cours/Imperial College/thesis/cgmy_estimation/src/mle.py:54: RuntimeWarning: invalid value encountered in multiply\n",
      "  res *= np.exp(\n",
      "/Users/raphael/Documents/cours/Imperial College/thesis/cgmy_estimation/src/mle.py:48: RuntimeWarning: overflow encountered in exp\n",
      "  return np.exp(logits)\n",
      "/Users/raphael/Documents/cours/Imperial College/thesis/cgmy_estimation/src/mle.py:53: RuntimeWarning: invalid value encountered in multiply\n",
      "  res *= np.exp(1j * self.mu * u * t)\n",
      "/Users/raphael/Documents/cours/Imperial College/thesis/cgmy_estimation/src/mle.py:54: RuntimeWarning: invalid value encountered in multiply\n",
      "  res *= np.exp(\n"
     ]
    }
   ],
   "source": [
    "aapl_10_sec, mle_aapl_10_sec = mle_orderbook(\"10s\")\n"
   ]
  },
  {
   "cell_type": "code",
   "execution_count": 72,
   "id": "8a1e8542",
   "metadata": {},
   "outputs": [
    {
     "data": {
      "text/plain": [
       "array([[ 1.0000e-03,  1.4064e+02,  1.6071e+02,  3.9347e-01,  1.7025e-04,\n",
       "        -3.2575e+05],\n",
       "       [ 6.5462e+01,  1.9382e+02,  1.8505e+02, -1.6754e+00,  2.1693e-04,\n",
       "        -3.2327e+05],\n",
       "       [ 1.5543e+02,  6.1918e+01,  6.5693e+01, -2.5588e+00,  2.2020e-04,\n",
       "        -3.2315e+05],\n",
       "       [ 8.8410e+01,  1.4233e+02,  5.3058e+01, -2.4137e+00,  2.2263e-04,\n",
       "        -3.2312e+05],\n",
       "       [ 8.4803e+00,  5.6766e+01,  5.0124e+01, -1.8194e+00,  2.2019e-04,\n",
       "        -3.2311e+05]])"
      ]
     },
     "execution_count": 72,
     "metadata": {},
     "output_type": "execute_result"
    }
   ],
   "source": [
    "mle_aapl_10_sec[:5]"
   ]
  },
  {
   "cell_type": "code",
   "execution_count": 73,
   "id": "9f0602a9",
   "metadata": {},
   "outputs": [],
   "source": [
    "np.savetxt(\"../fits/aapl_10_s.csv\", mle_aapl_10_sec)"
   ]
  },
  {
   "cell_type": "code",
   "execution_count": 74,
   "id": "627196fa",
   "metadata": {},
   "outputs": [
    {
     "data": {
      "text/plain": [
       "[<matplotlib.lines.Line2D at 0x12fa416d0>]"
      ]
     },
     "execution_count": 74,
     "metadata": {},
     "output_type": "execute_result"
    },
    {
     "data": {
      "image/png": "[encoded data removed]",
      "text/plain": [
       "<Figure size 640x480 with 1 Axes>"
      ]
     },
     "metadata": {},
     "output_type": "display_data"
    }
   ],
   "source": [
    "plt.hist(aapl_10_sec, density=True, bins=60)\n",
    "cgmy = CGMY(aapl_10_sec,  mle_aapl_10_sec[0][:-1], adjust_L=True)\n",
    "x, pdf = cgmy.compute_pdf_from_cf(t=1)\n",
    "plt.plot(x, pdf)"
   ]
  },
  {
   "cell_type": "markdown",
   "id": "2e0bae90",
   "metadata": {},
   "source": [
    "30s"
   ]
  },
  {
   "cell_type": "code",
   "execution_count": 75,
   "id": "fddb0744",
   "metadata": {},
   "outputs": [],
   "source": [
    "aapl_30_sec, mle_aapl_30_sec = mle_orderbook(\"30s\")"
   ]
  },
  {
   "cell_type": "code",
   "execution_count": 83,
   "id": "dd0d512f",
   "metadata": {},
   "outputs": [],
   "source": [
    "np.savetxt(\"../fits/aapl_30_s.csv\", mle_aapl_30_sec)"
   ]
  },
  {
   "cell_type": "code",
   "execution_count": 78,
   "id": "4932f6bb",
   "metadata": {},
   "outputs": [
    {
     "data": {
      "text/plain": [
       "array([[ 1.0000e-03,  1.8650e+02,  9.4422e+01,  4.2165e-01,  3.0250e-04,\n",
       "        -1.0038e+05],\n",
       "       [ 1.3406e-03,  8.2650e+01,  5.0537e+01,  3.1545e-01,  3.1925e-04,\n",
       "        -1.0027e+05],\n",
       "       [ 2.4138e-03,  5.1610e+02,  2.3499e+03,  4.4595e-01,  2.9292e-04,\n",
       "        -1.0017e+05],\n",
       "       [ 2.6554e+01,  6.7189e+02,  5.3426e+02, -1.2913e+00,  3.7766e-04,\n",
       "        -1.0011e+05],\n",
       "       [ 2.2543e+01,  5.8901e+02,  2.0319e+02, -1.3073e+00,  3.5624e-04,\n",
       "        -9.9996e+04]])"
      ]
     },
     "execution_count": 78,
     "metadata": {},
     "output_type": "execute_result"
    }
   ],
   "source": [
    "mle_aapl_30_sec[:5]"
   ]
  },
  {
   "cell_type": "code",
   "execution_count": 80,
   "id": "af8ba077",
   "metadata": {},
   "outputs": [
    {
     "data": {
      "text/plain": [
       "[<matplotlib.lines.Line2D at 0x12f35d950>]"
      ]
     },
     "execution_count": 80,
     "metadata": {},
     "output_type": "execute_result"
    },
    {
     "data": {
      "image/png": "[encoded data removed]",
      "text/plain": [
       "<Figure size 640x480 with 1 Axes>"
      ]
     },
     "metadata": {},
     "output_type": "display_data"
    }
   ],
   "source": [
    "plt.hist(aapl_30_sec, density=True, bins=60)\n",
    "x, pdf = CGMY(aapl_30_sec,  mle_aapl_30_sec[0][:-1], adjust_L=True).compute_pdf_from_cf()\n",
    "plt.plot(x, pdf)"
   ]
  },
  {
   "cell_type": "markdown",
   "id": "d16297e3",
   "metadata": {},
   "source": [
    "60s"
   ]
  },
  {
   "cell_type": "code",
   "execution_count": 84,
   "id": "77b51f34",
   "metadata": {},
   "outputs": [
    {
     "name": "stderr",
     "output_type": "stream",
     "text": [
      "/Users/raphael/Documents/cours/Imperial College/thesis/cgmy_estimation/src/mle.py:48: RuntimeWarning: overflow encountered in exp\n",
      "  return np.exp(logits)\n",
      "/Users/raphael/Documents/cours/Imperial College/thesis/cgmy_estimation/src/mle.py:53: RuntimeWarning: invalid value encountered in multiply\n",
      "  res *= np.exp(1j * self.mu * u * t)\n",
      "/Users/raphael/Documents/cours/Imperial College/thesis/cgmy_estimation/src/mle.py:54: RuntimeWarning: invalid value encountered in multiply\n",
      "  res *= np.exp(\n",
      "/Users/raphael/Documents/cours/Imperial College/thesis/cgmy_estimation/src/mle.py:48: RuntimeWarning: overflow encountered in exp\n",
      "  return np.exp(logits)\n",
      "/Users/raphael/Documents/cours/Imperial College/thesis/cgmy_estimation/src/mle.py:53: RuntimeWarning: invalid value encountered in multiply\n",
      "  res *= np.exp(1j * self.mu * u * t)\n",
      "/Users/raphael/Documents/cours/Imperial College/thesis/cgmy_estimation/src/mle.py:54: RuntimeWarning: invalid value encountered in multiply\n",
      "  res *= np.exp(\n",
      "/Users/raphael/Documents/cours/Imperial College/thesis/cgmy_estimation/src/mle.py:48: RuntimeWarning: overflow encountered in exp\n",
      "  return np.exp(logits)\n",
      "/Users/raphael/Documents/cours/Imperial College/thesis/cgmy_estimation/src/mle.py:53: RuntimeWarning: invalid value encountered in multiply\n",
      "  res *= np.exp(1j * self.mu * u * t)\n",
      "/Users/raphael/Documents/cours/Imperial College/thesis/cgmy_estimation/src/mle.py:54: RuntimeWarning: invalid value encountered in multiply\n",
      "  res *= np.exp(\n",
      "/Users/raphael/Documents/cours/Imperial College/thesis/cgmy_estimation/src/mle.py:48: RuntimeWarning: overflow encountered in exp\n",
      "  return np.exp(logits)\n",
      "/Users/raphael/Documents/cours/Imperial College/thesis/cgmy_estimation/src/mle.py:53: RuntimeWarning: invalid value encountered in multiply\n",
      "  res *= np.exp(1j * self.mu * u * t)\n",
      "/Users/raphael/Documents/cours/Imperial College/thesis/cgmy_estimation/src/mle.py:54: RuntimeWarning: invalid value encountered in multiply\n",
      "  res *= np.exp(\n",
      "/Users/raphael/Documents/cours/Imperial College/thesis/cgmy_estimation/src/mle.py:48: RuntimeWarning: overflow encountered in exp\n",
      "  return np.exp(logits)\n",
      "/Users/raphael/Documents/cours/Imperial College/thesis/cgmy_estimation/src/mle.py:53: RuntimeWarning: invalid value encountered in multiply\n",
      "  res *= np.exp(1j * self.mu * u * t)\n",
      "/Users/raphael/Documents/cours/Imperial College/thesis/cgmy_estimation/src/mle.py:54: RuntimeWarning: invalid value encountered in multiply\n",
      "  res *= np.exp(\n",
      "/Users/raphael/Documents/cours/Imperial College/thesis/cgmy_estimation/src/mle.py:48: RuntimeWarning: overflow encountered in exp\n",
      "  return np.exp(logits)\n",
      "/Users/raphael/Documents/cours/Imperial College/thesis/cgmy_estimation/src/mle.py:53: RuntimeWarning: invalid value encountered in multiply\n",
      "  res *= np.exp(1j * self.mu * u * t)\n",
      "/Users/raphael/Documents/cours/Imperial College/thesis/cgmy_estimation/src/mle.py:54: RuntimeWarning: invalid value encountered in multiply\n",
      "  res *= np.exp(\n",
      "/Users/raphael/Documents/cours/Imperial College/thesis/cgmy_estimation/src/mle.py:48: RuntimeWarning: overflow encountered in exp\n",
      "  return np.exp(logits)\n",
      "/Users/raphael/Documents/cours/Imperial College/thesis/cgmy_estimation/src/mle.py:53: RuntimeWarning: invalid value encountered in multiply\n",
      "  res *= np.exp(1j * self.mu * u * t)\n",
      "/Users/raphael/Documents/cours/Imperial College/thesis/cgmy_estimation/src/mle.py:54: RuntimeWarning: invalid value encountered in multiply\n",
      "  res *= np.exp(\n",
      "/Users/raphael/Documents/cours/Imperial College/thesis/cgmy_estimation/src/mle.py:48: RuntimeWarning: overflow encountered in exp\n",
      "  return np.exp(logits)\n",
      "/Users/raphael/Documents/cours/Imperial College/thesis/cgmy_estimation/src/mle.py:53: RuntimeWarning: invalid value encountered in multiply\n",
      "  res *= np.exp(1j * self.mu * u * t)\n",
      "/Users/raphael/Documents/cours/Imperial College/thesis/cgmy_estimation/src/mle.py:54: RuntimeWarning: invalid value encountered in multiply\n",
      "  res *= np.exp(\n",
      "/Users/raphael/Documents/cours/Imperial College/thesis/cgmy_estimation/src/mle.py:48: RuntimeWarning: overflow encountered in exp\n",
      "  return np.exp(logits)\n",
      "/Users/raphael/Documents/cours/Imperial College/thesis/cgmy_estimation/src/mle.py:53: RuntimeWarning: invalid value encountered in multiply\n",
      "  res *= np.exp(1j * self.mu * u * t)\n",
      "/Users/raphael/Documents/cours/Imperial College/thesis/cgmy_estimation/src/mle.py:54: RuntimeWarning: invalid value encountered in multiply\n",
      "  res *= np.exp(\n",
      "/Users/raphael/Documents/cours/Imperial College/thesis/cgmy_estimation/src/mle.py:48: RuntimeWarning: overflow encountered in exp\n",
      "  return np.exp(logits)\n",
      "/Users/raphael/Documents/cours/Imperial College/thesis/cgmy_estimation/src/mle.py:53: RuntimeWarning: invalid value encountered in multiply\n",
      "  res *= np.exp(1j * self.mu * u * t)\n",
      "/Users/raphael/Documents/cours/Imperial College/thesis/cgmy_estimation/src/mle.py:54: RuntimeWarning: invalid value encountered in multiply\n",
      "  res *= np.exp(\n",
      "/Users/raphael/Documents/cours/Imperial College/thesis/cgmy_estimation/src/mle.py:48: RuntimeWarning: overflow encountered in exp\n",
      "  return np.exp(logits)\n",
      "/Users/raphael/Documents/cours/Imperial College/thesis/cgmy_estimation/src/mle.py:53: RuntimeWarning: invalid value encountered in multiply\n",
      "  res *= np.exp(1j * self.mu * u * t)\n",
      "/Users/raphael/Documents/cours/Imperial College/thesis/cgmy_estimation/src/mle.py:54: RuntimeWarning: invalid value encountered in multiply\n",
      "  res *= np.exp(\n",
      "/Users/raphael/Documents/cours/Imperial College/thesis/cgmy_estimation/src/mle.py:48: RuntimeWarning: overflow encountered in exp\n",
      "  return np.exp(logits)\n",
      "/Users/raphael/Documents/cours/Imperial College/thesis/cgmy_estimation/src/mle.py:53: RuntimeWarning: invalid value encountered in multiply\n",
      "  res *= np.exp(1j * self.mu * u * t)\n",
      "/Users/raphael/Documents/cours/Imperial College/thesis/cgmy_estimation/src/mle.py:54: RuntimeWarning: invalid value encountered in multiply\n",
      "  res *= np.exp(\n",
      "/Users/raphael/Documents/cours/Imperial College/thesis/cgmy_estimation/src/mle.py:48: RuntimeWarning: overflow encountered in exp\n",
      "  return np.exp(logits)\n",
      "/Users/raphael/Documents/cours/Imperial College/thesis/cgmy_estimation/src/mle.py:53: RuntimeWarning: invalid value encountered in multiply\n",
      "  res *= np.exp(1j * self.mu * u * t)\n",
      "/Users/raphael/Documents/cours/Imperial College/thesis/cgmy_estimation/src/mle.py:54: RuntimeWarning: invalid value encountered in multiply\n",
      "  res *= np.exp(\n",
      "/Users/raphael/Documents/cours/Imperial College/thesis/cgmy_estimation/src/mle.py:48: RuntimeWarning: overflow encountered in exp\n",
      "  return np.exp(logits)\n",
      "/Users/raphael/Documents/cours/Imperial College/thesis/cgmy_estimation/src/mle.py:53: RuntimeWarning: invalid value encountered in multiply\n",
      "  res *= np.exp(1j * self.mu * u * t)\n",
      "/Users/raphael/Documents/cours/Imperial College/thesis/cgmy_estimation/src/mle.py:54: RuntimeWarning: invalid value encountered in multiply\n",
      "  res *= np.exp(\n",
      "/Users/raphael/Documents/cours/Imperial College/thesis/cgmy_estimation/src/mle.py:48: RuntimeWarning: overflow encountered in exp\n",
      "  return np.exp(logits)\n",
      "/Users/raphael/Documents/cours/Imperial College/thesis/cgmy_estimation/src/mle.py:53: RuntimeWarning: invalid value encountered in multiply\n",
      "  res *= np.exp(1j * self.mu * u * t)\n",
      "/Users/raphael/Documents/cours/Imperial College/thesis/cgmy_estimation/src/mle.py:54: RuntimeWarning: invalid value encountered in multiply\n",
      "  res *= np.exp(\n",
      "/Users/raphael/Documents/cours/Imperial College/thesis/cgmy_estimation/src/mle.py:48: RuntimeWarning: overflow encountered in exp\n",
      "  return np.exp(logits)\n",
      "/Users/raphael/Documents/cours/Imperial College/thesis/cgmy_estimation/src/mle.py:53: RuntimeWarning: invalid value encountered in multiply\n",
      "  res *= np.exp(1j * self.mu * u * t)\n",
      "/Users/raphael/Documents/cours/Imperial College/thesis/cgmy_estimation/src/mle.py:54: RuntimeWarning: invalid value encountered in multiply\n",
      "  res *= np.exp(\n",
      "/Users/raphael/Documents/cours/Imperial College/thesis/cgmy_estimation/src/mle.py:48: RuntimeWarning: overflow encountered in exp\n",
      "  return np.exp(logits)\n",
      "/Users/raphael/Documents/cours/Imperial College/thesis/cgmy_estimation/src/mle.py:53: RuntimeWarning: invalid value encountered in multiply\n",
      "  res *= np.exp(1j * self.mu * u * t)\n",
      "/Users/raphael/Documents/cours/Imperial College/thesis/cgmy_estimation/src/mle.py:54: RuntimeWarning: invalid value encountered in multiply\n",
      "  res *= np.exp(\n",
      "/Users/raphael/Documents/cours/Imperial College/thesis/cgmy_estimation/src/mle.py:48: RuntimeWarning: overflow encountered in exp\n",
      "  return np.exp(logits)\n",
      "/Users/raphael/Documents/cours/Imperial College/thesis/cgmy_estimation/src/mle.py:53: RuntimeWarning: invalid value encountered in multiply\n",
      "  res *= np.exp(1j * self.mu * u * t)\n",
      "/Users/raphael/Documents/cours/Imperial College/thesis/cgmy_estimation/src/mle.py:54: RuntimeWarning: invalid value encountered in multiply\n",
      "  res *= np.exp(\n",
      "/Users/raphael/Documents/cours/Imperial College/thesis/cgmy_estimation/src/mle.py:48: RuntimeWarning: overflow encountered in exp\n",
      "  return np.exp(logits)\n",
      "/Users/raphael/Documents/cours/Imperial College/thesis/cgmy_estimation/src/mle.py:53: RuntimeWarning: invalid value encountered in multiply\n",
      "  res *= np.exp(1j * self.mu * u * t)\n",
      "/Users/raphael/Documents/cours/Imperial College/thesis/cgmy_estimation/src/mle.py:54: RuntimeWarning: invalid value encountered in multiply\n",
      "  res *= np.exp(\n",
      "/Users/raphael/Documents/cours/Imperial College/thesis/cgmy_estimation/src/mle.py:48: RuntimeWarning: overflow encountered in exp\n",
      "  return np.exp(logits)\n",
      "/Users/raphael/Documents/cours/Imperial College/thesis/cgmy_estimation/src/mle.py:53: RuntimeWarning: invalid value encountered in multiply\n",
      "  res *= np.exp(1j * self.mu * u * t)\n",
      "/Users/raphael/Documents/cours/Imperial College/thesis/cgmy_estimation/src/mle.py:54: RuntimeWarning: invalid value encountered in multiply\n",
      "  res *= np.exp(\n",
      "/Users/raphael/Documents/cours/Imperial College/thesis/cgmy_estimation/src/mle.py:48: RuntimeWarning: overflow encountered in exp\n",
      "  return np.exp(logits)\n",
      "/Users/raphael/Documents/cours/Imperial College/thesis/cgmy_estimation/src/mle.py:53: RuntimeWarning: invalid value encountered in multiply\n",
      "  res *= np.exp(1j * self.mu * u * t)\n",
      "/Users/raphael/Documents/cours/Imperial College/thesis/cgmy_estimation/src/mle.py:54: RuntimeWarning: invalid value encountered in multiply\n",
      "  res *= np.exp(\n",
      "/Users/raphael/Documents/cours/Imperial College/thesis/cgmy_estimation/src/mle.py:48: RuntimeWarning: overflow encountered in exp\n",
      "  return np.exp(logits)\n",
      "/Users/raphael/Documents/cours/Imperial College/thesis/cgmy_estimation/src/mle.py:53: RuntimeWarning: invalid value encountered in multiply\n",
      "  res *= np.exp(1j * self.mu * u * t)\n",
      "/Users/raphael/Documents/cours/Imperial College/thesis/cgmy_estimation/src/mle.py:54: RuntimeWarning: invalid value encountered in multiply\n",
      "  res *= np.exp(\n",
      "/Users/raphael/Documents/cours/Imperial College/thesis/cgmy_estimation/src/mle.py:48: RuntimeWarning: overflow encountered in exp\n",
      "  return np.exp(logits)\n",
      "/Users/raphael/Documents/cours/Imperial College/thesis/cgmy_estimation/src/mle.py:53: RuntimeWarning: invalid value encountered in multiply\n",
      "  res *= np.exp(1j * self.mu * u * t)\n",
      "/Users/raphael/Documents/cours/Imperial College/thesis/cgmy_estimation/src/mle.py:54: RuntimeWarning: invalid value encountered in multiply\n",
      "  res *= np.exp(\n",
      "/Users/raphael/Documents/cours/Imperial College/thesis/cgmy_estimation/src/mle.py:48: RuntimeWarning: overflow encountered in exp\n",
      "  return np.exp(logits)\n",
      "/Users/raphael/Documents/cours/Imperial College/thesis/cgmy_estimation/src/mle.py:53: RuntimeWarning: invalid value encountered in multiply\n",
      "  res *= np.exp(1j * self.mu * u * t)\n",
      "/Users/raphael/Documents/cours/Imperial College/thesis/cgmy_estimation/src/mle.py:54: RuntimeWarning: invalid value encountered in multiply\n",
      "  res *= np.exp(\n",
      "/Users/raphael/Documents/cours/Imperial College/thesis/cgmy_estimation/src/mle.py:48: RuntimeWarning: overflow encountered in exp\n",
      "  return np.exp(logits)\n",
      "/Users/raphael/Documents/cours/Imperial College/thesis/cgmy_estimation/src/mle.py:53: RuntimeWarning: invalid value encountered in multiply\n",
      "  res *= np.exp(1j * self.mu * u * t)\n",
      "/Users/raphael/Documents/cours/Imperial College/thesis/cgmy_estimation/src/mle.py:54: RuntimeWarning: invalid value encountered in multiply\n",
      "  res *= np.exp(\n",
      "/Users/raphael/Documents/cours/Imperial College/thesis/cgmy_estimation/src/mle.py:48: RuntimeWarning: overflow encountered in exp\n",
      "  return np.exp(logits)\n",
      "/Users/raphael/Documents/cours/Imperial College/thesis/cgmy_estimation/src/mle.py:53: RuntimeWarning: invalid value encountered in multiply\n",
      "  res *= np.exp(1j * self.mu * u * t)\n",
      "/Users/raphael/Documents/cours/Imperial College/thesis/cgmy_estimation/src/mle.py:54: RuntimeWarning: invalid value encountered in multiply\n",
      "  res *= np.exp(\n",
      "/Users/raphael/Documents/cours/Imperial College/thesis/cgmy_estimation/src/mle.py:48: RuntimeWarning: overflow encountered in exp\n",
      "  return np.exp(logits)\n",
      "/Users/raphael/Documents/cours/Imperial College/thesis/cgmy_estimation/src/mle.py:53: RuntimeWarning: invalid value encountered in multiply\n",
      "  res *= np.exp(1j * self.mu * u * t)\n",
      "/Users/raphael/Documents/cours/Imperial College/thesis/cgmy_estimation/src/mle.py:54: RuntimeWarning: invalid value encountered in multiply\n",
      "  res *= np.exp(\n",
      "/Users/raphael/Documents/cours/Imperial College/thesis/cgmy_estimation/src/mle.py:48: RuntimeWarning: overflow encountered in exp\n",
      "  return np.exp(logits)\n",
      "/Users/raphael/Documents/cours/Imperial College/thesis/cgmy_estimation/src/mle.py:53: RuntimeWarning: invalid value encountered in multiply\n",
      "  res *= np.exp(1j * self.mu * u * t)\n",
      "/Users/raphael/Documents/cours/Imperial College/thesis/cgmy_estimation/src/mle.py:54: RuntimeWarning: invalid value encountered in multiply\n",
      "  res *= np.exp(\n",
      "/Users/raphael/Documents/cours/Imperial College/thesis/cgmy_estimation/src/mle.py:48: RuntimeWarning: overflow encountered in exp\n",
      "  return np.exp(logits)\n",
      "/Users/raphael/Documents/cours/Imperial College/thesis/cgmy_estimation/src/mle.py:53: RuntimeWarning: invalid value encountered in multiply\n",
      "  res *= np.exp(1j * self.mu * u * t)\n",
      "/Users/raphael/Documents/cours/Imperial College/thesis/cgmy_estimation/src/mle.py:54: RuntimeWarning: invalid value encountered in multiply\n",
      "  res *= np.exp(\n",
      "/Users/raphael/Documents/cours/Imperial College/thesis/cgmy_estimation/src/mle.py:48: RuntimeWarning: overflow encountered in exp\n",
      "  return np.exp(logits)\n",
      "/Users/raphael/Documents/cours/Imperial College/thesis/cgmy_estimation/src/mle.py:53: RuntimeWarning: invalid value encountered in multiply\n",
      "  res *= np.exp(1j * self.mu * u * t)\n",
      "/Users/raphael/Documents/cours/Imperial College/thesis/cgmy_estimation/src/mle.py:54: RuntimeWarning: invalid value encountered in multiply\n",
      "  res *= np.exp(\n",
      "/Users/raphael/Documents/cours/Imperial College/thesis/cgmy_estimation/src/mle.py:48: RuntimeWarning: overflow encountered in exp\n",
      "  return np.exp(logits)\n",
      "/Users/raphael/Documents/cours/Imperial College/thesis/cgmy_estimation/src/mle.py:53: RuntimeWarning: invalid value encountered in multiply\n",
      "  res *= np.exp(1j * self.mu * u * t)\n",
      "/Users/raphael/Documents/cours/Imperial College/thesis/cgmy_estimation/src/mle.py:54: RuntimeWarning: invalid value encountered in multiply\n",
      "  res *= np.exp(\n",
      "/Users/raphael/Documents/cours/Imperial College/thesis/cgmy_estimation/src/mle.py:48: RuntimeWarning: overflow encountered in exp\n",
      "  return np.exp(logits)\n",
      "/Users/raphael/Documents/cours/Imperial College/thesis/cgmy_estimation/src/mle.py:53: RuntimeWarning: invalid value encountered in multiply\n",
      "  res *= np.exp(1j * self.mu * u * t)\n",
      "/Users/raphael/Documents/cours/Imperial College/thesis/cgmy_estimation/src/mle.py:54: RuntimeWarning: invalid value encountered in multiply\n",
      "  res *= np.exp(\n",
      "/Users/raphael/Documents/cours/Imperial College/thesis/cgmy_estimation/src/mle.py:48: RuntimeWarning: overflow encountered in exp\n",
      "  return np.exp(logits)\n",
      "/Users/raphael/Documents/cours/Imperial College/thesis/cgmy_estimation/src/mle.py:53: RuntimeWarning: invalid value encountered in multiply\n",
      "  res *= np.exp(1j * self.mu * u * t)\n",
      "/Users/raphael/Documents/cours/Imperial College/thesis/cgmy_estimation/src/mle.py:54: RuntimeWarning: invalid value encountered in multiply\n",
      "  res *= np.exp(\n",
      "/Users/raphael/Documents/cours/Imperial College/thesis/cgmy_estimation/src/mle.py:48: RuntimeWarning: overflow encountered in exp\n",
      "  return np.exp(logits)\n",
      "/Users/raphael/Documents/cours/Imperial College/thesis/cgmy_estimation/src/mle.py:53: RuntimeWarning: invalid value encountered in multiply\n",
      "  res *= np.exp(1j * self.mu * u * t)\n",
      "/Users/raphael/Documents/cours/Imperial College/thesis/cgmy_estimation/src/mle.py:54: RuntimeWarning: invalid value encountered in multiply\n",
      "  res *= np.exp(\n",
      "/Users/raphael/Documents/cours/Imperial College/thesis/cgmy_estimation/src/mle.py:48: RuntimeWarning: overflow encountered in exp\n",
      "  return np.exp(logits)\n",
      "/Users/raphael/Documents/cours/Imperial College/thesis/cgmy_estimation/src/mle.py:53: RuntimeWarning: invalid value encountered in multiply\n",
      "  res *= np.exp(1j * self.mu * u * t)\n",
      "/Users/raphael/Documents/cours/Imperial College/thesis/cgmy_estimation/src/mle.py:54: RuntimeWarning: invalid value encountered in multiply\n",
      "  res *= np.exp(\n",
      "/Users/raphael/Documents/cours/Imperial College/thesis/cgmy_estimation/src/mle.py:48: RuntimeWarning: overflow encountered in exp\n",
      "  return np.exp(logits)\n",
      "/Users/raphael/Documents/cours/Imperial College/thesis/cgmy_estimation/src/mle.py:53: RuntimeWarning: invalid value encountered in multiply\n",
      "  res *= np.exp(1j * self.mu * u * t)\n",
      "/Users/raphael/Documents/cours/Imperial College/thesis/cgmy_estimation/src/mle.py:54: RuntimeWarning: invalid value encountered in multiply\n",
      "  res *= np.exp(\n",
      "/Users/raphael/Documents/cours/Imperial College/thesis/cgmy_estimation/src/mle.py:48: RuntimeWarning: overflow encountered in exp\n",
      "  return np.exp(logits)\n",
      "/Users/raphael/Documents/cours/Imperial College/thesis/cgmy_estimation/src/mle.py:53: RuntimeWarning: invalid value encountered in multiply\n",
      "  res *= np.exp(1j * self.mu * u * t)\n",
      "/Users/raphael/Documents/cours/Imperial College/thesis/cgmy_estimation/src/mle.py:54: RuntimeWarning: invalid value encountered in multiply\n",
      "  res *= np.exp(\n",
      "/Users/raphael/Documents/cours/Imperial College/thesis/cgmy_estimation/src/mle.py:48: RuntimeWarning: overflow encountered in exp\n",
      "  return np.exp(logits)\n",
      "/Users/raphael/Documents/cours/Imperial College/thesis/cgmy_estimation/src/mle.py:53: RuntimeWarning: invalid value encountered in multiply\n",
      "  res *= np.exp(1j * self.mu * u * t)\n",
      "/Users/raphael/Documents/cours/Imperial College/thesis/cgmy_estimation/src/mle.py:54: RuntimeWarning: invalid value encountered in multiply\n",
      "  res *= np.exp(\n",
      "/Users/raphael/Documents/cours/Imperial College/thesis/cgmy_estimation/src/mle.py:48: RuntimeWarning: overflow encountered in exp\n",
      "  return np.exp(logits)\n",
      "/Users/raphael/Documents/cours/Imperial College/thesis/cgmy_estimation/src/mle.py:53: RuntimeWarning: invalid value encountered in multiply\n",
      "  res *= np.exp(1j * self.mu * u * t)\n",
      "/Users/raphael/Documents/cours/Imperial College/thesis/cgmy_estimation/src/mle.py:54: RuntimeWarning: invalid value encountered in multiply\n",
      "  res *= np.exp(\n",
      "/Users/raphael/Documents/cours/Imperial College/thesis/cgmy_estimation/src/mle.py:48: RuntimeWarning: overflow encountered in exp\n",
      "  return np.exp(logits)\n",
      "/Users/raphael/Documents/cours/Imperial College/thesis/cgmy_estimation/src/mle.py:53: RuntimeWarning: invalid value encountered in multiply\n",
      "  res *= np.exp(1j * self.mu * u * t)\n",
      "/Users/raphael/Documents/cours/Imperial College/thesis/cgmy_estimation/src/mle.py:54: RuntimeWarning: invalid value encountered in multiply\n",
      "  res *= np.exp(\n",
      "/Users/raphael/Documents/cours/Imperial College/thesis/cgmy_estimation/src/mle.py:48: RuntimeWarning: overflow encountered in exp\n",
      "  return np.exp(logits)\n",
      "/Users/raphael/Documents/cours/Imperial College/thesis/cgmy_estimation/src/mle.py:53: RuntimeWarning: invalid value encountered in multiply\n",
      "  res *= np.exp(1j * self.mu * u * t)\n",
      "/Users/raphael/Documents/cours/Imperial College/thesis/cgmy_estimation/src/mle.py:54: RuntimeWarning: invalid value encountered in multiply\n",
      "  res *= np.exp(\n",
      "/Users/raphael/Documents/cours/Imperial College/thesis/cgmy_estimation/src/mle.py:48: RuntimeWarning: overflow encountered in exp\n",
      "  return np.exp(logits)\n",
      "/Users/raphael/Documents/cours/Imperial College/thesis/cgmy_estimation/src/mle.py:53: RuntimeWarning: invalid value encountered in multiply\n",
      "  res *= np.exp(1j * self.mu * u * t)\n",
      "/Users/raphael/Documents/cours/Imperial College/thesis/cgmy_estimation/src/mle.py:54: RuntimeWarning: invalid value encountered in multiply\n",
      "  res *= np.exp(\n",
      "/Users/raphael/Documents/cours/Imperial College/thesis/cgmy_estimation/src/mle.py:48: RuntimeWarning: overflow encountered in exp\n",
      "  return np.exp(logits)\n",
      "/Users/raphael/Documents/cours/Imperial College/thesis/cgmy_estimation/src/mle.py:53: RuntimeWarning: invalid value encountered in multiply\n",
      "  res *= np.exp(1j * self.mu * u * t)\n",
      "/Users/raphael/Documents/cours/Imperial College/thesis/cgmy_estimation/src/mle.py:54: RuntimeWarning: invalid value encountered in multiply\n",
      "  res *= np.exp(\n",
      "/Users/raphael/Documents/cours/Imperial College/thesis/cgmy_estimation/src/mle.py:48: RuntimeWarning: overflow encountered in exp\n",
      "  return np.exp(logits)\n",
      "/Users/raphael/Documents/cours/Imperial College/thesis/cgmy_estimation/src/mle.py:53: RuntimeWarning: invalid value encountered in multiply\n",
      "  res *= np.exp(1j * self.mu * u * t)\n",
      "/Users/raphael/Documents/cours/Imperial College/thesis/cgmy_estimation/src/mle.py:54: RuntimeWarning: invalid value encountered in multiply\n",
      "  res *= np.exp(\n",
      "/Users/raphael/Documents/cours/Imperial College/thesis/cgmy_estimation/src/mle.py:48: RuntimeWarning: overflow encountered in exp\n",
      "  return np.exp(logits)\n",
      "/Users/raphael/Documents/cours/Imperial College/thesis/cgmy_estimation/src/mle.py:53: RuntimeWarning: invalid value encountered in multiply\n",
      "  res *= np.exp(1j * self.mu * u * t)\n",
      "/Users/raphael/Documents/cours/Imperial College/thesis/cgmy_estimation/src/mle.py:54: RuntimeWarning: invalid value encountered in multiply\n",
      "  res *= np.exp(\n",
      "/Users/raphael/Documents/cours/Imperial College/thesis/cgmy_estimation/src/mle.py:48: RuntimeWarning: overflow encountered in exp\n",
      "  return np.exp(logits)\n",
      "/Users/raphael/Documents/cours/Imperial College/thesis/cgmy_estimation/src/mle.py:53: RuntimeWarning: invalid value encountered in multiply\n",
      "  res *= np.exp(1j * self.mu * u * t)\n",
      "/Users/raphael/Documents/cours/Imperial College/thesis/cgmy_estimation/src/mle.py:54: RuntimeWarning: invalid value encountered in multiply\n",
      "  res *= np.exp(\n",
      "/Users/raphael/Documents/cours/Imperial College/thesis/cgmy_estimation/src/mle.py:48: RuntimeWarning: overflow encountered in exp\n",
      "  return np.exp(logits)\n",
      "/Users/raphael/Documents/cours/Imperial College/thesis/cgmy_estimation/src/mle.py:53: RuntimeWarning: invalid value encountered in multiply\n",
      "  res *= np.exp(1j * self.mu * u * t)\n",
      "/Users/raphael/Documents/cours/Imperial College/thesis/cgmy_estimation/src/mle.py:54: RuntimeWarning: invalid value encountered in multiply\n",
      "  res *= np.exp(\n"
     ]
    }
   ],
   "source": [
    "aapl_60_sec, mle_aapl_60_sec = mle_orderbook(\"60s\")"
   ]
  },
  {
   "cell_type": "code",
   "execution_count": 85,
   "id": "9f067822",
   "metadata": {},
   "outputs": [],
   "source": [
    "np.savetxt(\"../fits/aapl_60_s.csv\", mle_aapl_60_sec)"
   ]
  },
  {
   "cell_type": "code",
   "execution_count": 86,
   "id": "73b548c0",
   "metadata": {},
   "outputs": [
    {
     "data": {
      "text/plain": [
       "array([[ 1.0000e-03,  7.8505e+02,  7.0369e+02,  7.3060e-01,  1.5407e-04,\n",
       "        -4.7806e+04],\n",
       "       [ 1.0000e-03,  1.2268e+02,  1.2878e+02,  4.7834e-01,  4.0311e-04,\n",
       "        -4.7678e+04],\n",
       "       [ 1.4350e-03,  1.8647e+02,  9.3402e+01,  4.4150e-01,  3.8609e-04,\n",
       "        -4.7666e+04],\n",
       "       [ 1.2451e-03,  6.0511e+01,  6.6489e+01,  3.9860e-01,  4.1677e-04,\n",
       "        -4.7619e+04],\n",
       "       [ 1.2836e+01,  1.4080e+02,  1.6070e+02, -1.3563e+00,  4.9437e-04,\n",
       "        -4.7396e+04]])"
      ]
     },
     "execution_count": 86,
     "metadata": {},
     "output_type": "execute_result"
    }
   ],
   "source": [
    "mle_aapl_60_sec[:5]"
   ]
  },
  {
   "cell_type": "code",
   "execution_count": 87,
   "id": "77f6869c",
   "metadata": {},
   "outputs": [
    {
     "data": {
      "text/plain": [
       "[<matplotlib.lines.Line2D at 0x12f8160d0>]"
      ]
     },
     "execution_count": 87,
     "metadata": {},
     "output_type": "execute_result"
    },
    {
     "data": {
      "image/png": "[encoded data removed]",
      "text/plain": [
       "<Figure size 640x480 with 1 Axes>"
      ]
     },
     "metadata": {},
     "output_type": "display_data"
    }
   ],
   "source": [
    "plt.hist(aapl_60_sec, density=True, bins=60)\n",
    "x, pdf = CGMY(aapl_60_sec,  mle_aapl_60_sec[2][:-1], adjust_L=False).compute_pdf_from_cf()\n",
    "plt.plot(x, pdf)"
   ]
  },
  {
   "cell_type": "markdown",
   "id": "991af30c",
   "metadata": {},
   "source": [
    "5 min"
   ]
  },
  {
   "cell_type": "code",
   "execution_count": 88,
   "id": "9bee4745",
   "metadata": {},
   "outputs": [],
   "source": [
    "aapl_300_sec, mle_aapl_300_sec = mle_orderbook(\"300s\")"
   ]
  },
  {
   "cell_type": "code",
   "execution_count": 89,
   "id": "43642d5e",
   "metadata": {},
   "outputs": [
    {
     "data": {
      "text/plain": [
       "array([[ 2.4206e+00,  7.6699e+02,  6.1351e+02, -2.2309e-01,  1.0000e-05,\n",
       "        -8.3931e+03],\n",
       "       [ 1.0000e-03,  3.5140e+02,  3.4659e+02,  8.4471e-01,  1.0000e-05,\n",
       "        -8.3356e+03],\n",
       "       [ 1.2450e-03,  2.8712e+02,  1.8430e+02,  7.1465e-01,  6.4857e-04,\n",
       "        -8.3255e+03],\n",
       "       [ 1.0000e-03,  2.8554e+02,  1.8364e+02,  8.2041e-01,  1.0000e-05,\n",
       "        -8.3225e+03],\n",
       "       [ 1.6209e+02,  2.8998e+02,  1.9268e+02, -1.6849e+00,  1.1100e-03,\n",
       "        -8.2914e+03]])"
      ]
     },
     "execution_count": 89,
     "metadata": {},
     "output_type": "execute_result"
    }
   ],
   "source": [
    "mle_aapl_300_sec[:5]"
   ]
  },
  {
   "cell_type": "code",
   "execution_count": 90,
   "id": "37603d22",
   "metadata": {},
   "outputs": [],
   "source": [
    "np.savetxt(\"../fits/aapl_300_s.csv\", mle_aapl_300_sec)"
   ]
  },
  {
   "cell_type": "code",
   "execution_count": 93,
   "id": "f7cb7eba",
   "metadata": {},
   "outputs": [
    {
     "data": {
      "text/plain": [
       "[<matplotlib.lines.Line2D at 0x12ff24690>]"
      ]
     },
     "execution_count": 93,
     "metadata": {},
     "output_type": "execute_result"
    },
    {
     "data": {
      "image/png": "[encoded data removed]",
      "text/plain": [
       "<Figure size 640x480 with 1 Axes>"
      ]
     },
     "metadata": {},
     "output_type": "display_data"
    }
   ],
   "source": [
    "plt.hist(aapl_300_sec, density=True, bins=60)\n",
    "x, pdf = CGMY(aapl_300_sec,  mle_aapl_300_sec[2][:-1], adjust_L=False).compute_pdf_from_cf()\n",
    "plt.plot(x, pdf)"
   ]
  },
  {
   "cell_type": "code",
   "execution_count": null,
   "id": "09030727",
   "metadata": {},
   "outputs": [],
   "source": []
  }
 ],
 "metadata": {
  "kernelspec": {
   "display_name": ".venv",
   "language": "python",
   "name": "python3"
  },
  "language_info": {
   "codemirror_mode": {
    "name": "ipython",
    "version": 3
   },
   "file_extension": ".py",
   "mimetype": "text/x-python",
   "name": "python",
   "nbconvert_exporter": "python",
   "pygments_lexer": "ipython3",
   "version": "3.13.2"
  }
 },
 "nbformat": 4,
 "nbformat_minor": 5
}
