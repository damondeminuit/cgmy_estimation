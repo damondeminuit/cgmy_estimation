{
 "cells": [
  {
   "cell_type": "code",
   "execution_count": 1,
   "id": "ca420cc5",
   "metadata": {},
   "outputs": [],
   "source": [
    "from mle import negative_log_lik, CGMY\n",
    "import numpy as np\n",
    "import pandas as pd\n",
    "from scipy.optimize import minimize\n",
    "import matplotlib.pyplot as plt\n",
    "from joblib import Parallel, delayed\n",
    "import os\n",
    "from option_pricer import pricing_chara"
   ]
  },
  {
   "cell_type": "code",
   "execution_count": 2,
   "id": "4767d02c",
   "metadata": {},
   "outputs": [],
   "source": [
    "np.set_printoptions(precision=4, suppress=False)"
   ]
  },
  {
   "cell_type": "code",
   "execution_count": null,
   "id": "232a32a6",
   "metadata": {},
   "outputs": [],
   "source": [
    "DATA_FOLDER = \"../data\""
   ]
  },
  {
   "cell_type": "code",
   "execution_count": null,
   "id": "977c640d",
   "metadata": {},
   "outputs": [],
   "source": [
    "def load_returns(path, start_date=None, end_date=None):\n",
    "    df = pd.read_csv(f\"{DATA_FOLDER}/{path}\")\n",
    "    df[\"Date\"] = pd.to_datetime(df[\"Date\"])\n",
    "    df.index = df[\"Date\"]\n",
    "    col = \"Close\" if \"Last Price\" not in df.columns else \"Last Price\"\n",
    "    df = df.filter([col])\n",
    "    df = df.sort_index()\n",
    "    if start_date is not None and end_date is not None:\n",
    "        df = df[(df.index >= start_date) & (df.index <= end_date)]\n",
    "    rets = np.log(df[col]).diff().dropna()\n",
    "    return rets"
   ]
  },
  {
   "cell_type": "code",
   "execution_count": null,
   "id": "9556437c",
   "metadata": {},
   "outputs": [],
   "source": [
    "def load_orderbook_trades(freq):\n",
    "    \"\"\"\n",
    "    Load the trades from the orderbook dataset\n",
    "    freq : str, the frequency of the data\n",
    "    \"\"\"\n",
    "    path_to_orderbook = f\"{DATA_FOLDER}/orderbook\"\n",
    "    files = os.listdir(path_to_orderbook)\n",
    "    L = []\n",
    "\n",
    "    # Load the prices for each day\n",
    "    for file in files:\n",
    "        if \"message\" not in file:\n",
    "            continue\n",
    "\n",
    "        updates = pd.read_csv(\n",
    "            f\"{path_to_orderbook}/{file}\",\n",
    "            names=[\"time\", \"type\", \"order_id\", \"volume\", \"price\", \"direction\", \"null\"],\n",
    "            low_memory=False,\n",
    "        )\n",
    "        trades = updates[updates[\"type\"] == 4]  # select trades\n",
    "        trades = trades.reset_index().drop(columns=\"index\")\n",
    "        base_date = pd.to_datetime(\n",
    "            file.split(\"_\")[1]\n",
    "        )  # find the date in the name of the file\n",
    "        trades[\"time\"] = base_date + pd.to_timedelta(\n",
    "            trades[\"time\"], unit=\"s\"\n",
    "        )  # retrieve the correct timstamp\n",
    "        trades = trades.filter([\"time\", \"price\"])\n",
    "        trades.index = trades[\"time\"]\n",
    "        trades = trades.sort_index()\n",
    "        trades_freq = trades.groupby(\n",
    "            pd.Grouper(key=\"time\", freq=freq)  # group by frequency\n",
    "        ).last()  # select last trade for each frequency\n",
    "\n",
    "        # create a full range of seconds for the trading day (assuming 9:30–16:00)\n",
    "        market_open = base_date + pd.Timedelta(hours=9, minutes=30)\n",
    "        market_close = base_date + pd.Timedelta(hours=16)\n",
    "        all_seconds = pd.date_range(start=market_open, end=market_close, freq=freq)\n",
    "\n",
    "        # reindex trades onto full timeline\n",
    "        trades_full = (\n",
    "            trades_freq.reindex(all_seconds)  # insert all missing seconds\n",
    "            .rename_axis(\"time\")\n",
    "            .reset_index()\n",
    "        )\n",
    "\n",
    "        # handle missing prices: leave NaN, or forward-fill if appropriate\n",
    "        trades_full[\"price\"] = trades_full[\"price\"].ffill()\n",
    "        L.append(trades_full)\n",
    "\n",
    "    trades = pd.concat(L)  # concatenate all the dates\n",
    "    trades.index = trades[\"time\"]\n",
    "    trades = trades.sort_index()\n",
    "    trades[\"rets\"] = np.log(trades[\"price\"]).diff()\n",
    "\n",
    "    return trades[\"rets\"].dropna()"
   ]
  },
  {
   "cell_type": "code",
   "execution_count": null,
   "id": "23ce5642",
   "metadata": {},
   "outputs": [],
   "source": [
    "def optim_parall(data, seed=123, periods=1, boundaries_min=[1e-3, 1, 1, -5, 1e-5]):\n",
    "    min_c = boundaries_min[0]\n",
    "    min_g = boundaries_min[1]\n",
    "    min_m = boundaries_min[2]\n",
    "    min_y = boundaries_min[3]\n",
    "    min_sigma = boundaries_min[4]\n",
    "    np.random.seed(seed)\n",
    "\n",
    "    c = np.random.uniform(min_c, 200)\n",
    "    g = np.random.uniform(min_g, 200)\n",
    "    m = np.random.uniform(min_m, 200)\n",
    "    y = np.random.uniform(min_y, 1.9)\n",
    "    sigma = np.random.uniform(min_sigma, 0.1)\n",
    "    res = minimize(\n",
    "        lambda x: negative_log_lik(x, data, periods),\n",
    "        x0=[c, g, m, y, sigma],\n",
    "        bounds=[\n",
    "            (min_c, np.inf),\n",
    "            (min_g, np.inf),\n",
    "            (min_m, np.inf),\n",
    "            (min_y, 1.9),\n",
    "            (min_sigma, 0.1),\n",
    "        ],\n",
    "    )\n",
    "\n",
    "    return res"
   ]
  },
  {
   "cell_type": "code",
   "execution_count": null,
   "id": "9b8136ab",
   "metadata": {},
   "outputs": [],
   "source": [
    "def mle_orderbook(freq, n=50, boundaries_min=[1e-3, 1, 1, -5, 1e-5]):\n",
    "    aapl_freq = load_orderbook_trades(freq)\n",
    "\n",
    "    master_seed = 42\n",
    "    rng = np.random.default_rng(master_seed)\n",
    "    seeds = rng.integers(0, 2**32, size=n)\n",
    "\n",
    "    results_aapl_freq = Parallel(n_jobs=-1)(\n",
    "        delayed(optim_parall)(aapl_freq, seed=seed, boundaries_min=boundaries_min)\n",
    "        for seed in seeds\n",
    "    )\n",
    "    mle_aapl_freq = np.array(\n",
    "        [np.concat([res.x, [res.fun]]) for res in results_aapl_freq]\n",
    "    )\n",
    "    mle_aapl_freq = mle_aapl_freq[mle_aapl_freq[:, 5].argsort()]\n",
    "\n",
    "    return aapl_freq, mle_aapl_freq"
   ]
  },
  {
   "cell_type": "code",
   "execution_count": 8,
   "id": "3ff180ca",
   "metadata": {},
   "outputs": [],
   "source": [
    "start_date = pd.Timestamp(\"2021-07-01\")\n",
    "end_date = pd.Timestamp(\"2025-06-30\")"
   ]
  },
  {
   "cell_type": "markdown",
   "id": "23d386a1",
   "metadata": {},
   "source": [
    "SPX Index Daily"
   ]
  },
  {
   "cell_type": "code",
   "execution_count": 12,
   "id": "9007fcd7",
   "metadata": {},
   "outputs": [],
   "source": [
    "spx_rets_day = load_returns(\"SPX_D.csv\", start_date=start_date, end_date=end_date)"
   ]
  },
  {
   "cell_type": "code",
   "execution_count": 30,
   "id": "12899a2d",
   "metadata": {},
   "outputs": [
    {
     "data": {
      "text/plain": [
       "[<matplotlib.lines.Line2D at 0x15060f610>]"
      ]
     },
     "execution_count": 30,
     "metadata": {},
     "output_type": "execute_result"
    },
    {
     "data": {
      "image/png": "[encoded data removed]",
      "text/plain": [
       "<Figure size 640x480 with 1 Axes>"
      ]
     },
     "metadata": {},
     "output_type": "display_data"
    }
   ],
   "source": [
    "cgmy = CGMY(\n",
    "    spx_rets_day,\n",
    "    [3.5574e01, 1.9516e02, 1.8945e02, -5.9715e-01, 1.8071e-03],\n",
    "    adjust_L=True,\n",
    ")\n",
    "# cgmy2 = CGMY(spx_rets_day, spx_day_best_fits[1][:-1], adjust_L=True)\n",
    "x, pdf = cgmy.compute_pdf_from_cf()\n",
    "x2, pdf2 = cgmy.compute_pdf_from_cf()\n",
    "plt.hist(spx_rets_day, density=True, bins=60)\n",
    "plt.plot(x2, pdf2)"
   ]
  },
  {
   "cell_type": "code",
   "execution_count": null,
   "id": "6bc9cfc6",
   "metadata": {},
   "outputs": [
    {
     "name": "stderr",
     "output_type": "stream",
     "text": [
      "/Users/raphael/Documents/cours/Imperial College/thesis/cgmy_estimation/src/mle.py:45: RuntimeWarning: overflow encountered in exp\n",
      "  return np.exp(logits)\n",
      "/Users/raphael/Documents/cours/Imperial College/thesis/cgmy_estimation/src/mle.py:50: RuntimeWarning: invalid value encountered in multiply\n",
      "  res *= np.exp(1j * self.mu * u * t)\n",
      "/Users/raphael/Documents/cours/Imperial College/thesis/cgmy_estimation/src/mle.py:51: RuntimeWarning: invalid value encountered in multiply\n",
      "  res *= np.exp(-0.5 * t * (self.sigma * u) ** 2)\n",
      "/Users/raphael/Documents/cours/Imperial College/thesis/cgmy_estimation/src/mle.py:45: RuntimeWarning: overflow encountered in exp\n",
      "  return np.exp(logits)\n",
      "/Users/raphael/Documents/cours/Imperial College/thesis/cgmy_estimation/src/mle.py:50: RuntimeWarning: invalid value encountered in multiply\n",
      "  res *= np.exp(1j * self.mu * u * t)\n",
      "/Users/raphael/Documents/cours/Imperial College/thesis/cgmy_estimation/src/mle.py:51: RuntimeWarning: invalid value encountered in multiply\n",
      "  res *= np.exp(-0.5 * t * (self.sigma * u) ** 2)\n",
      "/Users/raphael/Documents/cours/Imperial College/thesis/cgmy_estimation/src/mle.py:45: RuntimeWarning: overflow encountered in exp\n",
      "  return np.exp(logits)\n",
      "/Users/raphael/Documents/cours/Imperial College/thesis/cgmy_estimation/src/mle.py:50: RuntimeWarning: invalid value encountered in multiply\n",
      "  res *= np.exp(1j * self.mu * u * t)\n",
      "/Users/raphael/Documents/cours/Imperial College/thesis/cgmy_estimation/src/mle.py:51: RuntimeWarning: invalid value encountered in multiply\n",
      "  res *= np.exp(-0.5 * t * (self.sigma * u) ** 2)\n",
      "/Users/raphael/Documents/cours/Imperial College/thesis/cgmy_estimation/src/mle.py:45: RuntimeWarning: overflow encountered in exp\n",
      "  return np.exp(logits)\n",
      "/Users/raphael/Documents/cours/Imperial College/thesis/cgmy_estimation/src/mle.py:50: RuntimeWarning: invalid value encountered in multiply\n",
      "  res *= np.exp(1j * self.mu * u * t)\n",
      "/Users/raphael/Documents/cours/Imperial College/thesis/cgmy_estimation/src/mle.py:51: RuntimeWarning: invalid value encountered in multiply\n",
      "  res *= np.exp(-0.5 * t * (self.sigma * u) ** 2)\n",
      "/Users/raphael/Documents/cours/Imperial College/thesis/cgmy_estimation/src/mle.py:45: RuntimeWarning: overflow encountered in exp\n",
      "  return np.exp(logits)\n",
      "/Users/raphael/Documents/cours/Imperial College/thesis/cgmy_estimation/src/mle.py:50: RuntimeWarning: invalid value encountered in multiply\n",
      "  res *= np.exp(1j * self.mu * u * t)\n",
      "/Users/raphael/Documents/cours/Imperial College/thesis/cgmy_estimation/src/mle.py:51: RuntimeWarning: invalid value encountered in multiply\n",
      "  res *= np.exp(-0.5 * t * (self.sigma * u) ** 2)\n",
      "/Users/raphael/Documents/cours/Imperial College/thesis/cgmy_estimation/src/mle.py:45: RuntimeWarning: overflow encountered in exp\n",
      "  return np.exp(logits)\n",
      "/Users/raphael/Documents/cours/Imperial College/thesis/cgmy_estimation/src/mle.py:50: RuntimeWarning: invalid value encountered in multiply\n",
      "  res *= np.exp(1j * self.mu * u * t)\n",
      "/Users/raphael/Documents/cours/Imperial College/thesis/cgmy_estimation/src/mle.py:51: RuntimeWarning: invalid value encountered in multiply\n",
      "  res *= np.exp(-0.5 * t * (self.sigma * u) ** 2)\n",
      "/Users/raphael/Documents/cours/Imperial College/thesis/cgmy_estimation/src/mle.py:45: RuntimeWarning: overflow encountered in exp\n",
      "  return np.exp(logits)\n",
      "/Users/raphael/Documents/cours/Imperial College/thesis/cgmy_estimation/src/mle.py:50: RuntimeWarning: invalid value encountered in multiply\n",
      "  res *= np.exp(1j * self.mu * u * t)\n",
      "/Users/raphael/Documents/cours/Imperial College/thesis/cgmy_estimation/src/mle.py:51: RuntimeWarning: invalid value encountered in multiply\n",
      "  res *= np.exp(-0.5 * t * (self.sigma * u) ** 2)\n",
      "/Users/raphael/Documents/cours/Imperial College/thesis/cgmy_estimation/src/mle.py:45: RuntimeWarning: overflow encountered in exp\n",
      "  return np.exp(logits)\n",
      "/Users/raphael/Documents/cours/Imperial College/thesis/cgmy_estimation/src/mle.py:50: RuntimeWarning: invalid value encountered in multiply\n",
      "  res *= np.exp(1j * self.mu * u * t)\n",
      "/Users/raphael/Documents/cours/Imperial College/thesis/cgmy_estimation/src/mle.py:51: RuntimeWarning: invalid value encountered in multiply\n",
      "  res *= np.exp(-0.5 * t * (self.sigma * u) ** 2)\n",
      "/Users/raphael/Documents/cours/Imperial College/thesis/cgmy_estimation/src/mle.py:45: RuntimeWarning: overflow encountered in exp\n",
      "  return np.exp(logits)\n",
      "/Users/raphael/Documents/cours/Imperial College/thesis/cgmy_estimation/src/mle.py:50: RuntimeWarning: invalid value encountered in multiply\n",
      "  res *= np.exp(1j * self.mu * u * t)\n",
      "/Users/raphael/Documents/cours/Imperial College/thesis/cgmy_estimation/src/mle.py:51: RuntimeWarning: invalid value encountered in multiply\n",
      "  res *= np.exp(-0.5 * t * (self.sigma * u) ** 2)\n",
      "/Users/raphael/Documents/cours/Imperial College/thesis/cgmy_estimation/src/mle.py:45: RuntimeWarning: overflow encountered in exp\n",
      "  return np.exp(logits)\n",
      "/Users/raphael/Documents/cours/Imperial College/thesis/cgmy_estimation/src/mle.py:50: RuntimeWarning: invalid value encountered in multiply\n",
      "  res *= np.exp(1j * self.mu * u * t)\n",
      "/Users/raphael/Documents/cours/Imperial College/thesis/cgmy_estimation/src/mle.py:51: RuntimeWarning: invalid value encountered in multiply\n",
      "  res *= np.exp(-0.5 * t * (self.sigma * u) ** 2)\n",
      "/Users/raphael/Documents/cours/Imperial College/thesis/cgmy_estimation/src/mle.py:45: RuntimeWarning: overflow encountered in exp\n",
      "  return np.exp(logits)\n",
      "/Users/raphael/Documents/cours/Imperial College/thesis/cgmy_estimation/src/mle.py:50: RuntimeWarning: invalid value encountered in multiply\n",
      "  res *= np.exp(1j * self.mu * u * t)\n",
      "/Users/raphael/Documents/cours/Imperial College/thesis/cgmy_estimation/src/mle.py:51: RuntimeWarning: invalid value encountered in multiply\n",
      "  res *= np.exp(-0.5 * t * (self.sigma * u) ** 2)\n",
      "/Users/raphael/Documents/cours/Imperial College/thesis/cgmy_estimation/src/mle.py:45: RuntimeWarning: overflow encountered in exp\n",
      "  return np.exp(logits)\n",
      "/Users/raphael/Documents/cours/Imperial College/thesis/cgmy_estimation/src/mle.py:50: RuntimeWarning: invalid value encountered in multiply\n",
      "  res *= np.exp(1j * self.mu * u * t)\n",
      "/Users/raphael/Documents/cours/Imperial College/thesis/cgmy_estimation/src/mle.py:51: RuntimeWarning: invalid value encountered in multiply\n",
      "  res *= np.exp(-0.5 * t * (self.sigma * u) ** 2)\n",
      "/Users/raphael/Documents/cours/Imperial College/thesis/cgmy_estimation/src/mle.py:45: RuntimeWarning: overflow encountered in exp\n",
      "  return np.exp(logits)\n",
      "/Users/raphael/Documents/cours/Imperial College/thesis/cgmy_estimation/src/mle.py:50: RuntimeWarning: invalid value encountered in multiply\n",
      "  res *= np.exp(1j * self.mu * u * t)\n",
      "/Users/raphael/Documents/cours/Imperial College/thesis/cgmy_estimation/src/mle.py:51: RuntimeWarning: invalid value encountered in multiply\n",
      "  res *= np.exp(-0.5 * t * (self.sigma * u) ** 2)\n",
      "/Users/raphael/Documents/cours/Imperial College/thesis/cgmy_estimation/src/mle.py:45: RuntimeWarning: overflow encountered in exp\n",
      "  return np.exp(logits)\n",
      "/Users/raphael/Documents/cours/Imperial College/thesis/cgmy_estimation/src/mle.py:50: RuntimeWarning: invalid value encountered in multiply\n",
      "  res *= np.exp(1j * self.mu * u * t)\n",
      "/Users/raphael/Documents/cours/Imperial College/thesis/cgmy_estimation/src/mle.py:51: RuntimeWarning: invalid value encountered in multiply\n",
      "  res *= np.exp(-0.5 * t * (self.sigma * u) ** 2)\n",
      "/Users/raphael/Documents/cours/Imperial College/thesis/cgmy_estimation/src/mle.py:45: RuntimeWarning: overflow encountered in exp\n",
      "  return np.exp(logits)\n",
      "/Users/raphael/Documents/cours/Imperial College/thesis/cgmy_estimation/src/mle.py:50: RuntimeWarning: invalid value encountered in multiply\n",
      "  res *= np.exp(1j * self.mu * u * t)\n",
      "/Users/raphael/Documents/cours/Imperial College/thesis/cgmy_estimation/src/mle.py:51: RuntimeWarning: invalid value encountered in multiply\n",
      "  res *= np.exp(-0.5 * t * (self.sigma * u) ** 2)\n",
      "/Users/raphael/Documents/cours/Imperial College/thesis/cgmy_estimation/src/mle.py:45: RuntimeWarning: overflow encountered in exp\n",
      "  return np.exp(logits)\n",
      "/Users/raphael/Documents/cours/Imperial College/thesis/cgmy_estimation/src/mle.py:50: RuntimeWarning: invalid value encountered in multiply\n",
      "  res *= np.exp(1j * self.mu * u * t)\n",
      "/Users/raphael/Documents/cours/Imperial College/thesis/cgmy_estimation/src/mle.py:51: RuntimeWarning: invalid value encountered in multiply\n",
      "  res *= np.exp(-0.5 * t * (self.sigma * u) ** 2)\n",
      "/Users/raphael/Documents/cours/Imperial College/thesis/cgmy_estimation/src/mle.py:45: RuntimeWarning: overflow encountered in exp\n",
      "  return np.exp(logits)\n",
      "/Users/raphael/Documents/cours/Imperial College/thesis/cgmy_estimation/src/mle.py:50: RuntimeWarning: invalid value encountered in multiply\n",
      "  res *= np.exp(1j * self.mu * u * t)\n",
      "/Users/raphael/Documents/cours/Imperial College/thesis/cgmy_estimation/src/mle.py:51: RuntimeWarning: invalid value encountered in multiply\n",
      "  res *= np.exp(-0.5 * t * (self.sigma * u) ** 2)\n",
      "/Users/raphael/Documents/cours/Imperial College/thesis/cgmy_estimation/src/mle.py:45: RuntimeWarning: overflow encountered in exp\n",
      "  return np.exp(logits)\n",
      "/Users/raphael/Documents/cours/Imperial College/thesis/cgmy_estimation/src/mle.py:50: RuntimeWarning: invalid value encountered in multiply\n",
      "  res *= np.exp(1j * self.mu * u * t)\n",
      "/Users/raphael/Documents/cours/Imperial College/thesis/cgmy_estimation/src/mle.py:51: RuntimeWarning: invalid value encountered in multiply\n",
      "  res *= np.exp(-0.5 * t * (self.sigma * u) ** 2)\n"
     ]
    }
   ],
   "source": [
    "master_seed = 42\n",
    "rng = np.random.default_rng(master_seed)\n",
    "seeds = rng.integers(0, 2**32, size=300)\n",
    "results_spx_day = Parallel(n_jobs=-1)(\n",
    "    delayed(optim_parall)(spx_rets_day, seed=seed) for seed in seeds\n",
    ")\n",
    "mle_spx_day = np.array([np.concat([res.x, [res.fun]]) for res in results_spx_day])"
   ]
  },
  {
   "cell_type": "code",
   "execution_count": 28,
   "id": "adc03346",
   "metadata": {},
   "outputs": [],
   "source": [
    "np.savetxt(\"../fits/spx_day.csv\", mle_spx_day)"
   ]
  },
  {
   "cell_type": "code",
   "execution_count": null,
   "id": "7fc2cb0d",
   "metadata": {},
   "outputs": [
    {
     "data": {
      "text/plain": [
       "array([[ 2.4364e-02,  9.1404e+01,  8.5719e+01,  6.9263e-01,  1.0000e-05,\n",
       "        -3.1371e+03],\n",
       "       [ 1.7452e-01,  1.1953e+02,  1.1346e+02,  3.5132e-01,  1.0000e-05,\n",
       "        -3.1368e+03],\n",
       "       [ 1.9700e-01,  1.2115e+02,  1.1551e+02,  3.3043e-01,  1.0000e-05,\n",
       "        -3.1368e+03]])"
      ]
     },
     "execution_count": 29,
     "metadata": {},
     "output_type": "execute_result"
    }
   ],
   "source": [
    "spx_day_best_fits = mle_spx_day[mle_spx_day[:, 5].argsort()]\n",
    "spx_day_best_fits[:3]"
   ]
  },
  {
   "cell_type": "code",
   "execution_count": null,
   "id": "2a1a500c",
   "metadata": {},
   "outputs": [
    {
     "data": {
      "text/plain": [
       "[<matplotlib.lines.Line2D at 0x12b09ca50>]"
      ]
     },
     "execution_count": 133,
     "metadata": {},
     "output_type": "execute_result"
    },
    {
     "data": {
      "image/png": "[encoded data removed]",
      "text/plain": [
       "<Figure size 640x480 with 1 Axes>"
      ]
     },
     "metadata": {},
     "output_type": "display_data"
    }
   ],
   "source": [
    "cgmy = CGMY(spx_rets_day, spx_day_best_fits[0][:-1], adjust_L=True)\n",
    "cgmy2 = CGMY(spx_rets_day, spx_day_best_fits[1][:-1], adjust_L=True)\n",
    "x, pdf = cgmy.compute_pdf_from_cf()\n",
    "x2, pdf2 = cgmy.compute_pdf_from_cf()\n",
    "plt.hist(spx_rets_day, density=True, bins=60)\n",
    "plt.plot(x, pdf)\n",
    "# plt.plot(x2, pdf2)"
   ]
  },
  {
   "cell_type": "markdown",
   "id": "a67dbd0d",
   "metadata": {},
   "source": [
    "AAPL US Equity Daily"
   ]
  },
  {
   "cell_type": "code",
   "execution_count": 17,
   "id": "35049c1f",
   "metadata": {},
   "outputs": [],
   "source": [
    "appl_rets_daily = load_returns(\"AAPL_D.csv\", start_date=start_date, end_date=end_date)"
   ]
  },
  {
   "cell_type": "code",
   "execution_count": null,
   "id": "232553a0",
   "metadata": {},
   "outputs": [
    {
     "name": "stderr",
     "output_type": "stream",
     "text": [
      "/Users/raphael/Documents/cours/Imperial College/thesis/cgmy_estimation/src/mle.py:45: RuntimeWarning: overflow encountered in exp\n",
      "  return np.exp(logits)\n",
      "/Users/raphael/Documents/cours/Imperial College/thesis/cgmy_estimation/src/mle.py:50: RuntimeWarning: invalid value encountered in multiply\n",
      "  res *= np.exp(1j * self.mu * u * t)\n",
      "/Users/raphael/Documents/cours/Imperial College/thesis/cgmy_estimation/src/mle.py:51: RuntimeWarning: invalid value encountered in multiply\n",
      "  res *= np.exp(-0.5 * t * (self.sigma * u) ** 2)\n",
      "/Users/raphael/Documents/cours/Imperial College/thesis/cgmy_estimation/src/mle.py:45: RuntimeWarning: overflow encountered in exp\n",
      "  return np.exp(logits)\n",
      "/Users/raphael/Documents/cours/Imperial College/thesis/cgmy_estimation/src/mle.py:50: RuntimeWarning: invalid value encountered in multiply\n",
      "  res *= np.exp(1j * self.mu * u * t)\n",
      "/Users/raphael/Documents/cours/Imperial College/thesis/cgmy_estimation/src/mle.py:51: RuntimeWarning: invalid value encountered in multiply\n",
      "  res *= np.exp(-0.5 * t * (self.sigma * u) ** 2)\n",
      "/Users/raphael/Documents/cours/Imperial College/thesis/cgmy_estimation/src/mle.py:45: RuntimeWarning: overflow encountered in exp\n",
      "  return np.exp(logits)\n",
      "/Users/raphael/Documents/cours/Imperial College/thesis/cgmy_estimation/src/mle.py:50: RuntimeWarning: invalid value encountered in multiply\n",
      "  res *= np.exp(1j * self.mu * u * t)\n",
      "/Users/raphael/Documents/cours/Imperial College/thesis/cgmy_estimation/src/mle.py:51: RuntimeWarning: invalid value encountered in multiply\n",
      "  res *= np.exp(-0.5 * t * (self.sigma * u) ** 2)\n",
      "/Users/raphael/Documents/cours/Imperial College/thesis/cgmy_estimation/src/mle.py:45: RuntimeWarning: overflow encountered in exp\n",
      "  return np.exp(logits)\n",
      "/Users/raphael/Documents/cours/Imperial College/thesis/cgmy_estimation/src/mle.py:50: RuntimeWarning: invalid value encountered in multiply\n",
      "  res *= np.exp(1j * self.mu * u * t)\n",
      "/Users/raphael/Documents/cours/Imperial College/thesis/cgmy_estimation/src/mle.py:51: RuntimeWarning: invalid value encountered in multiply\n",
      "  res *= np.exp(-0.5 * t * (self.sigma * u) ** 2)\n",
      "/Users/raphael/Documents/cours/Imperial College/thesis/cgmy_estimation/src/mle.py:45: RuntimeWarning: overflow encountered in exp\n",
      "  return np.exp(logits)\n",
      "/Users/raphael/Documents/cours/Imperial College/thesis/cgmy_estimation/src/mle.py:50: RuntimeWarning: invalid value encountered in multiply\n",
      "  res *= np.exp(1j * self.mu * u * t)\n",
      "/Users/raphael/Documents/cours/Imperial College/thesis/cgmy_estimation/src/mle.py:51: RuntimeWarning: invalid value encountered in multiply\n",
      "  res *= np.exp(-0.5 * t * (self.sigma * u) ** 2)\n",
      "/Users/raphael/Documents/cours/Imperial College/thesis/cgmy_estimation/src/mle.py:45: RuntimeWarning: overflow encountered in exp\n",
      "  return np.exp(logits)\n",
      "/Users/raphael/Documents/cours/Imperial College/thesis/cgmy_estimation/src/mle.py:50: RuntimeWarning: invalid value encountered in multiply\n",
      "  res *= np.exp(1j * self.mu * u * t)\n",
      "/Users/raphael/Documents/cours/Imperial College/thesis/cgmy_estimation/src/mle.py:51: RuntimeWarning: invalid value encountered in multiply\n",
      "  res *= np.exp(-0.5 * t * (self.sigma * u) ** 2)\n",
      "/Users/raphael/Documents/cours/Imperial College/thesis/cgmy_estimation/src/mle.py:45: RuntimeWarning: overflow encountered in exp\n",
      "  return np.exp(logits)\n",
      "/Users/raphael/Documents/cours/Imperial College/thesis/cgmy_estimation/src/mle.py:50: RuntimeWarning: invalid value encountered in multiply\n",
      "  res *= np.exp(1j * self.mu * u * t)\n",
      "/Users/raphael/Documents/cours/Imperial College/thesis/cgmy_estimation/src/mle.py:51: RuntimeWarning: invalid value encountered in multiply\n",
      "  res *= np.exp(-0.5 * t * (self.sigma * u) ** 2)\n",
      "/Users/raphael/Documents/cours/Imperial College/thesis/cgmy_estimation/src/mle.py:45: RuntimeWarning: overflow encountered in exp\n",
      "  return np.exp(logits)\n",
      "/Users/raphael/Documents/cours/Imperial College/thesis/cgmy_estimation/src/mle.py:50: RuntimeWarning: invalid value encountered in multiply\n",
      "  res *= np.exp(1j * self.mu * u * t)\n",
      "/Users/raphael/Documents/cours/Imperial College/thesis/cgmy_estimation/src/mle.py:51: RuntimeWarning: invalid value encountered in multiply\n",
      "  res *= np.exp(-0.5 * t * (self.sigma * u) ** 2)\n",
      "/Users/raphael/Documents/cours/Imperial College/thesis/cgmy_estimation/src/mle.py:45: RuntimeWarning: overflow encountered in exp\n",
      "  return np.exp(logits)\n",
      "/Users/raphael/Documents/cours/Imperial College/thesis/cgmy_estimation/src/mle.py:50: RuntimeWarning: invalid value encountered in multiply\n",
      "  res *= np.exp(1j * self.mu * u * t)\n",
      "/Users/raphael/Documents/cours/Imperial College/thesis/cgmy_estimation/src/mle.py:51: RuntimeWarning: invalid value encountered in multiply\n",
      "  res *= np.exp(-0.5 * t * (self.sigma * u) ** 2)\n",
      "/Users/raphael/Documents/cours/Imperial College/thesis/cgmy_estimation/src/mle.py:45: RuntimeWarning: overflow encountered in exp\n",
      "  return np.exp(logits)\n",
      "/Users/raphael/Documents/cours/Imperial College/thesis/cgmy_estimation/src/mle.py:50: RuntimeWarning: invalid value encountered in multiply\n",
      "  res *= np.exp(1j * self.mu * u * t)\n",
      "/Users/raphael/Documents/cours/Imperial College/thesis/cgmy_estimation/src/mle.py:51: RuntimeWarning: invalid value encountered in multiply\n",
      "  res *= np.exp(-0.5 * t * (self.sigma * u) ** 2)\n"
     ]
    }
   ],
   "source": [
    "master_seed = 42\n",
    "rng = np.random.default_rng(master_seed)\n",
    "seeds = rng.integers(0, 2**32, size=300)\n",
    "results_aapl_day = Parallel(n_jobs=-1)(\n",
    "    delayed(optim_parall)(appl_rets_daily, seed=seed) for seed in seeds\n",
    ")\n",
    "mle_aapl_day = np.array([np.concat([res.x, [res.fun]]) for res in results_aapl_day])"
   ]
  },
  {
   "cell_type": "code",
   "execution_count": 16,
   "id": "a120c1c8",
   "metadata": {},
   "outputs": [
    {
     "data": {
      "text/plain": [
       "array([[ 4.0552e-02,  6.0527e+01,  5.5630e+01,  6.5767e-01,  1.0000e-05,\n",
       "        -2.6749e+03],\n",
       "       [ 6.1248e-01,  8.3328e+01,  8.0555e+01,  1.1701e-01,  3.9506e-03,\n",
       "        -2.6741e+03],\n",
       "       [ 1.7720e+00,  9.1481e+01,  8.9144e+01, -1.0365e-01,  4.7207e-03,\n",
       "        -2.6738e+03],\n",
       "       [ 2.2413e+00,  9.1837e+01,  8.9588e+01, -1.6161e-01,  5.0899e-03,\n",
       "        -2.6738e+03],\n",
       "       [ 1.8935e+01,  1.1878e+02,  1.1529e+02, -5.4999e-01,  4.8257e-03,\n",
       "        -2.6727e+03],\n",
       "       [ 9.6970e+01,  1.2134e+02,  1.1929e+02, -9.5356e-01,  6.5630e-03,\n",
       "        -2.6727e+03],\n",
       "       [ 7.2126e+01,  1.1622e+02,  1.1239e+02, -9.1974e-01,  7.0099e-03,\n",
       "        -2.6726e+03],\n",
       "       [ 1.3370e+02,  1.2486e+02,  1.2276e+02, -1.0146e+00,  6.5648e-03,\n",
       "        -2.6726e+03],\n",
       "       [ 3.2219e+01,  9.4466e+01,  9.5671e+01, -8.8721e-01,  9.4124e-03,\n",
       "        -2.6725e+03],\n",
       "       [ 1.2803e+02,  1.1686e+02,  1.1544e+02, -1.0662e+00,  7.6589e-03,\n",
       "        -2.6725e+03]])"
      ]
     },
     "execution_count": 16,
     "metadata": {},
     "output_type": "execute_result"
    }
   ],
   "source": [
    "aapl_day_best_fits = mle_aapl_day[mle_aapl_day[:, 5].argsort()]\n",
    "aapl_day_best_fits[:10]"
   ]
  },
  {
   "cell_type": "code",
   "execution_count": null,
   "id": "8a6f9f9e",
   "metadata": {},
   "outputs": [
    {
     "data": {
      "text/plain": [
       "np.float64(12.140158550062068)"
      ]
     },
     "execution_count": 144,
     "metadata": {},
     "output_type": "execute_result"
    }
   ],
   "source": [
    "pricing_chara(\n",
    "    S=205.17,\n",
    "    K=195,\n",
    "    T=14,\n",
    "    r=0.04 / 252,\n",
    "    params=[1.7720e00, 9.1481e01, 8.9144e01, -1.0365e-01, 4.7207e-03],\n",
    ")"
   ]
  },
  {
   "cell_type": "code",
   "execution_count": 25,
   "id": "b23aa213",
   "metadata": {},
   "outputs": [],
   "source": [
    "np.savetxt(\"../fits/aapl_day.csv\", aapl_day_best_fits)"
   ]
  },
  {
   "cell_type": "code",
   "execution_count": 15,
   "id": "a24f5219",
   "metadata": {},
   "outputs": [],
   "source": [
    "aapl_day_best_fits = np.loadtxt(\"../fits/aapl_day.csv\")"
   ]
  },
  {
   "cell_type": "code",
   "execution_count": 18,
   "id": "1769aa5b",
   "metadata": {},
   "outputs": [
    {
     "data": {
      "text/plain": [
       "[<matplotlib.lines.Line2D at 0x11c566ad0>]"
      ]
     },
     "execution_count": 18,
     "metadata": {},
     "output_type": "execute_result"
    },
    {
     "data": {
      "image/png": "[encoded data removed]",
      "text/plain": [
       "<Figure size 640x480 with 1 Axes>"
      ]
     },
     "metadata": {},
     "output_type": "display_data"
    }
   ],
   "source": [
    "cgmy = CGMY(appl_rets_daily, aapl_day_best_fits[0][:-1], adjust_L=True)\n",
    "cgmy2 = CGMY(appl_rets_daily, aapl_day_best_fits[1][:-1], adjust_L=True)\n",
    "x, pdf = cgmy.compute_pdf_from_cf()\n",
    "x2, pdf2 = cgmy2.compute_pdf_from_cf()\n",
    "plt.hist(appl_rets_daily, density=True, bins=50)\n",
    "plt.plot(x, pdf)\n",
    "plt.plot(x2, pdf2)"
   ]
  },
  {
   "cell_type": "markdown",
   "id": "9c34db78",
   "metadata": {},
   "source": [
    "AAPL 1S"
   ]
  },
  {
   "cell_type": "code",
   "execution_count": null,
   "id": "0deb4ec6",
   "metadata": {},
   "outputs": [
    {
     "name": "stderr",
     "output_type": "stream",
     "text": [
      "/Users/raphael/Documents/cours/Imperial College/thesis/cgmy_estimation/src/mle.py:46: RuntimeWarning: overflow encountered in exp\n",
      "  return np.exp(logits)\n",
      "/Users/raphael/Documents/cours/Imperial College/thesis/cgmy_estimation/src/mle.py:51: RuntimeWarning: invalid value encountered in multiply\n",
      "  res *= np.exp(1j * self.mu * u * t)\n",
      "/Users/raphael/Documents/cours/Imperial College/thesis/cgmy_estimation/src/mle.py:52: RuntimeWarning: invalid value encountered in multiply\n",
      "  res *= np.exp(\n",
      "/Users/raphael/Documents/cours/Imperial College/thesis/cgmy_estimation/src/mle.py:46: RuntimeWarning: overflow encountered in exp\n",
      "  return np.exp(logits)\n",
      "/Users/raphael/Documents/cours/Imperial College/thesis/cgmy_estimation/src/mle.py:51: RuntimeWarning: invalid value encountered in multiply\n",
      "  res *= np.exp(1j * self.mu * u * t)\n",
      "/Users/raphael/Documents/cours/Imperial College/thesis/cgmy_estimation/src/mle.py:52: RuntimeWarning: invalid value encountered in multiply\n",
      "  res *= np.exp(\n",
      "/Users/raphael/Documents/cours/Imperial College/thesis/cgmy_estimation/src/mle.py:46: RuntimeWarning: overflow encountered in exp\n",
      "  return np.exp(logits)\n",
      "/Users/raphael/Documents/cours/Imperial College/thesis/cgmy_estimation/src/mle.py:51: RuntimeWarning: invalid value encountered in multiply\n",
      "  res *= np.exp(1j * self.mu * u * t)\n",
      "/Users/raphael/Documents/cours/Imperial College/thesis/cgmy_estimation/src/mle.py:52: RuntimeWarning: invalid value encountered in multiply\n",
      "  res *= np.exp(\n",
      "/Users/raphael/Documents/cours/Imperial College/thesis/cgmy_estimation/src/mle.py:46: RuntimeWarning: overflow encountered in exp\n",
      "  return np.exp(logits)\n",
      "/Users/raphael/Documents/cours/Imperial College/thesis/cgmy_estimation/src/mle.py:51: RuntimeWarning: invalid value encountered in multiply\n",
      "  res *= np.exp(1j * self.mu * u * t)\n",
      "/Users/raphael/Documents/cours/Imperial College/thesis/cgmy_estimation/src/mle.py:52: RuntimeWarning: invalid value encountered in multiply\n",
      "  res *= np.exp(\n",
      "/Users/raphael/Documents/cours/Imperial College/thesis/cgmy_estimation/src/mle.py:46: RuntimeWarning: overflow encountered in exp\n",
      "  return np.exp(logits)\n",
      "/Users/raphael/Documents/cours/Imperial College/thesis/cgmy_estimation/src/mle.py:51: RuntimeWarning: invalid value encountered in multiply\n",
      "  res *= np.exp(1j * self.mu * u * t)\n",
      "/Users/raphael/Documents/cours/Imperial College/thesis/cgmy_estimation/src/mle.py:52: RuntimeWarning: invalid value encountered in multiply\n",
      "  res *= np.exp(\n"
     ]
    }
   ],
   "source": [
    "aapl_1_sec, mle_aapl_1_sec = mle_orderbook(\n",
    "    \"1s\", n=50, boundaries_min=[1e-10, 1, 1, -5, 1e-9]\n",
    ")"
   ]
  },
  {
   "cell_type": "code",
   "execution_count": 152,
   "id": "d951fed7",
   "metadata": {},
   "outputs": [],
   "source": [
    "np.savetxt(\"../fits/aapl_1_s.csv\", mle_aapl_1_sec)"
   ]
  },
  {
   "cell_type": "code",
   "execution_count": 143,
   "id": "48b8fd97",
   "metadata": {},
   "outputs": [
    {
     "data": {
      "text/plain": [
       "array([[ 3.9862e+00,  1.7299e+03,  3.9136e+03, -4.3424e-01,  1.0000e-09,\n",
       "        -5.2267e+06],\n",
       "       [ 4.0178e+00,  2.1025e+03,  2.1129e+03, -4.4262e-01,  1.0000e-09,\n",
       "        -5.2248e+06],\n",
       "       [ 4.7841e-01,  3.6340e+03,  1.7419e+03, -2.2121e-01,  1.0000e-09,\n",
       "        -5.2085e+06],\n",
       "       [ 3.1965e+00,  4.6563e+03,  9.5518e+02, -4.2794e-01,  1.0000e-09,\n",
       "        -5.1960e+06],\n",
       "       [ 5.2945e-01,  9.5409e+02,  1.2217e+03, -2.5996e-01,  1.0000e-09,\n",
       "        -5.1886e+06]])"
      ]
     },
     "execution_count": 143,
     "metadata": {},
     "output_type": "execute_result"
    }
   ],
   "source": [
    "mle_aapl_1_sec[:5]"
   ]
  },
  {
   "cell_type": "code",
   "execution_count": null,
   "id": "03bfa075",
   "metadata": {},
   "outputs": [
    {
     "data": {
      "text/plain": [
       "[<matplotlib.lines.Line2D at 0x128bdc190>]"
      ]
     },
     "execution_count": 148,
     "metadata": {},
     "output_type": "execute_result"
    },
    {
     "data": {
      "image/png": "[encoded data removed]",
      "text/plain": [
       "<Figure size 640x480 with 1 Axes>"
      ]
     },
     "metadata": {},
     "output_type": "display_data"
    }
   ],
   "source": [
    "# Clear divergence in high frequency\n",
    "plt.hist(aapl_1_sec, density=True, bins=100)\n",
    "cgmy = CGMY(aapl_1_sec, mle_aapl_1_sec[0][:-1], adjust_L=True)\n",
    "x, pdf = cgmy.compute_pdf_from_cf(t=1)\n",
    "plt.plot(x, pdf)"
   ]
  },
  {
   "cell_type": "markdown",
   "id": "f0ed0327",
   "metadata": {},
   "source": [
    "AAPL 10 Sec"
   ]
  },
  {
   "cell_type": "code",
   "execution_count": null,
   "id": "cbe7b3a5",
   "metadata": {},
   "outputs": [
    {
     "name": "stderr",
     "output_type": "stream",
     "text": [
      "/Users/raphael/Documents/cours/Imperial College/thesis/cgmy_estimation/src/mle.py:46: RuntimeWarning: overflow encountered in exp\n",
      "  return np.exp(logits)\n",
      "/Users/raphael/Documents/cours/Imperial College/thesis/cgmy_estimation/src/mle.py:51: RuntimeWarning: invalid value encountered in multiply\n",
      "  res *= np.exp(1j * self.mu * u * t)\n",
      "/Users/raphael/Documents/cours/Imperial College/thesis/cgmy_estimation/src/mle.py:52: RuntimeWarning: invalid value encountered in multiply\n",
      "  res *= np.exp(\n",
      "/Users/raphael/Documents/cours/Imperial College/thesis/cgmy_estimation/src/mle.py:46: RuntimeWarning: overflow encountered in exp\n",
      "  return np.exp(logits)\n",
      "/Users/raphael/Documents/cours/Imperial College/thesis/cgmy_estimation/src/mle.py:51: RuntimeWarning: invalid value encountered in multiply\n",
      "  res *= np.exp(1j * self.mu * u * t)\n",
      "/Users/raphael/Documents/cours/Imperial College/thesis/cgmy_estimation/src/mle.py:52: RuntimeWarning: invalid value encountered in multiply\n",
      "  res *= np.exp(\n",
      "/Users/raphael/Documents/cours/Imperial College/thesis/cgmy_estimation/src/mle.py:46: RuntimeWarning: overflow encountered in exp\n",
      "  return np.exp(logits)\n",
      "/Users/raphael/Documents/cours/Imperial College/thesis/cgmy_estimation/src/mle.py:51: RuntimeWarning: invalid value encountered in multiply\n",
      "  res *= np.exp(1j * self.mu * u * t)\n",
      "/Users/raphael/Documents/cours/Imperial College/thesis/cgmy_estimation/src/mle.py:52: RuntimeWarning: invalid value encountered in multiply\n",
      "  res *= np.exp(\n",
      "/Users/raphael/Documents/cours/Imperial College/thesis/cgmy_estimation/src/mle.py:46: RuntimeWarning: overflow encountered in exp\n",
      "  return np.exp(logits)\n",
      "/Users/raphael/Documents/cours/Imperial College/thesis/cgmy_estimation/src/mle.py:51: RuntimeWarning: invalid value encountered in multiply\n",
      "  res *= np.exp(1j * self.mu * u * t)\n",
      "/Users/raphael/Documents/cours/Imperial College/thesis/cgmy_estimation/src/mle.py:52: RuntimeWarning: invalid value encountered in multiply\n",
      "  res *= np.exp(\n",
      "/Users/raphael/Documents/cours/Imperial College/thesis/cgmy_estimation/src/mle.py:46: RuntimeWarning: overflow encountered in exp\n",
      "  return np.exp(logits)\n",
      "/Users/raphael/Documents/cours/Imperial College/thesis/cgmy_estimation/src/mle.py:51: RuntimeWarning: invalid value encountered in multiply\n",
      "  res *= np.exp(1j * self.mu * u * t)\n",
      "/Users/raphael/Documents/cours/Imperial College/thesis/cgmy_estimation/src/mle.py:52: RuntimeWarning: invalid value encountered in multiply\n",
      "  res *= np.exp(\n",
      "/Users/raphael/Documents/cours/Imperial College/thesis/cgmy_estimation/src/mle.py:46: RuntimeWarning: overflow encountered in exp\n",
      "  return np.exp(logits)\n",
      "/Users/raphael/Documents/cours/Imperial College/thesis/cgmy_estimation/src/mle.py:51: RuntimeWarning: invalid value encountered in multiply\n",
      "  res *= np.exp(1j * self.mu * u * t)\n",
      "/Users/raphael/Documents/cours/Imperial College/thesis/cgmy_estimation/src/mle.py:52: RuntimeWarning: invalid value encountered in multiply\n",
      "  res *= np.exp(\n",
      "/Users/raphael/Documents/cours/Imperial College/thesis/cgmy_estimation/src/mle.py:46: RuntimeWarning: overflow encountered in exp\n",
      "  return np.exp(logits)\n",
      "/Users/raphael/Documents/cours/Imperial College/thesis/cgmy_estimation/src/mle.py:51: RuntimeWarning: invalid value encountered in multiply\n",
      "  res *= np.exp(1j * self.mu * u * t)\n",
      "/Users/raphael/Documents/cours/Imperial College/thesis/cgmy_estimation/src/mle.py:52: RuntimeWarning: invalid value encountered in multiply\n",
      "  res *= np.exp(\n",
      "/Users/raphael/Documents/cours/Imperial College/thesis/cgmy_estimation/src/mle.py:46: RuntimeWarning: overflow encountered in exp\n",
      "  return np.exp(logits)\n",
      "/Users/raphael/Documents/cours/Imperial College/thesis/cgmy_estimation/src/mle.py:51: RuntimeWarning: invalid value encountered in multiply\n",
      "  res *= np.exp(1j * self.mu * u * t)\n",
      "/Users/raphael/Documents/cours/Imperial College/thesis/cgmy_estimation/src/mle.py:52: RuntimeWarning: invalid value encountered in multiply\n",
      "  res *= np.exp(\n",
      "/Users/raphael/Documents/cours/Imperial College/thesis/cgmy_estimation/src/mle.py:46: RuntimeWarning: overflow encountered in exp\n",
      "  return np.exp(logits)\n",
      "/Users/raphael/Documents/cours/Imperial College/thesis/cgmy_estimation/src/mle.py:51: RuntimeWarning: invalid value encountered in multiply\n",
      "  res *= np.exp(1j * self.mu * u * t)\n",
      "/Users/raphael/Documents/cours/Imperial College/thesis/cgmy_estimation/src/mle.py:52: RuntimeWarning: invalid value encountered in multiply\n",
      "  res *= np.exp(\n",
      "/Users/raphael/Documents/cours/Imperial College/thesis/cgmy_estimation/src/mle.py:46: RuntimeWarning: overflow encountered in exp\n",
      "  return np.exp(logits)\n",
      "/Users/raphael/Documents/cours/Imperial College/thesis/cgmy_estimation/src/mle.py:51: RuntimeWarning: invalid value encountered in multiply\n",
      "  res *= np.exp(1j * self.mu * u * t)\n",
      "/Users/raphael/Documents/cours/Imperial College/thesis/cgmy_estimation/src/mle.py:52: RuntimeWarning: invalid value encountered in multiply\n",
      "  res *= np.exp(\n",
      "/Users/raphael/Documents/cours/Imperial College/thesis/cgmy_estimation/src/mle.py:46: RuntimeWarning: overflow encountered in exp\n",
      "  return np.exp(logits)\n",
      "/Users/raphael/Documents/cours/Imperial College/thesis/cgmy_estimation/src/mle.py:51: RuntimeWarning: invalid value encountered in multiply\n",
      "  res *= np.exp(1j * self.mu * u * t)\n",
      "/Users/raphael/Documents/cours/Imperial College/thesis/cgmy_estimation/src/mle.py:52: RuntimeWarning: invalid value encountered in multiply\n",
      "  res *= np.exp(\n",
      "/Users/raphael/Documents/cours/Imperial College/thesis/cgmy_estimation/src/mle.py:46: RuntimeWarning: overflow encountered in exp\n",
      "  return np.exp(logits)\n",
      "/Users/raphael/Documents/cours/Imperial College/thesis/cgmy_estimation/src/mle.py:51: RuntimeWarning: invalid value encountered in multiply\n",
      "  res *= np.exp(1j * self.mu * u * t)\n",
      "/Users/raphael/Documents/cours/Imperial College/thesis/cgmy_estimation/src/mle.py:52: RuntimeWarning: invalid value encountered in multiply\n",
      "  res *= np.exp(\n",
      "/Users/raphael/Documents/cours/Imperial College/thesis/cgmy_estimation/src/mle.py:46: RuntimeWarning: overflow encountered in exp\n",
      "  return np.exp(logits)\n",
      "/Users/raphael/Documents/cours/Imperial College/thesis/cgmy_estimation/src/mle.py:51: RuntimeWarning: invalid value encountered in multiply\n",
      "  res *= np.exp(1j * self.mu * u * t)\n",
      "/Users/raphael/Documents/cours/Imperial College/thesis/cgmy_estimation/src/mle.py:52: RuntimeWarning: invalid value encountered in multiply\n",
      "  res *= np.exp(\n",
      "/Users/raphael/Documents/cours/Imperial College/thesis/cgmy_estimation/src/mle.py:46: RuntimeWarning: overflow encountered in exp\n",
      "  return np.exp(logits)\n",
      "/Users/raphael/Documents/cours/Imperial College/thesis/cgmy_estimation/src/mle.py:51: RuntimeWarning: invalid value encountered in multiply\n",
      "  res *= np.exp(1j * self.mu * u * t)\n",
      "/Users/raphael/Documents/cours/Imperial College/thesis/cgmy_estimation/src/mle.py:52: RuntimeWarning: invalid value encountered in multiply\n",
      "  res *= np.exp(\n",
      "/Users/raphael/Documents/cours/Imperial College/thesis/cgmy_estimation/src/mle.py:46: RuntimeWarning: overflow encountered in exp\n",
      "  return np.exp(logits)\n",
      "/Users/raphael/Documents/cours/Imperial College/thesis/cgmy_estimation/src/mle.py:51: RuntimeWarning: invalid value encountered in multiply\n",
      "  res *= np.exp(1j * self.mu * u * t)\n",
      "/Users/raphael/Documents/cours/Imperial College/thesis/cgmy_estimation/src/mle.py:52: RuntimeWarning: invalid value encountered in multiply\n",
      "  res *= np.exp(\n",
      "/Users/raphael/Documents/cours/Imperial College/thesis/cgmy_estimation/src/mle.py:46: RuntimeWarning: overflow encountered in exp\n",
      "  return np.exp(logits)\n",
      "/Users/raphael/Documents/cours/Imperial College/thesis/cgmy_estimation/src/mle.py:51: RuntimeWarning: invalid value encountered in multiply\n",
      "  res *= np.exp(1j * self.mu * u * t)\n",
      "/Users/raphael/Documents/cours/Imperial College/thesis/cgmy_estimation/src/mle.py:52: RuntimeWarning: invalid value encountered in multiply\n",
      "  res *= np.exp(\n",
      "/Users/raphael/Documents/cours/Imperial College/thesis/cgmy_estimation/src/mle.py:46: RuntimeWarning: overflow encountered in exp\n",
      "  return np.exp(logits)\n",
      "/Users/raphael/Documents/cours/Imperial College/thesis/cgmy_estimation/src/mle.py:51: RuntimeWarning: invalid value encountered in multiply\n",
      "  res *= np.exp(1j * self.mu * u * t)\n",
      "/Users/raphael/Documents/cours/Imperial College/thesis/cgmy_estimation/src/mle.py:52: RuntimeWarning: invalid value encountered in multiply\n",
      "  res *= np.exp(\n",
      "/Users/raphael/Documents/cours/Imperial College/thesis/cgmy_estimation/src/mle.py:46: RuntimeWarning: overflow encountered in exp\n",
      "  return np.exp(logits)\n",
      "/Users/raphael/Documents/cours/Imperial College/thesis/cgmy_estimation/src/mle.py:51: RuntimeWarning: invalid value encountered in multiply\n",
      "  res *= np.exp(1j * self.mu * u * t)\n",
      "/Users/raphael/Documents/cours/Imperial College/thesis/cgmy_estimation/src/mle.py:52: RuntimeWarning: invalid value encountered in multiply\n",
      "  res *= np.exp(\n",
      "/Users/raphael/Documents/cours/Imperial College/thesis/cgmy_estimation/src/mle.py:46: RuntimeWarning: overflow encountered in exp\n",
      "  return np.exp(logits)\n",
      "/Users/raphael/Documents/cours/Imperial College/thesis/cgmy_estimation/src/mle.py:51: RuntimeWarning: invalid value encountered in multiply\n",
      "  res *= np.exp(1j * self.mu * u * t)\n",
      "/Users/raphael/Documents/cours/Imperial College/thesis/cgmy_estimation/src/mle.py:52: RuntimeWarning: invalid value encountered in multiply\n",
      "  res *= np.exp(\n",
      "/Users/raphael/Documents/cours/Imperial College/thesis/cgmy_estimation/src/mle.py:46: RuntimeWarning: overflow encountered in exp\n",
      "  return np.exp(logits)\n",
      "/Users/raphael/Documents/cours/Imperial College/thesis/cgmy_estimation/src/mle.py:51: RuntimeWarning: invalid value encountered in multiply\n",
      "  res *= np.exp(1j * self.mu * u * t)\n",
      "/Users/raphael/Documents/cours/Imperial College/thesis/cgmy_estimation/src/mle.py:52: RuntimeWarning: invalid value encountered in multiply\n",
      "  res *= np.exp(\n"
     ]
    }
   ],
   "source": [
    "aapl_10_sec, mle_aapl_10_sec = mle_orderbook(\n",
    "    \"10s\", n=50, boundaries_min=[1e-10, 1, 1, -5, 1e-9]\n",
    ")"
   ]
  },
  {
   "cell_type": "code",
   "execution_count": null,
   "id": "8a1e8542",
   "metadata": {},
   "outputs": [
    {
     "data": {
      "text/plain": [
       "array([[ 4.2288e-01,  9.7131e+02,  1.2031e+02, -1.4393e-01,  1.0000e-09,\n",
       "        -3.3088e+05],\n",
       "       [ 5.9353e+01,  1.6913e+03,  1.6691e+03, -9.5760e-01,  1.6346e-04,\n",
       "        -3.2606e+05],\n",
       "       [ 2.4523e-01,  6.5177e+02,  1.9937e+02, -4.4673e-01,  1.9412e-04,\n",
       "        -3.2497e+05],\n",
       "       [ 4.4305e+01,  5.9596e+02,  1.1522e+03, -1.0983e+00,  2.2269e-04,\n",
       "        -3.2443e+05],\n",
       "       [ 3.6751e+02,  1.0233e+03,  2.1448e+03, -1.5596e+00,  2.0321e-04,\n",
       "        -3.2439e+05]])"
      ]
     },
     "execution_count": 86,
     "metadata": {},
     "output_type": "execute_result"
    }
   ],
   "source": [
    "mle_aapl_10_sec[:5]"
   ]
  },
  {
   "cell_type": "code",
   "execution_count": null,
   "id": "9f0602a9",
   "metadata": {},
   "outputs": [],
   "source": [
    "np.savetxt(\"../fits/aapl_10_s.csv\", mle_aapl_10_sec)"
   ]
  },
  {
   "cell_type": "code",
   "execution_count": null,
   "id": "627196fa",
   "metadata": {},
   "outputs": [
    {
     "data": {
      "text/plain": [
       "[<matplotlib.lines.Line2D at 0x12c4e3110>]"
      ]
     },
     "execution_count": 142,
     "metadata": {},
     "output_type": "execute_result"
    },
    {
     "data": {
      "image/png": "[encoded data removed]",
      "text/plain": [
       "<Figure size 640x480 with 1 Axes>"
      ]
     },
     "metadata": {},
     "output_type": "display_data"
    }
   ],
   "source": [
    "plt.hist(aapl_10_sec, density=True, bins=100)\n",
    "cgmy = CGMY(aapl_10_sec, mle_aapl_10_sec[1][:-1], adjust_L=True)\n",
    "x, pdf = cgmy.compute_pdf_from_cf(t=1)\n",
    "plt.plot(x, pdf)"
   ]
  },
  {
   "cell_type": "markdown",
   "id": "2e0bae90",
   "metadata": {},
   "source": [
    "30s"
   ]
  },
  {
   "cell_type": "code",
   "execution_count": null,
   "id": "35502df9",
   "metadata": {},
   "outputs": [
    {
     "name": "stderr",
     "output_type": "stream",
     "text": [
      "/Users/raphael/Documents/cours/Imperial College/thesis/cgmy_estimation/src/mle.py:46: RuntimeWarning: overflow encountered in exp\n",
      "  return np.exp(logits)\n",
      "/Users/raphael/Documents/cours/Imperial College/thesis/cgmy_estimation/src/mle.py:51: RuntimeWarning: invalid value encountered in multiply\n",
      "  res *= np.exp(1j * self.mu * u * t)\n",
      "/Users/raphael/Documents/cours/Imperial College/thesis/cgmy_estimation/src/mle.py:52: RuntimeWarning: invalid value encountered in multiply\n",
      "  res *= np.exp(\n",
      "/Users/raphael/Documents/cours/Imperial College/thesis/cgmy_estimation/src/mle.py:46: RuntimeWarning: overflow encountered in exp\n",
      "  return np.exp(logits)\n",
      "/Users/raphael/Documents/cours/Imperial College/thesis/cgmy_estimation/src/mle.py:51: RuntimeWarning: invalid value encountered in multiply\n",
      "  res *= np.exp(1j * self.mu * u * t)\n",
      "/Users/raphael/Documents/cours/Imperial College/thesis/cgmy_estimation/src/mle.py:52: RuntimeWarning: invalid value encountered in multiply\n",
      "  res *= np.exp(\n",
      "/Users/raphael/Documents/cours/Imperial College/thesis/cgmy_estimation/src/mle.py:46: RuntimeWarning: overflow encountered in exp\n",
      "  return np.exp(logits)\n",
      "/Users/raphael/Documents/cours/Imperial College/thesis/cgmy_estimation/src/mle.py:51: RuntimeWarning: invalid value encountered in multiply\n",
      "  res *= np.exp(1j * self.mu * u * t)\n",
      "/Users/raphael/Documents/cours/Imperial College/thesis/cgmy_estimation/src/mle.py:52: RuntimeWarning: invalid value encountered in multiply\n",
      "  res *= np.exp(\n",
      "/Users/raphael/Documents/cours/Imperial College/thesis/cgmy_estimation/src/mle.py:46: RuntimeWarning: overflow encountered in exp\n",
      "  return np.exp(logits)\n",
      "/Users/raphael/Documents/cours/Imperial College/thesis/cgmy_estimation/src/mle.py:51: RuntimeWarning: invalid value encountered in multiply\n",
      "  res *= np.exp(1j * self.mu * u * t)\n",
      "/Users/raphael/Documents/cours/Imperial College/thesis/cgmy_estimation/src/mle.py:52: RuntimeWarning: invalid value encountered in multiply\n",
      "  res *= np.exp(\n",
      "/Users/raphael/Documents/cours/Imperial College/thesis/cgmy_estimation/src/mle.py:46: RuntimeWarning: overflow encountered in exp\n",
      "  return np.exp(logits)\n",
      "/Users/raphael/Documents/cours/Imperial College/thesis/cgmy_estimation/src/mle.py:51: RuntimeWarning: invalid value encountered in multiply\n",
      "  res *= np.exp(1j * self.mu * u * t)\n",
      "/Users/raphael/Documents/cours/Imperial College/thesis/cgmy_estimation/src/mle.py:52: RuntimeWarning: invalid value encountered in multiply\n",
      "  res *= np.exp(\n",
      "/Users/raphael/Documents/cours/Imperial College/thesis/cgmy_estimation/src/mle.py:46: RuntimeWarning: overflow encountered in exp\n",
      "  return np.exp(logits)\n",
      "/Users/raphael/Documents/cours/Imperial College/thesis/cgmy_estimation/src/mle.py:51: RuntimeWarning: invalid value encountered in multiply\n",
      "  res *= np.exp(1j * self.mu * u * t)\n",
      "/Users/raphael/Documents/cours/Imperial College/thesis/cgmy_estimation/src/mle.py:52: RuntimeWarning: invalid value encountered in multiply\n",
      "  res *= np.exp(\n",
      "/Users/raphael/Documents/cours/Imperial College/thesis/cgmy_estimation/src/mle.py:46: RuntimeWarning: overflow encountered in exp\n",
      "  return np.exp(logits)\n",
      "/Users/raphael/Documents/cours/Imperial College/thesis/cgmy_estimation/src/mle.py:51: RuntimeWarning: invalid value encountered in multiply\n",
      "  res *= np.exp(1j * self.mu * u * t)\n",
      "/Users/raphael/Documents/cours/Imperial College/thesis/cgmy_estimation/src/mle.py:52: RuntimeWarning: invalid value encountered in multiply\n",
      "  res *= np.exp(\n",
      "/Users/raphael/Documents/cours/Imperial College/thesis/cgmy_estimation/src/mle.py:46: RuntimeWarning: overflow encountered in exp\n",
      "  return np.exp(logits)\n",
      "/Users/raphael/Documents/cours/Imperial College/thesis/cgmy_estimation/src/mle.py:51: RuntimeWarning: invalid value encountered in multiply\n",
      "  res *= np.exp(1j * self.mu * u * t)\n",
      "/Users/raphael/Documents/cours/Imperial College/thesis/cgmy_estimation/src/mle.py:52: RuntimeWarning: invalid value encountered in multiply\n",
      "  res *= np.exp(\n",
      "/Users/raphael/Documents/cours/Imperial College/thesis/cgmy_estimation/src/mle.py:46: RuntimeWarning: overflow encountered in exp\n",
      "  return np.exp(logits)\n",
      "/Users/raphael/Documents/cours/Imperial College/thesis/cgmy_estimation/src/mle.py:51: RuntimeWarning: invalid value encountered in multiply\n",
      "  res *= np.exp(1j * self.mu * u * t)\n",
      "/Users/raphael/Documents/cours/Imperial College/thesis/cgmy_estimation/src/mle.py:52: RuntimeWarning: invalid value encountered in multiply\n",
      "  res *= np.exp(\n",
      "/Users/raphael/Documents/cours/Imperial College/thesis/cgmy_estimation/src/mle.py:46: RuntimeWarning: overflow encountered in exp\n",
      "  return np.exp(logits)\n",
      "/Users/raphael/Documents/cours/Imperial College/thesis/cgmy_estimation/src/mle.py:51: RuntimeWarning: invalid value encountered in multiply\n",
      "  res *= np.exp(1j * self.mu * u * t)\n",
      "/Users/raphael/Documents/cours/Imperial College/thesis/cgmy_estimation/src/mle.py:52: RuntimeWarning: invalid value encountered in multiply\n",
      "  res *= np.exp(\n",
      "/Users/raphael/Documents/cours/Imperial College/thesis/cgmy_estimation/src/mle.py:46: RuntimeWarning: overflow encountered in exp\n",
      "  return np.exp(logits)\n",
      "/Users/raphael/Documents/cours/Imperial College/thesis/cgmy_estimation/src/mle.py:51: RuntimeWarning: invalid value encountered in multiply\n",
      "  res *= np.exp(1j * self.mu * u * t)\n",
      "/Users/raphael/Documents/cours/Imperial College/thesis/cgmy_estimation/src/mle.py:52: RuntimeWarning: invalid value encountered in multiply\n",
      "  res *= np.exp(\n",
      "/Users/raphael/Documents/cours/Imperial College/thesis/cgmy_estimation/src/mle.py:46: RuntimeWarning: overflow encountered in exp\n",
      "  return np.exp(logits)\n",
      "/Users/raphael/Documents/cours/Imperial College/thesis/cgmy_estimation/src/mle.py:51: RuntimeWarning: invalid value encountered in multiply\n",
      "  res *= np.exp(1j * self.mu * u * t)\n",
      "/Users/raphael/Documents/cours/Imperial College/thesis/cgmy_estimation/src/mle.py:52: RuntimeWarning: invalid value encountered in multiply\n",
      "  res *= np.exp(\n",
      "/Users/raphael/Documents/cours/Imperial College/thesis/cgmy_estimation/src/mle.py:46: RuntimeWarning: overflow encountered in exp\n",
      "  return np.exp(logits)\n",
      "/Users/raphael/Documents/cours/Imperial College/thesis/cgmy_estimation/src/mle.py:51: RuntimeWarning: invalid value encountered in multiply\n",
      "  res *= np.exp(1j * self.mu * u * t)\n",
      "/Users/raphael/Documents/cours/Imperial College/thesis/cgmy_estimation/src/mle.py:52: RuntimeWarning: invalid value encountered in multiply\n",
      "  res *= np.exp(\n",
      "/Users/raphael/Documents/cours/Imperial College/thesis/cgmy_estimation/src/mle.py:46: RuntimeWarning: overflow encountered in exp\n",
      "  return np.exp(logits)\n",
      "/Users/raphael/Documents/cours/Imperial College/thesis/cgmy_estimation/src/mle.py:51: RuntimeWarning: invalid value encountered in multiply\n",
      "  res *= np.exp(1j * self.mu * u * t)\n",
      "/Users/raphael/Documents/cours/Imperial College/thesis/cgmy_estimation/src/mle.py:52: RuntimeWarning: invalid value encountered in multiply\n",
      "  res *= np.exp(\n",
      "/Users/raphael/Documents/cours/Imperial College/thesis/cgmy_estimation/src/mle.py:46: RuntimeWarning: overflow encountered in exp\n",
      "  return np.exp(logits)\n",
      "/Users/raphael/Documents/cours/Imperial College/thesis/cgmy_estimation/src/mle.py:51: RuntimeWarning: invalid value encountered in multiply\n",
      "  res *= np.exp(1j * self.mu * u * t)\n",
      "/Users/raphael/Documents/cours/Imperial College/thesis/cgmy_estimation/src/mle.py:52: RuntimeWarning: invalid value encountered in multiply\n",
      "  res *= np.exp(\n",
      "/Users/raphael/Documents/cours/Imperial College/thesis/cgmy_estimation/src/mle.py:46: RuntimeWarning: overflow encountered in exp\n",
      "  return np.exp(logits)\n",
      "/Users/raphael/Documents/cours/Imperial College/thesis/cgmy_estimation/src/mle.py:51: RuntimeWarning: invalid value encountered in multiply\n",
      "  res *= np.exp(1j * self.mu * u * t)\n",
      "/Users/raphael/Documents/cours/Imperial College/thesis/cgmy_estimation/src/mle.py:52: RuntimeWarning: invalid value encountered in multiply\n",
      "  res *= np.exp(\n",
      "/Users/raphael/Documents/cours/Imperial College/thesis/cgmy_estimation/src/mle.py:46: RuntimeWarning: overflow encountered in exp\n",
      "  return np.exp(logits)\n",
      "/Users/raphael/Documents/cours/Imperial College/thesis/cgmy_estimation/src/mle.py:51: RuntimeWarning: invalid value encountered in multiply\n",
      "  res *= np.exp(1j * self.mu * u * t)\n",
      "/Users/raphael/Documents/cours/Imperial College/thesis/cgmy_estimation/src/mle.py:52: RuntimeWarning: invalid value encountered in multiply\n",
      "  res *= np.exp(\n",
      "/Users/raphael/Documents/cours/Imperial College/thesis/cgmy_estimation/src/mle.py:46: RuntimeWarning: overflow encountered in exp\n",
      "  return np.exp(logits)\n",
      "/Users/raphael/Documents/cours/Imperial College/thesis/cgmy_estimation/src/mle.py:51: RuntimeWarning: invalid value encountered in multiply\n",
      "  res *= np.exp(1j * self.mu * u * t)\n",
      "/Users/raphael/Documents/cours/Imperial College/thesis/cgmy_estimation/src/mle.py:52: RuntimeWarning: invalid value encountered in multiply\n",
      "  res *= np.exp(\n",
      "/Users/raphael/Documents/cours/Imperial College/thesis/cgmy_estimation/src/mle.py:46: RuntimeWarning: overflow encountered in exp\n",
      "  return np.exp(logits)\n",
      "/Users/raphael/Documents/cours/Imperial College/thesis/cgmy_estimation/src/mle.py:51: RuntimeWarning: invalid value encountered in multiply\n",
      "  res *= np.exp(1j * self.mu * u * t)\n",
      "/Users/raphael/Documents/cours/Imperial College/thesis/cgmy_estimation/src/mle.py:52: RuntimeWarning: invalid value encountered in multiply\n",
      "  res *= np.exp(\n",
      "/Users/raphael/Documents/cours/Imperial College/thesis/cgmy_estimation/src/mle.py:46: RuntimeWarning: overflow encountered in exp\n",
      "  return np.exp(logits)\n",
      "/Users/raphael/Documents/cours/Imperial College/thesis/cgmy_estimation/src/mle.py:51: RuntimeWarning: invalid value encountered in multiply\n",
      "  res *= np.exp(1j * self.mu * u * t)\n",
      "/Users/raphael/Documents/cours/Imperial College/thesis/cgmy_estimation/src/mle.py:52: RuntimeWarning: invalid value encountered in multiply\n",
      "  res *= np.exp(\n",
      "/Users/raphael/Documents/cours/Imperial College/thesis/cgmy_estimation/src/mle.py:46: RuntimeWarning: overflow encountered in exp\n",
      "  return np.exp(logits)\n",
      "/Users/raphael/Documents/cours/Imperial College/thesis/cgmy_estimation/src/mle.py:51: RuntimeWarning: invalid value encountered in multiply\n",
      "  res *= np.exp(1j * self.mu * u * t)\n",
      "/Users/raphael/Documents/cours/Imperial College/thesis/cgmy_estimation/src/mle.py:52: RuntimeWarning: invalid value encountered in multiply\n",
      "  res *= np.exp(\n"
     ]
    }
   ],
   "source": [
    "aapl_30_sec, mle_aapl_30_sec = mle_orderbook(\n",
    "    \"30s\", n=50, boundaries_min=[5e-9, 1, 1, -5, 1e-8]\n",
    ")"
   ]
  },
  {
   "cell_type": "code",
   "execution_count": null,
   "id": "1d6dedf9",
   "metadata": {},
   "outputs": [
    {
     "data": {
      "text/plain": [
       "array([[ 1.0265e-08,  4.6876e+02,  2.7011e+02,  1.9000e+00,  1.5871e-04,\n",
       "        -1.0012e+05],\n",
       "       [ 1.2793e+01,  1.4078e+02,  1.6068e+02, -1.4300e+00,  3.6639e-04,\n",
       "        -9.9850e+04],\n",
       "       [ 5.8350e+01,  1.8454e+02,  1.7801e+02, -1.6895e+00,  3.6826e-04,\n",
       "        -9.9832e+04],\n",
       "       [ 6.9057e+01,  1.8671e+02,  1.2586e+02, -1.8247e+00,  3.7248e-04,\n",
       "        -9.9760e+04],\n",
       "       [ 2.6535e+01,  1.2117e+02,  1.2849e+02, -1.6823e+00,  3.7231e-04,\n",
       "        -9.9759e+04]])"
      ]
     },
     "execution_count": 137,
     "metadata": {},
     "output_type": "execute_result"
    }
   ],
   "source": [
    "mle_aapl_30_sec[:5]"
   ]
  },
  {
   "cell_type": "code",
   "execution_count": null,
   "id": "dd0d512f",
   "metadata": {},
   "outputs": [],
   "source": [
    "np.savetxt(\"../fits/aapl_30_s.csv\", mle_aapl_30_sec)"
   ]
  },
  {
   "cell_type": "code",
   "execution_count": null,
   "id": "086cc8a8",
   "metadata": {},
   "outputs": [
    {
     "data": {
      "text/plain": [
       "np.float64(7.063508014333635)"
      ]
     },
     "execution_count": 157,
     "metadata": {},
     "output_type": "execute_result"
    }
   ],
   "source": [
    "pricing_chara(\n",
    "    S=205.17,\n",
    "    K=215,\n",
    "    T=10920,\n",
    "    r=0.04 / 252 / 780,\n",
    "    params=[2.2543e01, 5.8901e02, 2.0319e02, -1.3073e00, 3.5624e-04],\n",
    ")"
   ]
  },
  {
   "cell_type": "code",
   "execution_count": null,
   "id": "af8ba077",
   "metadata": {},
   "outputs": [
    {
     "data": {
      "text/plain": [
       "[<matplotlib.lines.Line2D at 0x11e9c6d50>]"
      ]
     },
     "execution_count": 78,
     "metadata": {},
     "output_type": "execute_result"
    },
    {
     "data": {
      "image/png": "[encoded data removed]",
      "text/plain": [
       "<Figure size 640x480 with 1 Axes>"
      ]
     },
     "metadata": {},
     "output_type": "display_data"
    }
   ],
   "source": [
    "plt.hist(aapl_30_sec, density=True, bins=60)\n",
    "x, pdf = CGMY(\n",
    "    aapl_30_sec, mle_aapl_30_sec_2[0][:-1], adjust_L=True\n",
    ").compute_pdf_from_cf()\n",
    "plt.plot(x, pdf)"
   ]
  },
  {
   "cell_type": "markdown",
   "id": "d16297e3",
   "metadata": {},
   "source": [
    "60s"
   ]
  },
  {
   "cell_type": "code",
   "execution_count": null,
   "id": "504fb4c5",
   "metadata": {},
   "outputs": [],
   "source": [
    "aapl_60_sec, mle_aapl_60_sec = mle_orderbook(\n",
    "    \"60s\", n=50, boundaries_min=[1e-8, 1, 1, -5, 1e-7]\n",
    ")"
   ]
  },
  {
   "cell_type": "code",
   "execution_count": null,
   "id": "5484e521",
   "metadata": {},
   "outputs": [
    {
     "data": {
      "text/plain": [
       "array([[ 1.3365e-08,  8.2181e+01,  4.3290e+01,  1.9000e+00,  3.1919e-04,\n",
       "        -4.7494e+04],\n",
       "       [ 6.9112e+01,  2.5973e+02,  6.7499e+02, -1.3837e+00,  4.7780e-04,\n",
       "        -4.7480e+04],\n",
       "       [ 1.2934e+01,  1.4078e+02,  1.6072e+02, -1.3580e+00,  4.9442e-04,\n",
       "        -4.7396e+04],\n",
       "       [ 1.7113e+01,  1.8703e+02,  9.3405e+01, -1.5064e+00,  5.0211e-04,\n",
       "        -4.7346e+04],\n",
       "       [ 5.3193e+01,  1.5178e+02,  1.2860e+02, -1.7123e+00,  5.0468e-04,\n",
       "        -4.7335e+04]])"
      ]
     },
     "execution_count": 136,
     "metadata": {},
     "output_type": "execute_result"
    }
   ],
   "source": [
    "mle_aapl_60_sec[:5]"
   ]
  },
  {
   "cell_type": "code",
   "execution_count": null,
   "id": "9f067822",
   "metadata": {},
   "outputs": [],
   "source": [
    "np.savetxt(\"../fits/aapl_60_s.csv\", mle_aapl_60_sec)"
   ]
  },
  {
   "cell_type": "code",
   "execution_count": null,
   "id": "ffc1c510",
   "metadata": {},
   "outputs": [
    {
     "data": {
      "text/plain": [
       "np.float64(7.356056437449979)"
      ]
     },
     "execution_count": 163,
     "metadata": {},
     "output_type": "execute_result"
    }
   ],
   "source": [
    "pricing_chara(\n",
    "    S=205.17,\n",
    "    K=200,\n",
    "    T=5460,\n",
    "    r=0.04 / 252 / 390,\n",
    "    params=[1.0000e-03, 7.8505e02, 7.0369e02, 7.3060e-01, 1.5407e-04],\n",
    ")"
   ]
  },
  {
   "cell_type": "code",
   "execution_count": null,
   "id": "77f6869c",
   "metadata": {},
   "outputs": [
    {
     "data": {
      "text/plain": [
       "[<matplotlib.lines.Line2D at 0x12f8160d0>]"
      ]
     },
     "execution_count": 87,
     "metadata": {},
     "output_type": "execute_result"
    },
    {
     "data": {
      "image/png": "[encoded data removed]",
      "text/plain": [
       "<Figure size 640x480 with 1 Axes>"
      ]
     },
     "metadata": {},
     "output_type": "display_data"
    }
   ],
   "source": [
    "plt.hist(aapl_60_sec, density=True, bins=60)\n",
    "x, pdf = CGMY(\n",
    "    aapl_60_sec, mle_aapl_60_sec[2][:-1], adjust_L=False\n",
    ").compute_pdf_from_cf()\n",
    "plt.plot(x, pdf)"
   ]
  },
  {
   "cell_type": "markdown",
   "id": "cf2db928",
   "metadata": {},
   "source": [
    "10 Min"
   ]
  },
  {
   "cell_type": "code",
   "execution_count": null,
   "id": "3da57e18",
   "metadata": {},
   "outputs": [],
   "source": [
    "aapl_600_sec, mle_aapl_600_sec = mle_orderbook(\n",
    "    \"600s\", n=50, boundaries_min=[1e-7, 1, 1, -5, 1e-7]\n",
    ")"
   ]
  },
  {
   "cell_type": "code",
   "execution_count": 130,
   "id": "0b41c698",
   "metadata": {},
   "outputs": [
    {
     "data": {
      "text/plain": [
       "array([[ 7.5425e-01,  4.0617e+02,  3.2616e+02, -2.3438e-01,  1.0407e-03,\n",
       "        -3.9404e+03],\n",
       "       [ 3.4350e+00,  1.8645e+02,  9.2433e+01, -9.8240e-01,  1.4590e-03,\n",
       "        -3.9263e+03],\n",
       "       [ 6.9171e+01,  1.8608e+02,  1.2419e+02, -1.5945e+00,  1.4928e-03,\n",
       "        -3.9233e+03],\n",
       "       [ 1.7126e+02,  1.6673e+02,  1.5064e+02, -1.7660e+00,  1.4963e-03,\n",
       "        -3.9228e+03],\n",
       "       [ 3.4010e+01,  1.2341e+02,  1.2836e+02, -1.5033e+00,  1.4981e-03,\n",
       "        -3.9217e+03]])"
      ]
     },
     "execution_count": 130,
     "metadata": {},
     "output_type": "execute_result"
    }
   ],
   "source": [
    "mle_aapl_600_sec[:5]"
   ]
  },
  {
   "cell_type": "code",
   "execution_count": 131,
   "id": "3edfba95",
   "metadata": {},
   "outputs": [],
   "source": [
    "np.savetxt(\"../fits/aapl_600_s.csv\", mle_aapl_600_sec)"
   ]
  },
  {
   "cell_type": "code",
   "execution_count": 134,
   "id": "8d67f7a1",
   "metadata": {},
   "outputs": [
    {
     "data": {
      "text/plain": [
       "[<matplotlib.lines.Line2D at 0x12c15f750>]"
      ]
     },
     "execution_count": 134,
     "metadata": {},
     "output_type": "execute_result"
    },
    {
     "data": {
      "image/png": "[encoded data removed]",
      "text/plain": [
       "<Figure size 640x480 with 1 Axes>"
      ]
     },
     "metadata": {},
     "output_type": "display_data"
    }
   ],
   "source": [
    "plt.hist(aapl_600_sec, density=True, bins=40)\n",
    "x, pdf = CGMY(\n",
    "    aapl_600_sec, mle_aapl_600_sec[0][:-1], adjust_L=False\n",
    ").compute_pdf_from_cf()\n",
    "plt.plot(x, pdf)"
   ]
  },
  {
   "cell_type": "markdown",
   "id": "b587e614",
   "metadata": {},
   "source": [
    "Variance Gamma"
   ]
  },
  {
   "cell_type": "code",
   "execution_count": null,
   "id": "13e909a5",
   "metadata": {},
   "outputs": [],
   "source": [
    "from scipy.special import gamma\n",
    "\n",
    "\n",
    "class CGMY2:\n",
    "    def __init__(self, data, params, adjust_L=False, N=2**17):\n",
    "        self.data = data\n",
    "        self.adjust_L = adjust_L\n",
    "\n",
    "        # Unpack the model parameters\n",
    "        self.c, self.g, self.m, self.sigma = params\n",
    "        self.y = 0.0001\n",
    "        self.mu = 0\n",
    "\n",
    "        self.N = N\n",
    "        # Ensure the high-density regions are contained in the grid\n",
    "        self.L = 2.5 * np.max(np.abs(self.data))\n",
    "\n",
    "        if self.c < 0 or self.g < 0 or self.m < 0 or self.sigma < 0:\n",
    "            raise ValueError(\"Parameters c, g, m and sigma must be positive.\")\n",
    "\n",
    "        if self.y > 2:\n",
    "            raise ValueError(\"Parameter y must be less than 2.\")\n",
    "\n",
    "        # Store to avoid several computations\n",
    "        self.m_power_y = self.m**self.y\n",
    "        self.g_power_y = self.g**self.y\n",
    "        self.gamma_y = gamma(-self.y)\n",
    "        self.mult_cst = self.c * self.gamma_y\n",
    "\n",
    "        # map the data to its grid interval\n",
    "        self.density = pd.DataFrame({\"rets\": self.data})\n",
    "        self.density[\"interval\"] = ((self.data + self.L / 2) * self.N / self.L).astype(\n",
    "            \"int32\"\n",
    "        )\n",
    "\n",
    "        # Initialize the log-likelihood\n",
    "        self.l = None\n",
    "\n",
    "    def chara_jump(self, u, t=1):\n",
    "        # Characteristic function of the jump part\n",
    "        logits = (self.m - 1j * u) ** self.y + (self.g + 1j * u) ** self.y\n",
    "        logits -= self.m_power_y + self.g_power_y\n",
    "        logits *= t * self.mult_cst\n",
    "        return np.exp(logits)\n",
    "\n",
    "    def chara(self, u, t=1):\n",
    "        # Full Characteristic function\n",
    "        res = self.chara_jump(u, t)\n",
    "        res *= np.exp(1j * self.mu * u * t)\n",
    "        res *= np.exp(\n",
    "            -0.5 * t * (self.sigma * u) ** 2\n",
    "        )  # include Brownian Motion component\n",
    "        return res\n",
    "\n",
    "    # Use of FFT take from chatgpt\n",
    "    def compute_pdf_from_cf(self, N=None, L=None, t=1):\n",
    "        \"\"\"\n",
    "        Compute PDF from characteristic function using FFT.\n",
    "        N: Number of grid points (power of 2 for FFT efficiency).\n",
    "        L: Length of the real grid domain\n",
    "        t: time of the process\n",
    "        \"\"\"\n",
    "        if self.adjust_L:\n",
    "            self.L = 2.5 * max(\n",
    "                np.max(np.abs(self.data)),\n",
    "                np.abs(self.mean(t)) + 3 * np.sqrt(self.var(t)),\n",
    "            )\n",
    "\n",
    "        if N is None:\n",
    "            N = self.N\n",
    "        if L is None:\n",
    "            L = self.L\n",
    "\n",
    "        ## Frequency domain grid\n",
    "        f_max = np.pi * N / L  # Maximum frequency\n",
    "        f = np.linspace(-f_max, f_max, N, endpoint=False)\n",
    "        # Evaluate characteristic function\n",
    "        phi = self.chara(f, t=t)\n",
    "        # Apply FFT\n",
    "        pdf = np.fft.fft(np.fft.fftshift(phi))\n",
    "        # Adjust for scaling and shift\n",
    "        pdf = np.fft.ifftshift(pdf) / L\n",
    "        # x-axis for PDF\n",
    "        x = np.linspace(-L / 2, L / 2, N, endpoint=False)\n",
    "        return x, np.maximum(\n",
    "            np.real(pdf), 1e-300\n",
    "        )  # Return real part to avoid numerical noise\n",
    "\n",
    "    def log_lik(self, periods=1):\n",
    "        _, pdf = self.compute_pdf_from_cf(t=1 / periods)\n",
    "        self.density[\"pdf\"] = pdf[self.density[\"interval\"]]\n",
    "        self.l = np.sum(np.log(self.density[\"pdf\"]))\n",
    "\n",
    "        return self.l\n",
    "\n",
    "    def compute_density(self, x, t=1):\n",
    "        \"\"\"\n",
    "        Function to compute the true density of the process at time t\n",
    "        Involves numerical integration and Fourier inversion.\n",
    "        \"\"\"\n",
    "\n",
    "        # Compute Fourier transform to retrieve the density\n",
    "        def integrand(u):\n",
    "            return np.exp(-1j * x * u) * self.chara(u=u, t=t)\n",
    "\n",
    "        res, _ = quad(integrand, -np.inf, np.inf)\n",
    "        return res / (2 * np.pi)\n",
    "\n",
    "    def sample_cgmy_negative(self, n, t=1):\n",
    "        \"\"\"\n",
    "        Sample from the Compound Poisson Process at time t when Y < 0\n",
    "        \"\"\"\n",
    "\n",
    "        # unit rate of the Poisson Process\n",
    "        _lambda = self.c * gamma(-self.y) * (self.g**self.y + self.m**self.y)\n",
    "        # rate of the Poisson Process at time t\n",
    "        rate = _lambda * t\n",
    "\n",
    "        # weight of the firtst mixture component\n",
    "        p = self.g**self.y / (self.g**self.y + self.m**self.y)\n",
    "\n",
    "        samples = []\n",
    "        for i in range(n):\n",
    "            x = 0\n",
    "            nb = np.random.poisson(lam=rate)  # number of jump variables\n",
    "            for j in range(nb):\n",
    "                if np.random.uniform() < p:  # sample from the first mixture component\n",
    "                    x -= np.random.gamma(\n",
    "                        shape=-self.y, scale=1 / self.g\n",
    "                    )  # opposite of sample from a gamma distribution\n",
    "                else:  # sample from the second mixture component\n",
    "                    x += np.random.gamma(shape=-self.y, scale=1 / self.m)\n",
    "            samples.append(x)\n",
    "\n",
    "        return samples\n",
    "\n",
    "    def sample_cgmy_positive(self, n, L, N, t=1, sigma_prop=0.1):\n",
    "        \"\"\"\n",
    "        Sample from CGMY at time t when Y > 0\n",
    "        \"\"\"\n",
    "        _, pdf = self.compute_pdf_from_cf(N=N, L=L, t=t)\n",
    "\n",
    "        # Set initial value of the chain\n",
    "        curr = np.random.normal(0, sigma_prop)\n",
    "        # Find its corresponding grid point\n",
    "        ix_curr = np.int64((curr + L / 2) * N / L)\n",
    "        # Find its corresponding pdf\n",
    "        log_pdf_curr = np.log(pdf[ix_curr])\n",
    "        samples = [curr]\n",
    "\n",
    "        # Run the chain\n",
    "        for i in range(n - 1):\n",
    "            # Proposal\n",
    "            prop = samples[-1] + np.random.normal(0, sigma_prop)\n",
    "            # Find proposal grid point\n",
    "            ix_prop = np.int64((prop + L / 2) * N / L)\n",
    "            # Find proposal pdf and compte acceptance log ratio\n",
    "            r = np.log(pdf[ix_prop]) - log_pdf_curr\n",
    "            if np.log(np.random.uniform()) < r:  # accept proposal and update\n",
    "                curr = prop\n",
    "                ix_curr = ix_prop\n",
    "                log_pdf_curr = np.log(pdf[ix_curr])\n",
    "            samples.append(curr)\n",
    "\n",
    "        return samples\n",
    "\n",
    "    def sample(self, n, L=None, N=None, t=1, sigma_prop=0.1):\n",
    "        \"\"\"\n",
    "        Sample CGMY + W at time t\n",
    "        \"\"\"\n",
    "        if L is None:\n",
    "            L = self.L\n",
    "        if N is None:\n",
    "            N = self.N\n",
    "\n",
    "        if self.y > 0:\n",
    "            samples = self.sample_cgmy_positive(n, L, N, t, sigma_prop)\n",
    "        else:\n",
    "            samples = self.sample_cgmy_negative(n, t)\n",
    "\n",
    "        samples = np.array(samples)\n",
    "        samples = (\n",
    "            samples\n",
    "            + self.mu * t\n",
    "            + np.sqrt(t) * self.sigma * np.random.normal(0, 1, size=n)\n",
    "        )\n",
    "\n",
    "        return samples\n",
    "\n",
    "    def mean(self, t=1):\n",
    "        return (\n",
    "            self.c\n",
    "            * t\n",
    "            * gamma(1 - self.y)\n",
    "            * (self.m ** (self.y - 1) - self.g ** (self.y - 1))\n",
    "        )\n",
    "\n",
    "    def var(self, t=1):\n",
    "        return (\n",
    "            self.c\n",
    "            * t\n",
    "            * (self.m ** (self.y - 2) + self.g ** (self.y - 2))\n",
    "            * gamma(2 - self.y)\n",
    "            + t * self.sigma**2\n",
    "        )\n",
    "\n",
    "\n",
    "def negative_log_lik2(params, data, periods=1):\n",
    "    cgmy = CGMY2(data, params, adjust_L=True)\n",
    "    return -cgmy.log_lik(periods=periods)"
   ]
  },
  {
   "cell_type": "code",
   "execution_count": null,
   "id": "39dac9a4",
   "metadata": {},
   "outputs": [],
   "source": [
    "def optim_parall2(data, periods=1, seed=123):\n",
    "    np.random.seed(seed)\n",
    "    c = np.random.uniform(1e-5, 200)\n",
    "    g = np.random.uniform(1, 200)\n",
    "    m = np.random.uniform(1, 200)\n",
    "    sigma = np.random.uniform(1e-5, 0.1)\n",
    "    res = minimize(\n",
    "        lambda x: negative_log_lik2(x, data, periods),\n",
    "        x0=[c, g, m, sigma],\n",
    "        bounds=[\n",
    "            (1e-3, np.inf),\n",
    "            (1, np.inf),\n",
    "            (1, np.inf),\n",
    "            (1e-5, 0.1),\n",
    "        ],\n",
    "    )\n",
    "\n",
    "    return res"
   ]
  },
  {
   "cell_type": "code",
   "execution_count": null,
   "id": "4abaa413",
   "metadata": {},
   "outputs": [],
   "source": [
    "def mle_orderbook2(freq, n=50):\n",
    "    aapl_freq = load_orderbook_trades(freq)\n",
    "\n",
    "    master_seed = 42\n",
    "    rng = np.random.default_rng(master_seed)\n",
    "    seeds = rng.integers(0, 2**32, size=n)\n",
    "\n",
    "    results_aapl_freq = Parallel(n_jobs=-1)(\n",
    "        delayed(optim_parall2)(aapl_freq, seed=seed) for seed in seeds\n",
    "    )\n",
    "    mle_aapl_freq = np.array(\n",
    "        [np.concat([res.x, [res.fun]]) for res in results_aapl_freq]\n",
    "    )\n",
    "    mle_aapl_freq = mle_aapl_freq[mle_aapl_freq[:, 4].argsort()]\n",
    "\n",
    "    return aapl_freq, mle_aapl_freq"
   ]
  },
  {
   "cell_type": "code",
   "execution_count": 130,
   "id": "14d774db",
   "metadata": {},
   "outputs": [],
   "source": [
    "aapl_600_sec, mle_aapl_600_sec = mle_orderbook2(\"900s\", n=50)"
   ]
  },
  {
   "cell_type": "code",
   "execution_count": null,
   "id": "a7cc99e5",
   "metadata": {},
   "outputs": [
    {
     "data": {
      "text/plain": [
       "[<matplotlib.lines.Line2D at 0x1586cfd90>]"
      ]
     },
     "execution_count": 132,
     "metadata": {},
     "output_type": "execute_result"
    },
    {
     "data": {
      "image/png": "[encoded data removed]",
      "text/plain": [
       "<Figure size 640x480 with 1 Axes>"
      ]
     },
     "metadata": {},
     "output_type": "display_data"
    }
   ],
   "source": [
    "x, pdf = CGMY2(\n",
    "    aapl_600_sec, mle_aapl_600_sec[0][:-1], adjust_L=True\n",
    ").compute_pdf_from_cf()\n",
    "plt.hist(aapl_600_sec, density=True, bins=60)\n",
    "plt.plot(x, pdf)"
   ]
  },
  {
   "cell_type": "code",
   "execution_count": 105,
   "id": "31d93f44",
   "metadata": {},
   "outputs": [
    {
     "data": {
      "text/plain": [
       "array([[ 3.5926e-01,  3.3299e+02,  3.8961e+02,  1.0000e-05, -3.9867e+03],\n",
       "       [ 3.2701e-01,  3.4692e+02,  2.6620e+02,  1.0000e-05, -3.9789e+03],\n",
       "       [ 3.0754e-01,  3.1367e+02,  2.3726e+02,  1.0000e-05, -3.9722e+03],\n",
       "       [ 3.3388e-01,  4.0111e+02,  2.4528e+02,  1.0000e-05, -3.9707e+03],\n",
       "       [ 3.4199e-01,  4.7880e+02,  2.3129e+02,  1.0000e-05, -3.9554e+03],\n",
       "       [ 1.0483e-01,  2.5730e+02,  2.2394e+02,  1.1145e-03, -3.9408e+03],\n",
       "       [ 3.9569e-02,  1.8634e+02,  9.4315e+01,  1.3034e-03, -3.9362e+03],\n",
       "       [ 1.8498e-02,  6.1151e+01,  6.2182e+01,  1.3869e-03, -3.9311e+03],\n",
       "       [ 2.9589e-01,  1.6198e+02,  4.5155e+02,  1.0000e-05, -3.9255e+03],\n",
       "       [ 3.2259e-01,  2.3376e+02,  1.3031e+02,  1.0000e-05, -3.8974e+03],\n",
       "       [ 2.1275e-01,  1.1518e+02,  1.3222e+02,  1.0000e-05, -3.8864e+03],\n",
       "       [ 2.0620e-01,  1.0071e+02,  1.2822e+02,  1.0000e-05, -3.8738e+03],\n",
       "       [ 1.9150e-01,  7.2328e+01,  1.8875e+02,  1.0000e-05, -3.8589e+03],\n",
       "       [ 5.0932e+01,  1.7977e+02,  1.6885e+02,  1.0000e-05, -1.4590e+03],\n",
       "       [ 1.7067e+02,  1.6052e+02,  1.6101e+02,  1.0000e-05, -9.5447e+02],\n",
       "       [ 1.8800e+02,  1.0628e+02,  1.0654e+02,  1.0000e-05, -5.8619e+02],\n",
       "       [ 5.4914e+01,  1.3472e+02,  1.0323e+02,  8.8842e-02, -4.6927e+02],\n",
       "       [ 1.6239e+02,  1.2363e+02,  1.3985e+02,  8.2396e-02, -2.9816e+02],\n",
       "       [ 1.4982e+02,  8.2234e+01,  8.9030e+01,  1.7241e-02, -2.9169e+02],\n",
       "       [ 1.5617e+02,  5.7790e+01,  6.2955e+01,  2.4917e-02,  4.6318e+01],\n",
       "       [ 5.6534e+01,  1.1436e+02,  8.0520e+01,  1.0000e-01,  5.3820e+01],\n",
       "       [ 1.6104e+01,  8.9061e+01,  3.8482e+01,  1.0000e-01,  3.0542e+02],\n",
       "       [ 6.9182e+01,  1.8608e+02,  1.2418e+02,  5.1054e-02,  4.8783e+02],\n",
       "       [ 8.2501e+01,  1.1380e+02,  1.6356e+02,  3.2764e-02,  9.1029e+02],\n",
       "       [ 1.4479e+02,  1.6357e+02,  1.1808e+02,  4.0692e-02,  1.9658e+03],\n",
       "       [ 9.4800e+01,  1.2139e+02,  1.9268e+02,  4.3871e-02,  2.2401e+03],\n",
       "       [ 4.0947e+01,  8.1387e+01,  1.9937e+02,  8.8756e-03,  4.9993e+03],\n",
       "       [ 4.3094e+01,  9.8469e+01,  3.5112e+01,  2.8562e-02,  7.9068e+03],\n",
       "       [ 1.3381e+02,  5.5781e+01,  3.2239e+01,  2.6363e-02,  8.0413e+03],\n",
       "       [ 1.1647e+02,  6.9579e+01,  1.4189e+02,  8.5982e-02,  8.1959e+03],\n",
       "       [ 2.7350e+01,  2.4953e+01,  1.8866e+02,  6.6973e-02,  1.1908e+04],\n",
       "       [ 7.1912e+01,  1.5256e+02,  3.6377e+01,  1.2387e-02,  1.8431e+04],\n",
       "       [ 1.5815e+02,  1.7853e+01,  1.4112e+02,  5.0836e-02,  2.0003e+04],\n",
       "       [ 8.8921e+01,  1.5492e+02,  1.2186e+01,  1.5254e-02,  2.2728e+04],\n",
       "       [ 1.7545e+02,  1.1143e+02,  1.0434e+01,  2.6593e-02,  2.3696e+04],\n",
       "       [ 7.5962e+01,  1.3354e+02,  5.0699e+00,  9.8767e-02,  2.9464e+04],\n",
       "       [ 1.9838e+02,  1.7610e+02,  1.3447e+01,  8.9592e-02,  3.5279e+04],\n",
       "       [ 4.3283e+01,  9.3839e+01,  6.0391e+00,  9.3842e-02,  5.1485e+04],\n",
       "       [ 1.8180e+02,  1.5610e+02,  7.7719e+01,  3.5022e-02,  6.5551e+04],\n",
       "       [ 9.8581e+01,  4.8993e+00,  1.8929e+01,  8.4743e-02,  6.8741e+04],\n",
       "       [ 1.9345e+02,  2.9647e+01,  1.3473e+02,  4.0192e-02,  6.9852e+04],\n",
       "       [ 5.1648e+01,  1.9489e+01,  1.2429e+02,  1.0350e-02,  9.0611e+04],\n",
       "       [ 1.3802e+01,  3.6189e+00,  1.1391e+02,  3.4819e-02,  2.1773e+05],\n",
       "       [ 1.5252e+02,  5.4719e+01,  1.2443e+01,  8.5662e-02,  2.5279e+05],\n",
       "       [ 1.3208e+02,  2.3736e+01,  6.8101e+01,  9.5550e-02,  4.4358e+05],\n",
       "       [ 8.2320e+01,  1.3109e+02,  4.6387e+00,  7.4613e-03,  4.5412e+05],\n",
       "       [ 9.1124e+01,  1.4233e+02,  2.1610e+01,  4.0863e-02,  5.3182e+05],\n",
       "       [ 1.8325e+02,  1.2219e+02,  1.0904e+01,  3.0048e-03,  5.3788e+05],\n",
       "       [ 1.3745e+02,  1.9318e+02,  1.0490e+01,  6.5988e-02,  5.3988e+05],\n",
       "       [ 1.0308e+02,  1.9188e+02,  2.6839e+01,  2.3141e-02,  5.4247e+05]])"
      ]
     },
     "execution_count": 105,
     "metadata": {},
     "output_type": "execute_result"
    }
   ],
   "source": [
    "mle_aapl_600_sec"
   ]
  }
 ],
 "metadata": {
  "kernelspec": {
   "display_name": ".venv",
   "language": "python",
   "name": "python3"
  },
  "language_info": {
   "codemirror_mode": {
    "name": "ipython",
    "version": 3
   },
   "file_extension": ".py",
   "mimetype": "text/x-python",
   "name": "python",
   "nbconvert_exporter": "python",
   "pygments_lexer": "ipython3",
   "version": "3.13.2"
  }
 },
 "nbformat": 4,
 "nbformat_minor": 5
}
